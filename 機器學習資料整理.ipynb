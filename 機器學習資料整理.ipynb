{
 "cells": [
  {
   "cell_type": "code",
   "execution_count": 1,
   "metadata": {
    "colab": {
     "base_uri": "https://localhost:8080/",
     "height": 75,
     "resources": {
      "http://localhost:8080/nbextensions/google.colab/files.js": {
       "data": "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",
       "headers": [
        [
         "content-type",
         "application/javascript"
        ]
       ],
       "ok": true,
       "status": 200,
       "status_text": ""
      }
     }
    },
    "id": "2elKZ1g-W-MI",
    "outputId": "582bfee4-dbc0-4d20-8a19-276e12f8594e"
   },
   "outputs": [
    {
     "ename": "ModuleNotFoundError",
     "evalue": "No module named 'google.colab'",
     "output_type": "error",
     "traceback": [
      "\u001b[0;31m---------------------------------------------------------------------------\u001b[0m",
      "\u001b[0;31mModuleNotFoundError\u001b[0m                       Traceback (most recent call last)",
      "\u001b[0;32m<ipython-input-1-72edf3658aa1>\u001b[0m in \u001b[0;36m<module>\u001b[0;34m\u001b[0m\n\u001b[0;32m----> 1\u001b[0;31m \u001b[0;32mfrom\u001b[0m \u001b[0mgoogle\u001b[0m\u001b[0;34m.\u001b[0m\u001b[0mcolab\u001b[0m \u001b[0;32mimport\u001b[0m \u001b[0mfiles\u001b[0m\u001b[0;34m\u001b[0m\u001b[0;34m\u001b[0m\u001b[0m\n\u001b[0m\u001b[1;32m      2\u001b[0m \u001b[0;34m\u001b[0m\u001b[0m\n\u001b[1;32m      3\u001b[0m \u001b[0muploaded\u001b[0m \u001b[0;34m=\u001b[0m \u001b[0mfiles\u001b[0m\u001b[0;34m.\u001b[0m\u001b[0mupload\u001b[0m\u001b[0;34m(\u001b[0m\u001b[0;34m)\u001b[0m\u001b[0;34m\u001b[0m\u001b[0;34m\u001b[0m\u001b[0m\n",
      "\u001b[0;31mModuleNotFoundError\u001b[0m: No module named 'google.colab'"
     ]
    }
   ],
   "source": [
    "from google.colab import files\n",
    "\n",
    "uploaded = files.upload()\n"
   ]
  },
  {
   "cell_type": "code",
   "execution_count": 1,
   "metadata": {
    "colab": {
     "base_uri": "https://localhost:8080/",
     "height": 195
    },
    "id": "IXPwE3g5TnJs",
    "outputId": "651bb93f-de77-44bf-d895-64a322823e68"
   },
   "outputs": [
    {
     "data": {
      "text/html": [
       "<div>\n",
       "<style scoped>\n",
       "    .dataframe tbody tr th:only-of-type {\n",
       "        vertical-align: middle;\n",
       "    }\n",
       "\n",
       "    .dataframe tbody tr th {\n",
       "        vertical-align: top;\n",
       "    }\n",
       "\n",
       "    .dataframe thead th {\n",
       "        text-align: right;\n",
       "    }\n",
       "</style>\n",
       "<table border=\"1\" class=\"dataframe\">\n",
       "  <thead>\n",
       "    <tr style=\"text-align: right;\">\n",
       "      <th></th>\n",
       "      <th>score</th>\n",
       "      <th>BA</th>\n",
       "      <th>H</th>\n",
       "      <th>RBI</th>\n",
       "      <th>BB</th>\n",
       "      <th>k</th>\n",
       "      <th>SB</th>\n",
       "      <th>holds</th>\n",
       "      <th>avgR</th>\n",
       "      <th>ER</th>\n",
       "      <th>bb</th>\n",
       "      <th>SO</th>\n",
       "      <th>nHR</th>\n",
       "    </tr>\n",
       "  </thead>\n",
       "  <tbody>\n",
       "    <tr>\n",
       "      <th>0</th>\n",
       "      <td>4</td>\n",
       "      <td>35</td>\n",
       "      <td>9</td>\n",
       "      <td>4</td>\n",
       "      <td>4</td>\n",
       "      <td>5</td>\n",
       "      <td>1</td>\n",
       "      <td>9</td>\n",
       "      <td>4</td>\n",
       "      <td>4</td>\n",
       "      <td>4</td>\n",
       "      <td>5</td>\n",
       "      <td>1</td>\n",
       "    </tr>\n",
       "    <tr>\n",
       "      <th>1</th>\n",
       "      <td>3</td>\n",
       "      <td>33</td>\n",
       "      <td>7</td>\n",
       "      <td>2</td>\n",
       "      <td>1</td>\n",
       "      <td>2</td>\n",
       "      <td>1</td>\n",
       "      <td>7</td>\n",
       "      <td>3</td>\n",
       "      <td>1</td>\n",
       "      <td>1</td>\n",
       "      <td>2</td>\n",
       "      <td>0</td>\n",
       "    </tr>\n",
       "    <tr>\n",
       "      <th>2</th>\n",
       "      <td>1</td>\n",
       "      <td>32</td>\n",
       "      <td>6</td>\n",
       "      <td>1</td>\n",
       "      <td>5</td>\n",
       "      <td>6</td>\n",
       "      <td>1</td>\n",
       "      <td>6</td>\n",
       "      <td>1</td>\n",
       "      <td>1</td>\n",
       "      <td>5</td>\n",
       "      <td>6</td>\n",
       "      <td>1</td>\n",
       "    </tr>\n",
       "    <tr>\n",
       "      <th>3</th>\n",
       "      <td>3</td>\n",
       "      <td>28</td>\n",
       "      <td>4</td>\n",
       "      <td>2</td>\n",
       "      <td>4</td>\n",
       "      <td>5</td>\n",
       "      <td>0</td>\n",
       "      <td>4</td>\n",
       "      <td>3</td>\n",
       "      <td>3</td>\n",
       "      <td>4</td>\n",
       "      <td>5</td>\n",
       "      <td>0</td>\n",
       "    </tr>\n",
       "    <tr>\n",
       "      <th>4</th>\n",
       "      <td>0</td>\n",
       "      <td>32</td>\n",
       "      <td>7</td>\n",
       "      <td>0</td>\n",
       "      <td>1</td>\n",
       "      <td>1</td>\n",
       "      <td>0</td>\n",
       "      <td>7</td>\n",
       "      <td>0</td>\n",
       "      <td>0</td>\n",
       "      <td>1</td>\n",
       "      <td>1</td>\n",
       "      <td>0</td>\n",
       "    </tr>\n",
       "  </tbody>\n",
       "</table>\n",
       "</div>"
      ],
      "text/plain": [
       "   score  BA  H  RBI  BB  k  SB  holds  avgR  ER  bb  SO  nHR\n",
       "0      4  35  9    4   4  5   1      9     4   4   4   5    1\n",
       "1      3  33  7    2   1  2   1      7     3   1   1   2    0\n",
       "2      1  32  6    1   5  6   1      6     1   1   5   6    1\n",
       "3      3  28  4    2   4  5   0      4     3   3   4   5    0\n",
       "4      0  32  7    0   1  1   0      7     0   0   1   1    0"
      ]
     },
     "execution_count": 1,
     "metadata": {},
     "output_type": "execute_result"
    }
   ],
   "source": [
    "%matplotlib inline\n",
    "\n",
    "import numpy as np\n",
    "import pandas as pd\n",
    "import matplotlib.pyplot\n",
    "\n",
    "df = pd.read_csv('mlb1_v2.csv')\n",
    "\n",
    "df.head()"
   ]
  },
  {
   "cell_type": "markdown",
   "metadata": {
    "id": "2FiDWys-Tq4X"
   },
   "source": [
    "x = df.loc[:,\"BA\":].values"
   ]
  },
  {
   "cell_type": "code",
   "execution_count": 2,
   "metadata": {},
   "outputs": [],
   "source": [
    "x = df.loc[:,\"H\":].values.astype(np.float64)"
   ]
  },
  {
   "cell_type": "code",
   "execution_count": 3,
   "metadata": {
    "id": "1NSKBR7tTrv2"
   },
   "outputs": [],
   "source": [
    "y = df[\"score\"].values.astype(np.float64)"
   ]
  },
  {
   "cell_type": "code",
   "execution_count": 54,
   "metadata": {},
   "outputs": [
    {
     "data": {
      "text/plain": [
       "array([4., 3., 1., ..., 0., 2., 3.])"
      ]
     },
     "execution_count": 54,
     "metadata": {},
     "output_type": "execute_result"
    }
   ],
   "source": [
    "y"
   ]
  },
  {
   "cell_type": "code",
   "execution_count": 102,
   "metadata": {},
   "outputs": [],
   "source": [
    "# x = x.reshape(len(x),1)/10"
   ]
  },
  {
   "cell_type": "code",
   "execution_count": 26,
   "metadata": {
    "colab": {
     "base_uri": "https://localhost:8080/"
    },
    "id": "sP9Jx7yzX4-T",
    "outputId": "6350714c-cafc-47bc-c790-6ef153073b21"
   },
   "outputs": [
    {
     "data": {
      "text/plain": [
       "True"
      ]
     },
     "execution_count": 26,
     "metadata": {},
     "output_type": "execute_result"
    }
   ],
   "source": [
    "len(x_train) == len(y_train)"
   ]
  },
  {
   "cell_type": "code",
   "execution_count": 4,
   "metadata": {
    "id": "DznUpaJfTr5O"
   },
   "outputs": [],
   "source": [
    "from sklearn.model_selection import train_test_split\n",
    "\n",
    "\n",
    "x_train, x_test, y_train, y_test = train_test_split(x, y,\n",
    "                                                   test_size=0.2,\n",
    "                                                   random_state=87)"
   ]
  },
  {
   "cell_type": "code",
   "execution_count": 5,
   "metadata": {
    "colab": {
     "base_uri": "https://localhost:8080/"
    },
    "id": "R-YBtw3hYJyF",
    "outputId": "f9e04677-0f19-4582-c625-3e42c6862a6b"
   },
   "outputs": [
    {
     "data": {
      "text/plain": [
       "(7964, 11)"
      ]
     },
     "execution_count": 5,
     "metadata": {},
     "output_type": "execute_result"
    }
   ],
   "source": [
    "x_train.shape"
   ]
  },
  {
   "cell_type": "code",
   "execution_count": 6,
   "metadata": {
    "colab": {
     "base_uri": "https://localhost:8080/"
    },
    "id": "sGj-4MJWYJ9K",
    "outputId": "698731b8-4c96-4c44-bb65-72aefa7f5357"
   },
   "outputs": [
    {
     "data": {
      "text/plain": [
       "(1992, 11)"
      ]
     },
     "execution_count": 6,
     "metadata": {},
     "output_type": "execute_result"
    }
   ],
   "source": [
    "x_test.shape"
   ]
  },
  {
   "cell_type": "code",
   "execution_count": null,
   "metadata": {},
   "outputs": [],
   "source": []
  },
  {
   "cell_type": "code",
   "execution_count": 7,
   "metadata": {
    "id": "ek2OllXqTr_Y"
   },
   "outputs": [],
   "source": [
    "from tensorflow.keras.utils import to_categorical\n",
    "from tensorflow.keras.models import Sequential\n",
    "from tensorflow.keras.layers import Dense\n",
    "from tensorflow.keras.optimizers import SGD"
   ]
  },
  {
   "cell_type": "code",
   "execution_count": 8,
   "metadata": {
    "id": "UJrG925hTsET"
   },
   "outputs": [],
   "source": [
    "model = Sequential()\n",
    "model.add(Dense(100, input_dim=11, activation='relu'))\n",
    "model.add(Dense(100, activation='relu'))\n",
    "model.add(Dense(1))"
   ]
  },
  {
   "cell_type": "code",
   "execution_count": 9,
   "metadata": {
    "id": "4YevJiOHTsH6"
   },
   "outputs": [],
   "source": [
    "model.compile(loss='mse', optimizer=SGD(lr=0.00001),\n",
    "              #'adam',\n",
    "              #SGD(lr=0.087), \n",
    "              metrics=['accuracy'])"
   ]
  },
  {
   "cell_type": "code",
   "execution_count": 10,
   "metadata": {
    "colab": {
     "base_uri": "https://localhost:8080/"
    },
    "id": "qBUsHd54XgSy",
    "outputId": "ea24f837-0d06-400c-f15f-25fbca4d469e"
   },
   "outputs": [
    {
     "name": "stdout",
     "output_type": "stream",
     "text": [
      "Model: \"sequential\"\n",
      "_________________________________________________________________\n",
      "Layer (type)                 Output Shape              Param #   \n",
      "=================================================================\n",
      "dense (Dense)                (None, 100)               1200      \n",
      "_________________________________________________________________\n",
      "dense_1 (Dense)              (None, 100)               10100     \n",
      "_________________________________________________________________\n",
      "dense_2 (Dense)              (None, 1)                 101       \n",
      "=================================================================\n",
      "Total params: 11,401\n",
      "Trainable params: 11,401\n",
      "Non-trainable params: 0\n",
      "_________________________________________________________________\n"
     ]
    }
   ],
   "source": [
    "model.summary()"
   ]
  },
  {
   "cell_type": "code",
   "execution_count": 14,
   "metadata": {
    "colab": {
     "base_uri": "https://localhost:8080/"
    },
    "id": "ojVZ8xYdXkbM",
    "outputId": "e06ab450-0b90-43e6-d567-c29d271da9aa"
   },
   "outputs": [
    {
     "name": "stdout",
     "output_type": "stream",
     "text": [
      "Train on 7964 samples\n",
      "Epoch 1/100\n",
      "7964/7964 [==============================] - 0s 37us/sample - loss: 0.6024 - accuracy: 0.1219\n",
      "Epoch 2/100\n",
      "7964/7964 [==============================] - 0s 25us/sample - loss: 0.5948 - accuracy: 0.1222\n",
      "Epoch 3/100\n",
      "7964/7964 [==============================] - 0s 28us/sample - loss: 0.5874 - accuracy: 0.1227\n",
      "Epoch 4/100\n",
      "7964/7964 [==============================] - 0s 25us/sample - loss: 0.5803 - accuracy: 0.1233\n",
      "Epoch 5/100\n",
      "7964/7964 [==============================] - 0s 29us/sample - loss: 0.5733 - accuracy: 0.1236\n",
      "Epoch 6/100\n",
      "7964/7964 [==============================] - 0s 25us/sample - loss: 0.5666 - accuracy: 0.1239\n",
      "Epoch 7/100\n",
      "7964/7964 [==============================] - 0s 24us/sample - loss: 0.5600 - accuracy: 0.1241\n",
      "Epoch 8/100\n",
      "7964/7964 [==============================] - 0s 27us/sample - loss: 0.5535 - accuracy: 0.1242\n",
      "Epoch 9/100\n",
      "7964/7964 [==============================] - 0s 25us/sample - loss: 0.5473 - accuracy: 0.1246\n",
      "Epoch 10/100\n",
      "7964/7964 [==============================] - 0s 28us/sample - loss: 0.5412 - accuracy: 0.1248\n",
      "Epoch 11/100\n",
      "7964/7964 [==============================] - 0s 25us/sample - loss: 0.5353 - accuracy: 0.1253\n",
      "Epoch 12/100\n",
      "7964/7964 [==============================] - 0s 25us/sample - loss: 0.5295 - accuracy: 0.1254\n",
      "Epoch 13/100\n",
      "7964/7964 [==============================] - 0s 45us/sample - loss: 0.5239 - accuracy: 0.1254\n",
      "Epoch 14/100\n",
      "7964/7964 [==============================] - 0s 38us/sample - loss: 0.5184 - accuracy: 0.1254\n",
      "Epoch 15/100\n",
      "7964/7964 [==============================] - 0s 33us/sample - loss: 0.5131 - accuracy: 0.1256\n",
      "Epoch 16/100\n",
      "7964/7964 [==============================] - 0s 26us/sample - loss: 0.5079 - accuracy: 0.1257\n",
      "Epoch 17/100\n",
      "7964/7964 [==============================] - 0s 24us/sample - loss: 0.5028 - accuracy: 0.1261\n",
      "Epoch 18/100\n",
      "7964/7964 [==============================] - 0s 32us/sample - loss: 0.4979 - accuracy: 0.1267\n",
      "Epoch 19/100\n",
      "7964/7964 [==============================] - 0s 27us/sample - loss: 0.4931 - accuracy: 0.1269\n",
      "Epoch 20/100\n",
      "7964/7964 [==============================] - 0s 27us/sample - loss: 0.4883 - accuracy: 0.1269\n",
      "Epoch 21/100\n",
      "7964/7964 [==============================] - 0s 27us/sample - loss: 0.4837 - accuracy: 0.1269\n",
      "Epoch 22/100\n",
      "7964/7964 [==============================] - 0s 27us/sample - loss: 0.4793 - accuracy: 0.1272\n",
      "Epoch 23/100\n",
      "7964/7964 [==============================] - 0s 27us/sample - loss: 0.4748 - accuracy: 0.1281\n",
      "Epoch 24/100\n",
      "7964/7964 [==============================] - 0s 26us/sample - loss: 0.4706 - accuracy: 0.1278\n",
      "Epoch 25/100\n",
      "7964/7964 [==============================] - 0s 25us/sample - loss: 0.4664 - accuracy: 0.1282\n",
      "Epoch 26/100\n",
      "7964/7964 [==============================] - 0s 34us/sample - loss: 0.4623 - accuracy: 0.1283\n",
      "Epoch 27/100\n",
      "7964/7964 [==============================] - 0s 25us/sample - loss: 0.4583 - accuracy: 0.1283\n",
      "Epoch 28/100\n",
      "7964/7964 [==============================] - 0s 41us/sample - loss: 0.4543 - accuracy: 0.1286\n",
      "Epoch 29/100\n",
      "7964/7964 [==============================] - 0s 47us/sample - loss: 0.4505 - accuracy: 0.1287\n",
      "Epoch 30/100\n",
      "7964/7964 [==============================] - 0s 32us/sample - loss: 0.4468 - accuracy: 0.1287\n",
      "Epoch 31/100\n",
      "7964/7964 [==============================] - 0s 42us/sample - loss: 0.4431 - accuracy: 0.1287\n",
      "Epoch 32/100\n",
      "7964/7964 [==============================] - 0s 40us/sample - loss: 0.4395 - accuracy: 0.1290\n",
      "Epoch 33/100\n",
      "7964/7964 [==============================] - 0s 41us/sample - loss: 0.4360 - accuracy: 0.1293\n",
      "Epoch 34/100\n",
      "7964/7964 [==============================] - 0s 33us/sample - loss: 0.4326 - accuracy: 0.1297\n",
      "Epoch 35/100\n",
      "7964/7964 [==============================] - 0s 38us/sample - loss: 0.4293 - accuracy: 0.1297\n",
      "Epoch 36/100\n",
      "7964/7964 [==============================] - 0s 34us/sample - loss: 0.4260 - accuracy: 0.1297\n",
      "Epoch 37/100\n",
      "7964/7964 [==============================] - 0s 42us/sample - loss: 0.4228 - accuracy: 0.1300\n",
      "Epoch 38/100\n",
      "7964/7964 [==============================] - 0s 34us/sample - loss: 0.4197 - accuracy: 0.1300\n",
      "Epoch 39/100\n",
      "7964/7964 [==============================] - 0s 33us/sample - loss: 0.4166 - accuracy: 0.1305\n",
      "Epoch 40/100\n",
      "7964/7964 [==============================] - 0s 37us/sample - loss: 0.4136 - accuracy: 0.1306\n",
      "Epoch 41/100\n",
      "7964/7964 [==============================] - 0s 37us/sample - loss: 0.4106 - accuracy: 0.1311\n",
      "Epoch 42/100\n",
      "7964/7964 [==============================] - 0s 36us/sample - loss: 0.4078 - accuracy: 0.1311\n",
      "Epoch 43/100\n",
      "7964/7964 [==============================] - 0s 32us/sample - loss: 0.4049 - accuracy: 0.1311\n",
      "Epoch 44/100\n",
      "7964/7964 [==============================] - 0s 43us/sample - loss: 0.4021 - accuracy: 0.1312\n",
      "Epoch 45/100\n",
      "7964/7964 [==============================] - 0s 29us/sample - loss: 0.3994 - accuracy: 0.1313\n",
      "Epoch 46/100\n",
      "7964/7964 [==============================] - 0s 41us/sample - loss: 0.3967 - accuracy: 0.1317\n",
      "Epoch 47/100\n",
      "7964/7964 [==============================] - 0s 27us/sample - loss: 0.3941 - accuracy: 0.1317\n",
      "Epoch 48/100\n",
      "7964/7964 [==============================] - 0s 50us/sample - loss: 0.3915 - accuracy: 0.1317\n",
      "Epoch 49/100\n",
      "7964/7964 [==============================] - 0s 31us/sample - loss: 0.3890 - accuracy: 0.1317\n",
      "Epoch 50/100\n",
      "7964/7964 [==============================] - 0s 33us/sample - loss: 0.3865 - accuracy: 0.1318\n",
      "Epoch 51/100\n",
      "7964/7964 [==============================] - 0s 38us/sample - loss: 0.3841 - accuracy: 0.1322\n",
      "Epoch 52/100\n",
      "7964/7964 [==============================] - 0s 29us/sample - loss: 0.3817 - accuracy: 0.1323\n",
      "Epoch 53/100\n",
      "7964/7964 [==============================] - 0s 44us/sample - loss: 0.3794 - accuracy: 0.1325\n",
      "Epoch 54/100\n",
      "7964/7964 [==============================] - 0s 27us/sample - loss: 0.3771 - accuracy: 0.1326\n",
      "Epoch 55/100\n",
      "7964/7964 [==============================] - 0s 27us/sample - loss: 0.3748 - accuracy: 0.1326\n",
      "Epoch 56/100\n",
      "7964/7964 [==============================] - 0s 31us/sample - loss: 0.3726 - accuracy: 0.1330\n",
      "Epoch 57/100\n",
      "7964/7964 [==============================] - 0s 43us/sample - loss: 0.3704 - accuracy: 0.1330\n",
      "Epoch 58/100\n",
      "7964/7964 [==============================] - 0s 41us/sample - loss: 0.3683 - accuracy: 0.1330\n",
      "Epoch 59/100\n",
      "7964/7964 [==============================] - 0s 31us/sample - loss: 0.3661 - accuracy: 0.1334\n",
      "Epoch 60/100\n",
      "7964/7964 [==============================] - 0s 34us/sample - loss: 0.3641 - accuracy: 0.1334\n",
      "Epoch 61/100\n",
      "7964/7964 [==============================] - 0s 33us/sample - loss: 0.3620 - accuracy: 0.1335\n",
      "Epoch 62/100\n",
      "7964/7964 [==============================] - 0s 45us/sample - loss: 0.3600 - accuracy: 0.1337\n",
      "Epoch 63/100\n",
      "7964/7964 [==============================] - 0s 39us/sample - loss: 0.3581 - accuracy: 0.1339\n",
      "Epoch 64/100\n",
      "7964/7964 [==============================] - 0s 32us/sample - loss: 0.3562 - accuracy: 0.1339\n",
      "Epoch 65/100\n",
      "7964/7964 [==============================] - 0s 28us/sample - loss: 0.3543 - accuracy: 0.1340\n",
      "Epoch 66/100\n",
      "7964/7964 [==============================] - 0s 33us/sample - loss: 0.3524 - accuracy: 0.1341\n",
      "Epoch 67/100\n",
      "7964/7964 [==============================] - 0s 29us/sample - loss: 0.3505 - accuracy: 0.1342\n",
      "Epoch 68/100\n",
      "7964/7964 [==============================] - 0s 34us/sample - loss: 0.3487 - accuracy: 0.1344\n",
      "Epoch 69/100\n",
      "7964/7964 [==============================] - 0s 26us/sample - loss: 0.3469 - accuracy: 0.1345\n",
      "Epoch 70/100\n",
      "7964/7964 [==============================] - 0s 55us/sample - loss: 0.3452 - accuracy: 0.1346\n",
      "Epoch 71/100\n",
      "7964/7964 [==============================] - 0s 36us/sample - loss: 0.3435 - accuracy: 0.1346\n",
      "Epoch 72/100\n",
      "7964/7964 [==============================] - 0s 33us/sample - loss: 0.3417 - accuracy: 0.1347\n",
      "Epoch 73/100\n",
      "7964/7964 [==============================] - 0s 40us/sample - loss: 0.3401 - accuracy: 0.1347\n",
      "Epoch 74/100\n",
      "7964/7964 [==============================] - 0s 34us/sample - loss: 0.3384 - accuracy: 0.1350\n",
      "Epoch 75/100\n",
      "7964/7964 [==============================] - 0s 32us/sample - loss: 0.3368 - accuracy: 0.1354\n",
      "Epoch 76/100\n",
      "7964/7964 [==============================] - 0s 33us/sample - loss: 0.3352 - accuracy: 0.1357\n",
      "Epoch 77/100\n"
     ]
    },
    {
     "name": "stdout",
     "output_type": "stream",
     "text": [
      "7964/7964 [==============================] - 0s 30us/sample - loss: 0.3336 - accuracy: 0.1357\n",
      "Epoch 78/100\n",
      "7964/7964 [==============================] - 0s 28us/sample - loss: 0.3320 - accuracy: 0.1357\n",
      "Epoch 79/100\n",
      "7964/7964 [==============================] - 0s 29us/sample - loss: 0.3305 - accuracy: 0.1361\n",
      "Epoch 80/100\n",
      "7964/7964 [==============================] - 0s 29us/sample - loss: 0.3290 - accuracy: 0.1360\n",
      "Epoch 81/100\n",
      "7964/7964 [==============================] - 0s 29us/sample - loss: 0.3275 - accuracy: 0.1361\n",
      "Epoch 82/100\n",
      "7964/7964 [==============================] - 0s 24us/sample - loss: 0.3260 - accuracy: 0.1362\n",
      "Epoch 83/100\n",
      "7964/7964 [==============================] - 0s 24us/sample - loss: 0.3246 - accuracy: 0.1364\n",
      "Epoch 84/100\n",
      "7964/7964 [==============================] - 0s 23us/sample - loss: 0.3232 - accuracy: 0.1366\n",
      "Epoch 85/100\n",
      "7964/7964 [==============================] - 0s 23us/sample - loss: 0.3218 - accuracy: 0.1366\n",
      "Epoch 86/100\n",
      "7964/7964 [==============================] - 0s 24us/sample - loss: 0.3203 - accuracy: 0.1371\n",
      "Epoch 87/100\n",
      "7964/7964 [==============================] - 0s 24us/sample - loss: 0.3190 - accuracy: 0.1372\n",
      "Epoch 88/100\n",
      "7964/7964 [==============================] - 0s 24us/sample - loss: 0.3176 - accuracy: 0.1374\n",
      "Epoch 89/100\n",
      "7964/7964 [==============================] - 0s 24us/sample - loss: 0.3163 - accuracy: 0.1374\n",
      "Epoch 90/100\n",
      "7964/7964 [==============================] - 0s 24us/sample - loss: 0.3150 - accuracy: 0.1376\n",
      "Epoch 91/100\n",
      "7964/7964 [==============================] - 0s 25us/sample - loss: 0.3137 - accuracy: 0.1377\n",
      "Epoch 92/100\n",
      "7964/7964 [==============================] - 0s 24us/sample - loss: 0.3124 - accuracy: 0.1380\n",
      "Epoch 93/100\n",
      "7964/7964 [==============================] - 0s 23us/sample - loss: 0.3111 - accuracy: 0.1381\n",
      "Epoch 94/100\n",
      "7964/7964 [==============================] - 0s 24us/sample - loss: 0.3099 - accuracy: 0.1382\n",
      "Epoch 95/100\n",
      "7964/7964 [==============================] - 0s 23us/sample - loss: 0.3086 - accuracy: 0.1385\n",
      "Epoch 96/100\n",
      "7964/7964 [==============================] - 0s 24us/sample - loss: 0.3074 - accuracy: 0.1389\n",
      "Epoch 97/100\n",
      "7964/7964 [==============================] - 0s 23us/sample - loss: 0.3062 - accuracy: 0.1391\n",
      "Epoch 98/100\n",
      "7964/7964 [==============================] - 0s 23us/sample - loss: 0.3050 - accuracy: 0.1391\n",
      "Epoch 99/100\n",
      "7964/7964 [==============================] - 0s 23us/sample - loss: 0.3038 - accuracy: 0.1395\n",
      "Epoch 100/100\n",
      "7964/7964 [==============================] - 0s 25us/sample - loss: 0.3027 - accuracy: 0.1401\n"
     ]
    },
    {
     "data": {
      "text/plain": [
       "<tensorflow.python.keras.callbacks.History at 0x7ff3e7deaf90>"
      ]
     },
     "execution_count": 14,
     "metadata": {},
     "output_type": "execute_result"
    }
   ],
   "source": [
    "model.fit(x_train, y_train, batch_size=200, epochs=100)\n"
   ]
  },
  {
   "cell_type": "code",
   "execution_count": 40,
   "metadata": {
    "colab": {
     "base_uri": "https://localhost:8080/"
    },
    "id": "5PxsUuUGXszs",
    "outputId": "e3e14059-56d0-42e9-f2ed-ffd157377a33"
   },
   "outputs": [
    {
     "name": "stdout",
     "output_type": "stream",
     "text": [
      "神經網路預測是: [1]\n"
     ]
    }
   ],
   "source": [
    "predict = model.predict_classes(x_test)\n",
    "\n",
    "n = 2\n",
    "\n",
    "print('神經網路預測是:', predict[n])"
   ]
  },
  {
   "cell_type": "code",
   "execution_count": 23,
   "metadata": {
    "id": "1mk4rAMUmLzN"
   },
   "outputs": [
    {
     "data": {
      "text/plain": [
       "array([1, 1, 0, ..., 1, 6, 8])"
      ]
     },
     "execution_count": 23,
     "metadata": {},
     "output_type": "execute_result"
    }
   ],
   "source": [
    "y_train"
   ]
  },
  {
   "cell_type": "code",
   "execution_count": 43,
   "metadata": {},
   "outputs": [
    {
     "data": {
      "text/plain": [
       "dtype('int64')"
      ]
     },
     "execution_count": 43,
     "metadata": {},
     "output_type": "execute_result"
    }
   ],
   "source": [
    "x_train[12].dtype"
   ]
  },
  {
   "cell_type": "code",
   "execution_count": 42,
   "metadata": {},
   "outputs": [
    {
     "data": {
      "text/plain": [
       "6"
      ]
     },
     "execution_count": 42,
     "metadata": {},
     "output_type": "execute_result"
    }
   ],
   "source": [
    "y_train[12]"
   ]
  },
  {
   "cell_type": "code",
   "execution_count": 111,
   "metadata": {},
   "outputs": [
    {
     "data": {
      "text/plain": [
       "array([[4.854472],\n",
       "       [4.854472],\n",
       "       [4.854472],\n",
       "       ...,\n",
       "       [4.854472],\n",
       "       [4.854472],\n",
       "       [4.854472]], dtype=float32)"
      ]
     },
     "execution_count": 111,
     "metadata": {},
     "output_type": "execute_result"
    }
   ],
   "source": [
    "model.predict(x_test)"
   ]
  },
  {
   "cell_type": "code",
   "execution_count": null,
   "metadata": {},
   "outputs": [],
   "source": []
  }
 ],
 "metadata": {
  "colab": {
   "collapsed_sections": [],
   "name": "機器學習資料整理",
   "provenance": []
  },
  "kernelspec": {
   "display_name": "Python 3",
   "language": "python",
   "name": "python3"
  },
  "language_info": {
   "codemirror_mode": {
    "name": "ipython",
    "version": 3
   },
   "file_extension": ".py",
   "mimetype": "text/x-python",
   "name": "python",
   "nbconvert_exporter": "python",
   "pygments_lexer": "ipython3",
   "version": "3.7.9"
  }
 },
 "nbformat": 4,
 "nbformat_minor": 1
}

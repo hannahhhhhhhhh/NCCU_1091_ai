{
 "cells": [
  {
   "cell_type": "code",
   "execution_count": 16,
   "metadata": {},
   "outputs": [],
   "source": [
    "from selenium import webdriver\n",
    "from pyquery import PyQuery as pq\n",
    "op = webdriver.ChromeOptions()      # 額外選項\n",
    "op.binary_location = \"/Applications/Google Chrome 2.app/Contents/MacOS/Google Chrome\"\n",
    "driver = webdriver.Chrome(options = op, executable_path=\"/Users/hannahhsu/Desktop/chromedriver\")"
   ]
  },
  {
   "cell_type": "code",
   "execution_count": 17,
   "metadata": {},
   "outputs": [],
   "source": [
    "driver.get(\"https://www.instagram.com/\")    # get這個頁面\n",
    "driver.implicitly_wait(3000)     # 等待動態生成，最多等待3秒\n",
    "html = driver.find_element_by_css_selector('*').get_attribute('innerHTML')   # 將瀏覽器當前的html抓出來\n",
    "doc = pq(html)    # 丟進pyQuery裡面"
   ]
  },
  {
   "cell_type": "code",
   "execution_count": 20,
   "metadata": {},
   "outputs": [
    {
     "name": "stdout",
     "output_type": "stream",
     "text": [
      "[{'domain': '.instagram.com', 'expiry': 1577445991.158408, 'httpOnly': False, 'name': 'csrftoken', 'path': '/', 'secure': True, 'value': '6V4rVbX3Db8mp9pwF739oZIQEZHrOUBN'}, {'domain': '.instagram.com', 'expiry': 1861356389.044569, 'httpOnly': False, 'name': 'mcd', 'path': '/', 'secure': True, 'value': '3'}, {'domain': '.instagram.com', 'httpOnly': True, 'name': 'rur', 'path': '/', 'secure': True, 'value': 'ATN'}, {'domain': '.instagram.com', 'expiry': 1861356389.044467, 'httpOnly': False, 'name': 'mid', 'path': '/', 'secure': True, 'value': 'XCYIZQAEAAGn_gFG6jPlTap2MqSb'}]\n"
     ]
    }
   ],
   "source": [
    "import pickle\n",
    "with open(\"./cookie\",'wb') as cookie_file:\n",
    "    cookies=driver.get_cookies()\n",
    "    print(cookies)\n",
    "    pickle.dump(cookies,cookie_file)"
   ]
  },
  {
   "cell_type": "code",
   "execution_count": 23,
   "metadata": {},
   "outputs": [],
   "source": [
    "with open(\"./cookie\", 'rb') as cookie_file:\n",
    "    cookies=pickle.load(cookie_file)\n",
    "    for cookie in cookies:\n",
    "        driver.add_cookie(cookie)\n",
    "driver.get(\"https://www.instagram.com\")"
   ]
  },
  {
   "cell_type": "code",
   "execution_count": 26,
   "metadata": {},
   "outputs": [],
   "source": [
    "driver.get(\"https://www.instagram.com/explore/tags/shoes/\")\n",
    "\n",
    "doc=pq(driver.find_element_by_css_selector('*').get_attribute('innerHTML'))"
   ]
  },
  {
   "cell_type": "code",
   "execution_count": 27,
   "metadata": {},
   "outputs": [
    {
     "data": {
      "text/plain": [
       "[]"
      ]
     },
     "execution_count": 27,
     "metadata": {},
     "output_type": "execute_result"
    }
   ],
   "source": [
    "doc('.vlNh3.kIKUN._bz0w')"
   ]
  },
  {
   "cell_type": "code",
   "execution_count": null,
   "metadata": {},
   "outputs": [],
   "source": [
    "doc.make_links_absolute(driver.current_url)\n",
    "post_list.items():\n",
    "    "
   ]
  },
  {
   "cell_type": "code",
   "execution_count": 4,
   "metadata": {},
   "outputs": [
    {
     "ename": "NameError",
     "evalue": "name 'Options' is not defined",
     "output_type": "error",
     "traceback": [
      "\u001b[0;31m---------------------------------------------------------------------------\u001b[0m",
      "\u001b[0;31mNameError\u001b[0m                                 Traceback (most recent call last)",
      "\u001b[0;32m<ipython-input-4-ce37692cd4be>\u001b[0m in \u001b[0;36m<module>\u001b[0;34m()\u001b[0m\n\u001b[0;32m----> 1\u001b[0;31m \u001b[0mop\u001b[0m \u001b[0;34m=\u001b[0m \u001b[0mOptions\u001b[0m\u001b[0;34m(\u001b[0m\u001b[0;34m)\u001b[0m\u001b[0;34m\u001b[0m\u001b[0m\n\u001b[0m\u001b[1;32m      2\u001b[0m \u001b[0mop\u001b[0m\u001b[0;34m.\u001b[0m\u001b[0mbinary_location\u001b[0m \u001b[0;34m=\u001b[0m \u001b[0;34m\"/Applications/Google Chrome 2.app/Contents/MacOS/Google Chrome\"\u001b[0m\u001b[0;34m\u001b[0m\u001b[0m\n\u001b[1;32m      3\u001b[0m \u001b[0mdriver\u001b[0m \u001b[0;34m=\u001b[0m \u001b[0mwebdriver\u001b[0m\u001b[0;34m.\u001b[0m\u001b[0mChrome\u001b[0m\u001b[0;34m(\u001b[0m\u001b[0;34m\"/Users/hannahhsu/Desktop/chromedriver\"\u001b[0m\u001b[0;34m,\u001b[0m \u001b[0moptions\u001b[0m\u001b[0;34m=\u001b[0m\u001b[0mop\u001b[0m\u001b[0;34m)\u001b[0m\u001b[0;31m#selenium需要一個留坦氣\u001b[0m\u001b[0;34m\u001b[0m\u001b[0m\n\u001b[1;32m      4\u001b[0m \u001b[0mdriver\u001b[0m\u001b[0;34m.\u001b[0m\u001b[0mget\u001b[0m\u001b[0;34m(\u001b[0m\u001b[0;34m\"https://www.webscraper.io/test-sites/e-commerce/more/computers/laptops\"\u001b[0m\u001b[0;34m)\u001b[0m\u001b[0;34m\u001b[0m\u001b[0m\n\u001b[1;32m      5\u001b[0m \u001b[0mdriver\u001b[0m\u001b[0;34m.\u001b[0m\u001b[0mcurrent_url\u001b[0m\u001b[0;34m\u001b[0m\u001b[0m\n",
      "\u001b[0;31mNameError\u001b[0m: name 'Options' is not defined"
     ]
    }
   ],
   "source": [
    "op = Options()\n",
    "op.binary_location = \"/Applications/Google Chrome 2.app/Contents/MacOS/Google Chrome\"\n",
    "driver = webdriver.Chrome(\"/Users/hannahhsu/Desktop/chromedriver\", options=op)#selenium需要一個瀏覽器\n",
    "driver.get(\"https://www.webscraper.io/test-sites/e-commerce/more/computers/laptops\")\n",
    "driver.current_url "
   ]
  },
  {
   "cell_type": "code",
   "execution_count": null,
   "metadata": {},
   "outputs": [],
   "source": [
    "driver.quit()"
   ]
  },
  {
   "cell_type": "code",
   "execution_count": null,
   "metadata": {},
   "outputs": [],
   "source": []
  }
 ],
 "metadata": {
  "kernelspec": {
   "display_name": "Python 3",
   "language": "python",
   "name": "python3"
  },
  "language_info": {
   "codemirror_mode": {
    "name": "ipython",
    "version": 3
   },
   "file_extension": ".py",
   "mimetype": "text/x-python",
   "name": "python",
   "nbconvert_exporter": "python",
   "pygments_lexer": "ipython3",
   "version": "3.7.0"
  }
 },
 "nbformat": 4,
 "nbformat_minor": 2
}

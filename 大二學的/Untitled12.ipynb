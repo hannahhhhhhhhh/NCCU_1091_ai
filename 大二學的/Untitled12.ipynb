{
 "cells": [
  {
   "cell_type": "code",
   "execution_count": null,
   "metadata": {},
   "outputs": [],
   "source": [
    "from apscheduler.schedulers.blocking import BlockingScheduler\n",
    "from datetime import datetime\n",
    "from selenium import webdriver\n",
    "\n",
    "scheduler=BlockingScheduler()\n",
    "\n",
    "def my_job():\n",
    "\n",
    "    #開始執行\n",
    "\n",
    "    driver = webdriver.Chrome('C:/Users/ACER/Desktop/chromedriver.exe')\n",
    "    driver.get('http://railway.hinet.net/Foreign/TW/etno1.html')\n",
    "    driver.current_url\n",
    "\n",
    "    #填身分證\n",
    "\n",
    "    inputId=driver.find_element_by_css_selector('#person_id')\n",
    "    inputId.send_keys('L125398618')\n",
    "\n",
    "    #乘車日期，只有20天之內的日期，須改老恩選日期\n",
    "\n",
    "    driver.find_element_by_css_selector('#getin_date > option:nth-child(1)').click()\n",
    "\n",
    "    #填起迄站，須改老恩，預設台北到台中\n",
    "\n",
    "    driver.find_element_by_css_selector('#from_station > option:nth-child(55)').click()\n",
    "    driver.find_element_by_css_selector('#to_station > option:nth-child(95)').click()\n",
    "\n",
    "    #填車次代碼\n",
    "\n",
    "    inputNum=driver.find_element_by_css_selector('#train_no')\n",
    "    inputNum.send_keys('149')\n",
    "\n",
    "    #點開始訂票\n",
    "\n",
    "    driver.find_element_by_css_selector('body > div > div.row.contents > div > form > div > div.col-xs-12 > button').click()\n",
    "\n",
    "    #填驗證碼\n",
    "\n",
    "    inputCapcha=driver.find_element_by_css_selector('#randInput')\n",
    "    inputCapcha.send_keys(input())\n",
    "    driver.find_element_by_css_selector('#sbutton').click()\n",
    "\n",
    "    #輸出車次代碼\n",
    "\n",
    "    trainNum=driver.find_element_by_css_selector('#spanOrderCode').text\n",
    "    print('您的車次代碼為'+str(trainNum))\n",
    "    driver.quit()\n",
    "scheduler.add_job(my_job,'date',run_date=datetime(2019,1,22,23,45,00),args=[])\n",
    "scheduler.start()"
   ]
  },
  {
   "cell_type": "code",
   "execution_count": null,
   "metadata": {},
   "outputs": [],
   "source": []
  },
  {
   "cell_type": "code",
   "execution_count": null,
   "metadata": {},
   "outputs": [],
   "source": []
  }
 ],
 "metadata": {
  "kernelspec": {
   "display_name": "Python 3",
   "language": "python",
   "name": "python3"
  },
  "language_info": {
   "codemirror_mode": {
    "name": "ipython",
    "version": 3
   },
   "file_extension": ".py",
   "mimetype": "text/x-python",
   "name": "python",
   "nbconvert_exporter": "python",
   "pygments_lexer": "ipython3",
   "version": "3.7.0"
  }
 },
 "nbformat": 4,
 "nbformat_minor": 2
}

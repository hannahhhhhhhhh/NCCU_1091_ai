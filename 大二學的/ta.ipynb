{
 "cells": [
  {
   "cell_type": "code",
   "execution_count": null,
   "metadata": {},
   "outputs": [],
   "source": [
    "# abc mart requests, ppt-12\n",
    "import requests as req\n",
    "from pyquery import PyQuery as pq\n",
    "\n",
    "res = req.get(\"https://www.abc-mart.com.tw/Search?q=NIKE&type=KIDS\")\n",
    "doc = pq(res.text)\n",
    "\n",
    "# 對「NIKE AIR MAX TINY 90 (TD)」點選copy selector\n",
    "p = doc('#search > div.content-wrapper > div > section > div.main > div > div.product-container.four-grid > div:nth-child(1) > div.info > p.type.ng-binding')\n",
    "print(p.text()) # 竟然沒東西"
   ]
  },
  {
   "cell_type": "code",
   "execution_count": null,
   "metadata": {},
   "outputs": [],
   "source": [
    "print(doc.text()) # 沒東西 很生氣 直接把整個網頁的text印出來看看\n",
    "# 但印出來後會更生氣 沒看到半個nike字眼"
   ]
  },
  {
   "cell_type": "code",
   "execution_count": null,
   "metadata": {},
   "outputs": [],
   "source": []
  },
  {
   "cell_type": "code",
   "execution_count": 2,
   "metadata": {},
   "outputs": [
    {
     "ename": "WebDriverException",
     "evalue": "Message: 'chromedriver ' executable needs to be in PATH. Please see https://sites.google.com/a/chromium.org/chromedriver/home\n",
     "output_type": "error",
     "traceback": [
      "\u001b[0;31m---------------------------------------------------------------------------\u001b[0m",
      "\u001b[0;31mFileNotFoundError\u001b[0m                         Traceback (most recent call last)",
      "\u001b[0;32m/Library/Frameworks/Python.framework/Versions/3.7/lib/python3.7/site-packages/selenium/webdriver/common/service.py\u001b[0m in \u001b[0;36mstart\u001b[0;34m(self)\u001b[0m\n\u001b[1;32m     75\u001b[0m                                             \u001b[0mstderr\u001b[0m\u001b[0;34m=\u001b[0m\u001b[0mself\u001b[0m\u001b[0;34m.\u001b[0m\u001b[0mlog_file\u001b[0m\u001b[0;34m,\u001b[0m\u001b[0;34m\u001b[0m\u001b[0m\n\u001b[0;32m---> 76\u001b[0;31m                                             stdin=PIPE)\n\u001b[0m\u001b[1;32m     77\u001b[0m         \u001b[0;32mexcept\u001b[0m \u001b[0mTypeError\u001b[0m\u001b[0;34m:\u001b[0m\u001b[0;34m\u001b[0m\u001b[0m\n",
      "\u001b[0;32m/Library/Frameworks/Python.framework/Versions/3.7/lib/python3.7/subprocess.py\u001b[0m in \u001b[0;36m__init__\u001b[0;34m(self, args, bufsize, executable, stdin, stdout, stderr, preexec_fn, close_fds, shell, cwd, env, universal_newlines, startupinfo, creationflags, restore_signals, start_new_session, pass_fds, encoding, errors, text)\u001b[0m\n\u001b[1;32m    755\u001b[0m                                 \u001b[0merrread\u001b[0m\u001b[0;34m,\u001b[0m \u001b[0merrwrite\u001b[0m\u001b[0;34m,\u001b[0m\u001b[0;34m\u001b[0m\u001b[0m\n\u001b[0;32m--> 756\u001b[0;31m                                 restore_signals, start_new_session)\n\u001b[0m\u001b[1;32m    757\u001b[0m         \u001b[0;32mexcept\u001b[0m\u001b[0;34m:\u001b[0m\u001b[0;34m\u001b[0m\u001b[0m\n",
      "\u001b[0;32m/Library/Frameworks/Python.framework/Versions/3.7/lib/python3.7/subprocess.py\u001b[0m in \u001b[0;36m_execute_child\u001b[0;34m(self, args, executable, preexec_fn, close_fds, pass_fds, cwd, env, startupinfo, creationflags, shell, p2cread, p2cwrite, c2pread, c2pwrite, errread, errwrite, restore_signals, start_new_session)\u001b[0m\n\u001b[1;32m   1498\u001b[0m                             \u001b[0merr_msg\u001b[0m \u001b[0;34m+=\u001b[0m \u001b[0;34m': '\u001b[0m \u001b[0;34m+\u001b[0m \u001b[0mrepr\u001b[0m\u001b[0;34m(\u001b[0m\u001b[0merr_filename\u001b[0m\u001b[0;34m)\u001b[0m\u001b[0;34m\u001b[0m\u001b[0m\n\u001b[0;32m-> 1499\u001b[0;31m                     \u001b[0;32mraise\u001b[0m \u001b[0mchild_exception_type\u001b[0m\u001b[0;34m(\u001b[0m\u001b[0merrno_num\u001b[0m\u001b[0;34m,\u001b[0m \u001b[0merr_msg\u001b[0m\u001b[0;34m,\u001b[0m \u001b[0merr_filename\u001b[0m\u001b[0;34m)\u001b[0m\u001b[0;34m\u001b[0m\u001b[0m\n\u001b[0m\u001b[1;32m   1500\u001b[0m                 \u001b[0;32mraise\u001b[0m \u001b[0mchild_exception_type\u001b[0m\u001b[0;34m(\u001b[0m\u001b[0merr_msg\u001b[0m\u001b[0;34m)\u001b[0m\u001b[0;34m\u001b[0m\u001b[0m\n",
      "\u001b[0;31mFileNotFoundError\u001b[0m: [Errno 2] No such file or directory: '/Users/hannahhsu/Desktop/chromedriver ': '/Users/hannahhsu/Desktop/chromedriver '",
      "\nDuring handling of the above exception, another exception occurred:\n",
      "\u001b[0;31mWebDriverException\u001b[0m                        Traceback (most recent call last)",
      "\u001b[0;32m<ipython-input-2-5bbad9a131f4>\u001b[0m in \u001b[0;36m<module>\u001b[0;34m()\u001b[0m\n\u001b[1;32m      4\u001b[0m \u001b[0mdriver_path\u001b[0m \u001b[0;34m=\u001b[0m \u001b[0;34m\"/Users/hannahhsu/Desktop/chromedriver \"\u001b[0m  \u001b[0;31m# 看你的driver丟在哪\u001b[0m\u001b[0;34m\u001b[0m\u001b[0m\n\u001b[1;32m      5\u001b[0m \u001b[0;34m\u001b[0m\u001b[0m\n\u001b[0;32m----> 6\u001b[0;31m \u001b[0mdriver\u001b[0m \u001b[0;34m=\u001b[0m \u001b[0mwebdriver\u001b[0m\u001b[0;34m.\u001b[0m\u001b[0mChrome\u001b[0m\u001b[0;34m(\u001b[0m\u001b[0mdriver_path\u001b[0m\u001b[0;34m)\u001b[0m     \u001b[0;31m# 打開一個chrome driver\u001b[0m\u001b[0;34m\u001b[0m\u001b[0m\n\u001b[0m\u001b[1;32m      7\u001b[0m \u001b[0mdriver\u001b[0m\u001b[0;34m.\u001b[0m\u001b[0mget\u001b[0m\u001b[0;34m(\u001b[0m\u001b[0;34m\"https://www.abc-mart.com.tw/Search?q=NIKE&type=KIDS\"\u001b[0m\u001b[0;34m)\u001b[0m   \u001b[0;31m# get這個頁面\u001b[0m\u001b[0;34m\u001b[0m\u001b[0m\n\u001b[1;32m      8\u001b[0m \u001b[0mdriver\u001b[0m\u001b[0;34m.\u001b[0m\u001b[0mimplicitly_wait\u001b[0m\u001b[0;34m(\u001b[0m\u001b[0;36m5000\u001b[0m\u001b[0;34m)\u001b[0m    \u001b[0;31m# 每個步驟都最多等待5秒\u001b[0m\u001b[0;34m\u001b[0m\u001b[0m\n",
      "\u001b[0;32m/Library/Frameworks/Python.framework/Versions/3.7/lib/python3.7/site-packages/selenium/webdriver/chrome/webdriver.py\u001b[0m in \u001b[0;36m__init__\u001b[0;34m(self, executable_path, port, options, service_args, desired_capabilities, service_log_path, chrome_options, keep_alive)\u001b[0m\n\u001b[1;32m     71\u001b[0m             \u001b[0mservice_args\u001b[0m\u001b[0;34m=\u001b[0m\u001b[0mservice_args\u001b[0m\u001b[0;34m,\u001b[0m\u001b[0;34m\u001b[0m\u001b[0m\n\u001b[1;32m     72\u001b[0m             log_path=service_log_path)\n\u001b[0;32m---> 73\u001b[0;31m         \u001b[0mself\u001b[0m\u001b[0;34m.\u001b[0m\u001b[0mservice\u001b[0m\u001b[0;34m.\u001b[0m\u001b[0mstart\u001b[0m\u001b[0;34m(\u001b[0m\u001b[0;34m)\u001b[0m\u001b[0;34m\u001b[0m\u001b[0m\n\u001b[0m\u001b[1;32m     74\u001b[0m \u001b[0;34m\u001b[0m\u001b[0m\n\u001b[1;32m     75\u001b[0m         \u001b[0;32mtry\u001b[0m\u001b[0;34m:\u001b[0m\u001b[0;34m\u001b[0m\u001b[0m\n",
      "\u001b[0;32m/Library/Frameworks/Python.framework/Versions/3.7/lib/python3.7/site-packages/selenium/webdriver/common/service.py\u001b[0m in \u001b[0;36mstart\u001b[0;34m(self)\u001b[0m\n\u001b[1;32m     81\u001b[0m                 raise WebDriverException(\n\u001b[1;32m     82\u001b[0m                     \"'%s' executable needs to be in PATH. %s\" % (\n\u001b[0;32m---> 83\u001b[0;31m                         os.path.basename(self.path), self.start_error_message)\n\u001b[0m\u001b[1;32m     84\u001b[0m                 )\n\u001b[1;32m     85\u001b[0m             \u001b[0;32melif\u001b[0m \u001b[0merr\u001b[0m\u001b[0;34m.\u001b[0m\u001b[0merrno\u001b[0m \u001b[0;34m==\u001b[0m \u001b[0merrno\u001b[0m\u001b[0;34m.\u001b[0m\u001b[0mEACCES\u001b[0m\u001b[0;34m:\u001b[0m\u001b[0;34m\u001b[0m\u001b[0m\n",
      "\u001b[0;31mWebDriverException\u001b[0m: Message: 'chromedriver ' executable needs to be in PATH. Please see https://sites.google.com/a/chromium.org/chromedriver/home\n"
     ]
    }
   ],
   "source": [
    "# abc mart selenium, ppt-14\n",
    "from selenium import webdriver\n",
    "from pyquery import PyQuery as pq\n",
    "driver_path = \"/Users/hannahhsu/Desktop/chromedriver \"  # 看你的driver丟在哪\n",
    "\n",
    "driver = webdriver.Chrome(driver_path)     # 打開一個chrome driver  \n",
    "driver.get(\"https://www.abc-mart.com.tw/Search?q=NIKE&type=KIDS\")   # get這個頁面\n",
    "driver.implicitly_wait(5000)    # 每個步驟都最多等待5秒"
   ]
  },
  {
   "cell_type": "code",
   "execution_count": null,
   "metadata": {},
   "outputs": [],
   "source": [
    "html = driver.find_element_by_css_selector('*').get_attribute('innerHTML')   # 將瀏覽器當前的html抓出來\n",
    "doc = pq(html)    # 丟進pyQuery裡面\n",
    "prod_list = doc('.product-sec')    # 直接尋找對應的class\n",
    "for prod in prod_list.items():\n",
    "    print(prod.text())\n"
   ]
  },
  {
   "cell_type": "code",
   "execution_count": null,
   "metadata": {},
   "outputs": [],
   "source": []
  },
  {
   "cell_type": "code",
   "execution_count": null,
   "metadata": {},
   "outputs": [],
   "source": [
    "# instagram, ppt-16\n",
    "from selenium import webdriver\n",
    "from pyquery import PyQuery as pq\n",
    "driver_path = \"/Applications/chromedriver\"  # 看你的driver丟在哪\n",
    "\n",
    "driver = webdriver.Chrome(driver_path)     # 打開一個chrome driver\n",
    "driver.get(\"https://www.instagram.com\")   # get這個頁面\n",
    "driver.implicitly_wait(5000)    # 每個步驟都最多等待5秒\n",
    "# 查看driver視窗，發現沒有登入"
   ]
  },
  {
   "cell_type": "code",
   "execution_count": null,
   "metadata": {},
   "outputs": [],
   "source": []
  },
  {
   "cell_type": "code",
   "execution_count": null,
   "metadata": {},
   "outputs": [],
   "source": [
    "# instagram, ppt-19\n",
    "from selenium import webdriver\n",
    "from pyquery import PyQuery as pq\n",
    "import pickle\n",
    "driver_path = \"/Applications/chromedriver\"  # 看你的driver丟在哪\n",
    "\n",
    "driver = webdriver.Chrome(driver_path)     # 打開一個chrome driver\n",
    "driver.get(\"https://www.instagram.com/\")   # get這個頁面，此時還沒有cookie在裡面，因此無法登入\n",
    "# get完後，用鍵盤登入"
   ]
  },
  {
   "cell_type": "code",
   "execution_count": null,
   "metadata": {},
   "outputs": [],
   "source": [
    "# 用鍵盤登入之後\n",
    "with open(\"./cookie\", 'wb') as cookie_file:   # 打開一個檔案叫cookie，在這個with裡面就叫他cookie_file吧\n",
    "    cookies = driver.get_cookies()            # 從driver中獲得目前已經登入過的cookie資訊\n",
    "    print(cookies)                            # 順便看一下他長什麼樣子好了\n",
    "    pickle.dump(cookies, cookie_file)         # 將這些cookie資訊塞進cookie_file裡面"
   ]
  },
  {
   "cell_type": "code",
   "execution_count": null,
   "metadata": {},
   "outputs": [],
   "source": [
    "# 這次不用鍵盤登入了\n",
    "with open(\"./cookie\", 'rb') as cookie_file:    # 打開那個cookie_file   wb=write 2進制檔案, rb=read 2進制檔案\n",
    "    cookies = pickle.load(cookie_file)        # 將cookie_file裡的東西放到cookies這個變數裡面\n",
    "    for cookie in cookies:                    # 把每個cookie都...\n",
    "        driver.add_cookie(cookie)             # 塞到driver裡面\n",
    "driver.get(\"https://www.instagram.com/\")      # 完成！現在再造訪一次網頁，應該要能直接登入了"
   ]
  },
  {
   "cell_type": "code",
   "execution_count": null,
   "metadata": {},
   "outputs": [],
   "source": []
  },
  {
   "cell_type": "code",
   "execution_count": null,
   "metadata": {},
   "outputs": [],
   "source": [
    "# instagram, ppt-21\n",
    "from selenium import webdriver\n",
    "from pyquery import PyQuery as pq\n",
    "driver_path = \"/Applications/chromedriver\"  # 看你的driver丟在哪\n",
    "\n",
    "driver = webdriver.Chrome(driver_path)     # 打開一個chrome driver\n",
    "\n",
    "driver.get(\"https://www.instagram.com/explore/tags/shoes/\")    # get這個頁面\n",
    "driver.implicitly_wait(3000)     # 等待動態生成，最多等待3秒\n",
    "html = driver.find_element_by_css_selector('*').get_attribute('innerHTML')   # 將瀏覽器當前的html抓出來\n",
    "doc = pq(html)    # 丟進pyQuery裡面"
   ]
  },
  {
   "cell_type": "code",
   "execution_count": null,
   "metadata": {},
   "outputs": [],
   "source": [
    "doc.make_links_absolute(base_url=driver.current_url)  # 讓連結能www.instagram.com開頭\n",
    "post_list = doc('.v1Nh3.kIKUG._bz0w')                 # 抓取所有貼文\n",
    "for post in post_list.items():                        # for所有貼文\n",
    "    post_link = post('a').attr('href')                  # 貼文連結\n",
    "    image_link = post('img').attr('src')                # 預覽圖片的src連結\n",
    "    print(post_link, image_link)                        # 印出來"
   ]
  },
  {
   "cell_type": "code",
   "execution_count": null,
   "metadata": {},
   "outputs": [],
   "source": [
    "  "
   ]
  }
 ],
 "metadata": {
  "kernelspec": {
   "display_name": "Python 3",
   "language": "python",
   "name": "python3"
  },
  "language_info": {
   "codemirror_mode": {
    "name": "ipython",
    "version": 3
   },
   "file_extension": ".py",
   "mimetype": "text/x-python",
   "name": "python",
   "nbconvert_exporter": "python",
   "pygments_lexer": "ipython3",
   "version": "3.7.0"
  }
 },
 "nbformat": 4,
 "nbformat_minor": 2
}

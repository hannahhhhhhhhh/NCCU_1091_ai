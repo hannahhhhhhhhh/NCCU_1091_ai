{
 "cells": [
  {
   "cell_type": "code",
   "execution_count": 1,
   "metadata": {},
   "outputs": [],
   "source": [
    "import time"
   ]
  },
  {
   "cell_type": "code",
   "execution_count": 2,
   "metadata": {},
   "outputs": [],
   "source": [
    "t0=time.time()\n",
    "print(t0,type(t0))\n",
    "\n",
    "t1=time.time()\n",
    "print(t1-t0,type(t1-t0))"
   ]
  },
  {
   "cell_type": "code",
   "execution_count": 3,
   "metadata": {},
   "outputs": [],
   "source": [
    "tt=time.localtime()"
   ]
  },
  {
   "cell_type": "code",
   "execution_count": 4,
   "metadata": {},
   "outputs": [
    {
     "name": "stdout",
     "output_type": "stream",
     "text": [
      "<class 'time.struct_time'> time.struct_time(tm_year=2018, tm_mon=12, tm_mday=5, tm_hour=17, tm_min=49, tm_sec=12, tm_wday=2, tm_yday=339, tm_isdst=0)\n"
     ]
    }
   ],
   "source": [
    "print(type(tt),tt)"
   ]
  },
  {
   "cell_type": "code",
   "execution_count": 5,
   "metadata": {},
   "outputs": [
    {
     "data": {
      "text/plain": [
       "time.struct_time(tm_year=2018, tm_mon=12, tm_mday=5, tm_hour=17, tm_min=49, tm_sec=12, tm_wday=2, tm_yday=339, tm_isdst=0)"
      ]
     },
     "execution_count": 5,
     "metadata": {},
     "output_type": "execute_result"
    }
   ],
   "source": [
    "time.localtime(t0)"
   ]
  },
  {
   "cell_type": "code",
   "execution_count": 6,
   "metadata": {},
   "outputs": [
    {
     "data": {
      "text/plain": [
       "1544003352.0"
      ]
     },
     "execution_count": 6,
     "metadata": {},
     "output_type": "execute_result"
    }
   ],
   "source": [
    "time.mktime(tt) #時間元組轉數值"
   ]
  },
  {
   "cell_type": "code",
   "execution_count": 7,
   "metadata": {},
   "outputs": [],
   "source": [
    "import datetime"
   ]
  },
  {
   "cell_type": "code",
   "execution_count": 8,
   "metadata": {},
   "outputs": [],
   "source": [
    "d1=datetime.datetime.now()"
   ]
  },
  {
   "cell_type": "code",
   "execution_count": 9,
   "metadata": {},
   "outputs": [
    {
     "name": "stdout",
     "output_type": "stream",
     "text": [
      "2018-12-05 17:49:12.162160 <class 'datetime.datetime'>\n"
     ]
    }
   ],
   "source": [
    "print(d1,type(d1))"
   ]
  },
  {
   "cell_type": "code",
   "execution_count": 10,
   "metadata": {},
   "outputs": [],
   "source": [
    "t3 = '2017-03-20 16:53:20'"
   ]
  },
  {
   "cell_type": "code",
   "execution_count": 11,
   "metadata": {},
   "outputs": [],
   "source": [
    "t33=datetime.datetime.strptime(t3,'%Y-%m-%d %H:%M:%S')"
   ]
  },
  {
   "cell_type": "code",
   "execution_count": 13,
   "metadata": {},
   "outputs": [],
   "source": [
    "name='hannah'\n",
    "birth='1984/12/30'\n",
    "nbaYear='2003'\n",
    "endYear=\"2018/1/23\"\n",
    "ratio=27.2"
   ]
  },
  {
   "cell_type": "code",
   "execution_count": 1,
   "metadata": {},
   "outputs": [],
   "source": [
    "name='Kevin Durant'\n",
    "birth='2001/1/1'\n",
    "nbaYear='2001'\n",
    "endYear='2001/12/31'\n",
    "ratio=27.1"
   ]
  },
  {
   "cell_type": "code",
   "execution_count": 3,
   "metadata": {},
   "outputs": [],
   "source": [
    "name='Hello'\n",
    "birth='2015/12/31'\n",
    "nbaYear='2000'\n",
    "endYear='2016/3/1'\n",
    "ratio=100"
   ]
  },
  {
   "cell_type": "code",
   "execution_count": 6,
   "metadata": {},
   "outputs": [],
   "source": [
    "name='Kevin Durant'\n",
    "birth='1988/9/29'\n",
    "nbaYear='2007'\n",
    "endYear='2018/1/10'\n",
    "ratio=27.1"
   ]
  },
  {
   "cell_type": "code",
   "execution_count": 7,
   "metadata": {},
   "outputs": [
    {
     "name": "stdout",
     "output_type": "stream",
     "text": [
      "Kevin Durant became the player with 20,000 career points at 29 years and 103 days.\n"
     ]
    }
   ],
   "source": [
    "\n",
    "# [Kevin Durant] became the player with [20,000] career points at [29 years and 103 days].\n",
    "name=input()\n",
    "birth=input()\n",
    "nbaYear=input()\n",
    "endYear=input()\n",
    "ratio=float(input())\n",
    "\n",
    "import datetime\n",
    "\n",
    "bd=datetime.datetime.strptime(birth,'%Y/%m/%d')\n",
    "ey=datetime.datetime.strptime(endYear,'%Y/%m/%d')\n",
    "ny=datetime.datetime.strptime(nbaYear,'%Y')\n",
    "\n",
    "\n",
    "score=(ey.year-ny.year)*82*ratio\n",
    "if score>35000:\n",
    "    score='35,000'\n",
    "elif 30000<score<35000:\n",
    "    score='30,000'\n",
    "elif 25000<score<30000:\n",
    "    score='25,000'\n",
    "else:\n",
    "    score='20,000'        \n",
    "\n",
    "\n",
    "# 幾歲\n",
    "\n",
    "# setbd=bd.month\n",
    "if (ey.year%4==0 and ey.year%100!=0) or ey.year%400==0: #閏年\n",
    "    if ey.month<bd.month:\n",
    "        yy=ey.year-bd.year-1\n",
    "        setm,setd=str(bd.month),str(bd.day)\n",
    "        sety=str(ey.year)\n",
    "        cc=sety,setm,setd\n",
    "        cdatetime=\"/\".join(cc)\n",
    "        cd=datetime.datetime.strptime(cdatetime,'%Y/%m/%d')\n",
    "        oneyear=datetime.timedelta(366)\n",
    "        days=ey-cd+oneyear\n",
    "        days=str(days)\n",
    "\n",
    "        dayss=(days).split(\",\")[0]+'.'\n",
    "        print(name,'became the player with',score,'career points at',yy,'years and',dayss)\n",
    "\n",
    "    else:\n",
    "        yy=ey.year-bd.year\n",
    "\n",
    "        setm,setd=str(bd.month),str(bd.day)\n",
    "        sety=str(ey.year)\n",
    "        cc=sety,setm,setd\n",
    "        cdatetime=\"/\".join(cc)\n",
    "        cd=datetime.datetime.strptime(cdatetime,'%Y/%m/%d')\n",
    "        days=ey-cd\n",
    "        days=str(days)\n",
    "        dayss=(days).split(\",\")[0]+'.'\n",
    "        print(name,'became the player with',score,'career points at',yy,'years and',dayss)\n",
    "    \n",
    "else:    \n",
    "    if ey.month<bd.month:\n",
    "        yy=ey.year-bd.year-1\n",
    "        setm,setd=str(bd.month),str(bd.day)\n",
    "        sety=str(ey.year)\n",
    "        cc=sety,setm,setd\n",
    "        cdatetime=\"/\".join(cc)\n",
    "        cd=datetime.datetime.strptime(cdatetime,'%Y/%m/%d')\n",
    "        oneyear=datetime.timedelta(365)\n",
    "        days=ey-cd+oneyear\n",
    "        days=str(days)\n",
    "\n",
    "        dayss=(days).split(\",\")[0]+'.'\n",
    "        print(name,'became the player with',score,'career points at',yy,'years and',dayss)\n",
    "\n",
    "    else:\n",
    "        yy=ey.year-bd.year\n",
    "\n",
    "        setm,setd=str(bd.month),str(bd.day)\n",
    "        sety=str(ey.year)\n",
    "        cc=sety,setm,setd\n",
    "        cdatetime=\"/\".join(cc)\n",
    "        cd=datetime.datetime.strptime(cdatetime,'%Y/%m/%d')\n",
    "        days=ey-cd\n",
    "        days=str(days)\n",
    "        dayss=(days).split(\",\")[0]+'.'\n",
    "        print(name,'became the player with',score,'career points at',yy,'years and',dayss)\n",
    "        \n",
    "\n",
    "\n",
    "\n"
   ]
  },
  {
   "cell_type": "code",
   "execution_count": 15,
   "metadata": {},
   "outputs": [],
   "source": [
    "bdd=datetime.datetime.strptime(birth,'%Y/%m/%d')"
   ]
  },
  {
   "cell_type": "code",
   "execution_count": 2,
   "metadata": {},
   "outputs": [
    {
     "data": {
      "text/plain": [
       "3"
      ]
     },
     "execution_count": 2,
     "metadata": {},
     "output_type": "execute_result"
    }
   ],
   "source": []
  },
  {
   "cell_type": "code",
   "execution_count": null,
   "metadata": {},
   "outputs": [],
   "source": []
  },
  {
   "cell_type": "code",
   "execution_count": null,
   "metadata": {},
   "outputs": [],
   "source": []
  }
 ],
 "metadata": {
  "kernelspec": {
   "display_name": "Python 3",
   "language": "python",
   "name": "python3"
  },
  "language_info": {
   "codemirror_mode": {
    "name": "ipython",
    "version": 3
   },
   "file_extension": ".py",
   "mimetype": "text/x-python",
   "name": "python",
   "nbconvert_exporter": "python",
   "pygments_lexer": "ipython3",
   "version": "3.7.0"
  }
 },
 "nbformat": 4,
 "nbformat_minor": 2
}

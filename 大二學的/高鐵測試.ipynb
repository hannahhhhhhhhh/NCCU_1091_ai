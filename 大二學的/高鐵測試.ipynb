{
 "cells": [
  {
   "cell_type": "code",
   "execution_count": 10,
   "metadata": {},
   "outputs": [],
   "source": []
  },
  {
   "cell_type": "code",
   "execution_count": 46,
   "metadata": {},
   "outputs": [
    {
     "data": {
      "text/plain": [
       "'https://irs.thsrc.com.tw/IMINT/'"
      ]
     },
     "execution_count": 46,
     "metadata": {},
     "output_type": "execute_result"
    }
   ],
   "source": [
    "from selenium import webdriver\n",
    "from pyquery import PyQuery as pq\n",
    "op = webdriver.ChromeOptions()      # 額外選項\n",
    "op.binary_location = \"/Applications/Google Chrome 2.app/Contents/MacOS/Google Chrome\"\n",
    "driver = webdriver.Chrome(options = op, executable_path=\"/Users/hannahhsu/Desktop/chromedriver\")\n",
    "driver.get('https://irs.thsrc.com.tw/IMINT/?student=university')\n",
    "driver.current_url"
   ]
  },
  {
   "cell_type": "code",
   "execution_count": 47,
   "metadata": {},
   "outputs": [],
   "source": [
    "driver.find_element_by_css_selector('#btn-confirm').click()\n",
    "driver.find_element_by_css_selector('#content > tbody > tr:nth-child(1) > td:nth-child(2) > span > select').click()\n",
    "driver.find_element_by_css_selector('#content > tbody > tr:nth-child(1) > td:nth-child(2) > span > select > option:nth-child(3)').click()\n",
    "driver.find_element_by_css_selector('#content > tbody > tr:nth-child(1) > td:nth-child(2) > select').click()\n",
    "driver.find_element_by_css_selector('#content > tbody > tr:nth-child(1) > td:nth-child(2) > select > option:nth-child(8)').click()\n",
    "\n",
    "driver.find_element_by_css_selector('#bookingMethod_1').click()"
   ]
  },
  {
   "cell_type": "code",
   "execution_count": 48,
   "metadata": {},
   "outputs": [],
   "source": [
    "driver.find_element_by_css_selector('#toTimeInputField').clear()\n",
    "inputDate = driver.find_element_by_css_selector('#toTimeInputField')\n",
    "inputDate.send_keys('2019/01/07')"
   ]
  },
  {
   "cell_type": "code",
   "execution_count": 49,
   "metadata": {},
   "outputs": [],
   "source": [
    "driver.find_element_by_css_selector('#toTrainID > input[type=\"text\"]').click()\n",
    "inputNum = driver.find_element_by_css_selector('#toTrainID > input[type=\"text\"]')\n",
    "inputNum.send_keys('295')"
   ]
  },
  {
   "cell_type": "code",
   "execution_count": 52,
   "metadata": {},
   "outputs": [],
   "source": [
    "driver.find_element_by_css_selector('#action > tbody > tr > td > span:nth-child(3) > input').click()\n",
    "inputDate = driver.find_element_by_css_selector('#action > tbody > tr > td > span:nth-child(3) > input')\n",
    "inputDate.send_keys('fqp3')"
   ]
  },
  {
   "cell_type": "code",
   "execution_count": 53,
   "metadata": {},
   "outputs": [],
   "source": [
    "driver.find_element_by_css_selector('#SubmitButton').click()"
   ]
  },
  {
   "cell_type": "code",
   "execution_count": 54,
   "metadata": {},
   "outputs": [],
   "source": [
    "inputId=driver.find_element_by_css_selector('#idNumber')\n",
    "inputId.click()\n",
    "inputId.send_keys('A123456789')\n",
    "\n"
   ]
  },
  {
   "cell_type": "code",
   "execution_count": 55,
   "metadata": {},
   "outputs": [],
   "source": [
    "driver.find_element_by_css_selector('#mobileInputRadio').click()\n",
    "inputPhone = driver.find_element_by_css_selector('#mobilePhone')\n",
    "inputPhone.send_keys('0919356098')"
   ]
  },
  {
   "cell_type": "code",
   "execution_count": 56,
   "metadata": {},
   "outputs": [],
   "source": [
    "inputEmail=driver.find_element_by_css_selector('#name2622')\n",
    "inputEmail.send_keys('hannah919356098@gmail.com')"
   ]
  },
  {
   "cell_type": "code",
   "execution_count": 57,
   "metadata": {},
   "outputs": [],
   "source": [
    "driver.find_element_by_css_selector('#content > table.table_simple > tbody > tr:nth-child(1) > td:nth-child(1) > input').click()"
   ]
  },
  {
   "cell_type": "code",
   "execution_count": 58,
   "metadata": {},
   "outputs": [],
   "source": [
    "driver.find_element_by_css_selector('#isSubmit').click()"
   ]
  },
  {
   "cell_type": "code",
   "execution_count": null,
   "metadata": {},
   "outputs": [],
   "source": []
  }
 ],
 "metadata": {
  "kernelspec": {
   "display_name": "Python 3",
   "language": "python",
   "name": "python3"
  },
  "language_info": {
   "codemirror_mode": {
    "name": "ipython",
    "version": 3
   },
   "file_extension": ".py",
   "mimetype": "text/x-python",
   "name": "python",
   "nbconvert_exporter": "python",
   "pygments_lexer": "ipython3",
   "version": "3.7.0"
  }
 },
 "nbformat": 4,
 "nbformat_minor": 2
}

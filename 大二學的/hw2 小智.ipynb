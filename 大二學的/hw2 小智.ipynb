{
 "cells": [
  {
   "cell_type": "code",
   "execution_count": null,
   "metadata": {},
   "outputs": [],
   "source": [
    "startpoint=input()\n",
    "A=input()\n",
    "place1=input()\n",
    "B=input()\n",
    "place2=input()"
   ]
  },
  {
   "cell_type": "code",
   "execution_count": 3,
   "metadata": {},
   "outputs": [],
   "source": [
    "a1,a2=place1.split(\" \")[0],place1.split(\" \")[1]\n",
    "b1,b2=place2.split(\" \")[0],place2.split(\" \")[1]\n",
    "c1,c2=startpoint.split(\" \")[0],startpoint.split(\" \")[1]"
   ]
  },
  {
   "cell_type": "code",
   "execution_count": 4,
   "metadata": {},
   "outputs": [],
   "source": [
    "a1,a2=int(a1),int(a2)\n",
    "b1,b2=int(b1),int(b2)\n",
    "c1,c2=int(c1),int(c2)"
   ]
  },
  {
   "cell_type": "code",
   "execution_count": 5,
   "metadata": {},
   "outputs": [],
   "source": [
    "dis1=(a1-c1)**2+(a2-c2)**2\n",
    "dis2=(b1-c1)**2+(b2-c2)**2"
   ]
  },
  {
   "cell_type": "code",
   "execution_count": 6,
   "metadata": {},
   "outputs": [
    {
     "name": "stdout",
     "output_type": "stream",
     "text": [
      "North Pole\n"
     ]
    }
   ],
   "source": [
    "if dis1>dis2:\n",
    "    print(A)\n",
    "elif dis2>dis1:\n",
    "    print(B)\n",
    "else :\n",
    "    if a1<b1:\n",
    "        print(A)\n",
    "    else:\n",
    "        print(B)"
   ]
  },
  {
   "cell_type": "code",
   "execution_count": 5,
   "metadata": {},
   "outputs": [
    {
     "name": "stdout",
     "output_type": "stream",
     "text": [
      "10 10\n",
      "A\n",
      "19 49\n",
      "B\n",
      "80 0\n"
     ]
    }
   ],
   "source": [
    "startpoint=input()\n",
    "A=input()\n",
    "place1=input()\n",
    "B=input()\n",
    "place2=input()\n",
    "a1,a2=place1.split(\" \")[0],place1.split(\" \")[1]\n",
    "b1,b2=place2.split(\" \")[0],place2.split(\" \")[1]\n",
    "c1,c2=startpoint.split(\" \")[0],startpoint.split(\" \")[1]\n",
    "a1,a2=int(a1),int(a2)\n",
    "b1,b2=int(b1),int(b2)\n",
    "c1,c2=int(c1),int(c2)\n",
    "dis1=(a1-c1)**2+(a2-c2)**2\n",
    "dis2=(b1-c1)**2+(b2-c2)**2\n",
    "if dis1>dis2:\n",
    "    print(A)\n",
    "    print (\"aaa\")\n",
    "elif dis2<dis1:\n",
    "    print(B)\n",
    "    print(\"bbb\")\n",
    "elif dis1==dis2 :\n",
    "    if a1<b1:\n",
    "        print(A)\n",
    "        print (\"ccc\")\n",
    "    else:\n",
    "        print(B)\n",
    "        print (\"ddd\")"
   ]
  },
  {
   "cell_type": "code",
   "execution_count": null,
   "metadata": {},
   "outputs": [],
   "source": []
  },
  {
   "cell_type": "code",
   "execution_count": null,
   "metadata": {},
   "outputs": [],
   "source": []
  },
  {
   "cell_type": "code",
   "execution_count": null,
   "metadata": {},
   "outputs": [],
   "source": []
  }
 ],
 "metadata": {
  "kernelspec": {
   "display_name": "Python 3",
   "language": "python",
   "name": "python3"
  },
  "language_info": {
   "codemirror_mode": {
    "name": "ipython",
    "version": 3
   },
   "file_extension": ".py",
   "mimetype": "text/x-python",
   "name": "python",
   "nbconvert_exporter": "python",
   "pygments_lexer": "ipython3",
   "version": "3.7.0"
  }
 },
 "nbformat": 4,
 "nbformat_minor": 2
}

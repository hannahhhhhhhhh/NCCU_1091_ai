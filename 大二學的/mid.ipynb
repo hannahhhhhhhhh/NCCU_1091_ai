{
 "cells": [
  {
   "cell_type": "code",
   "execution_count": null,
   "metadata": {},
   "outputs": [],
   "source": []
  },
  {
   "cell_type": "code",
   "execution_count": null,
   "metadata": {},
   "outputs": [],
   "source": []
  },
  {
   "cell_type": "code",
   "execution_count": null,
   "metadata": {},
   "outputs": [],
   "source": [
    "X=int(input())\n",
    "\n",
    "for p in range(X):\n",
    "    for d in range(X+p):\n",
    "        if d == X+p-1: #右邊內斜\n",
    "            print(\"1\",end=\"\") \n",
    "        elif d == X-p-1: #左邊鞋\n",
    "            print(\"2\",end=\"\") \n",
    "        elif p == X-1: #最底下\n",
    "            print(\"3\",end=\"\") \n",
    "        elif d < X-p-1: \n",
    "            print(\" \",end=\"\")\n",
    "        else:\n",
    "            print(\"x\",end=\"\")"
   ]
  },
  {
   "cell_type": "markdown",
   "metadata": {},
   "source": []
  },
  {
   "cell_type": "code",
   "execution_count": null,
   "metadata": {},
   "outputs": [],
   "source": [
    "X=int(input())\n",
    "\n",
    "for p in range(X):\n",
    "    print(\"W\",p)\n",
    "    for d in range(X+p):\n",
    "        print(\"d\",d)\n",
    "    print(\"again\")"
   ]
  },
  {
   "cell_type": "code",
   "execution_count": null,
   "metadata": {},
   "outputs": [],
   "source": []
  },
  {
   "cell_type": "code",
   "execution_count": null,
   "metadata": {},
   "outputs": [],
   "source": [
    "print(\"o\",end=\"\")"
   ]
  },
  {
   "cell_type": "code",
   "execution_count": null,
   "metadata": {},
   "outputs": [],
   "source": []
  },
  {
   "cell_type": "code",
   "execution_count": 7,
   "metadata": {},
   "outputs": [
    {
     "name": "stdout",
     "output_type": "stream",
     "text": [
      "4\n",
      "   o\n",
      "  oxo\n",
      " oxxxo\n",
      "ooooooo\n"
     ]
    }
   ],
   "source": [
    "X=int(input())\n",
    "\n",
    "for p in range(X):\n",
    "    \n",
    "    for d in range(X+p):\n",
    "        if d == X+p-1: #右邊內斜\n",
    "            print(\"o\") \n",
    "        elif d == X-p-1: #左邊鞋\n",
    "            print(\"o\",end=\"\") \n",
    "        elif p == X-1: #最底下\n",
    "            print(\"o\",end=\"\") \n",
    "        elif d < X-p-1: \n",
    "            print(\" \",end=\"\")\n",
    "        else:\n",
    "            print(\"x\",end=\"\")"
   ]
  },
  {
   "cell_type": "code",
   "execution_count": null,
   "metadata": {},
   "outputs": [],
   "source": []
  },
  {
   "cell_type": "code",
   "execution_count": 33,
   "metadata": {},
   "outputs": [],
   "source": [
    "alphabet = {'A':10,'J':18,'S':26,\n",
    "       'B':11,'K':19,'T':27,\n",
    "       'C':12,'L':20,'U':28,\n",
    "       'D':13,'M':21,'V':29,\n",
    "       'E':14,'N':22,'W':32,\n",
    "       'F':15,'O':35,'X':30,\n",
    "       'G':16,'P':23,'Y':31,\n",
    "       'H':17,'Q':24,'Z':33,\n",
    "       'I':34,'R':25}\n",
    "\n",
    "\n",
    "def ID_Checker(n):    \n",
    "    alphabet=[]\n",
    "    \n",
    "    if len(n) == 10: #吃資料是不是十個字元\n",
    "        n = str(alphabet[n[0]]) + n[1:]   #把字母丟到字典裡找，變成數字＋後面的數字碼\n",
    "        for i in range(len(n)): \n",
    "            total = i\n",
    "            if i == 0:\n",
    "                total+=int(n[i]) * 1  #n要存成什麼資料？1 0   2 2 8 7 0 3 7 1 2\n",
    "            elif i == 10:                                         #1 9.  8,7,6,5,4,3,2,1,1\n",
    "                total+=int(n[i]) * 1\n",
    "            else:\n",
    "                total+=int(n[i]) * i\n",
    "            return total\n",
    "    \n",
    "    if len(n) == 10: #吃資料是不是十個字元\n",
    "            allnumber=[alphabet[n[0]], n[1:]]   #把字母丟到字典裡找，變成數字＋後面的數字碼\n",
    "        \n",
    "        \n",
    "        \n",
    "        \n",
    "        \n",
    "        "
   ]
  },
  {
   "cell_type": "code",
   "execution_count": 34,
   "metadata": {},
   "outputs": [
    {
     "ename": "TypeError",
     "evalue": "list indices must be integers or slices, not str",
     "output_type": "error",
     "traceback": [
      "\u001b[0;31m---------------------------------------------------------------------------\u001b[0m",
      "\u001b[0;31mTypeError\u001b[0m                                 Traceback (most recent call last)",
      "\u001b[0;32m<ipython-input-34-3b138e97d77e>\u001b[0m in \u001b[0;36m<module>\u001b[0;34m()\u001b[0m\n\u001b[0;32m----> 1\u001b[0;31m \u001b[0mX\u001b[0m\u001b[0;34m=\u001b[0m\u001b[0mID_Checker\u001b[0m\u001b[0;34m(\u001b[0m\u001b[0;34m\"A228793847\"\u001b[0m\u001b[0;34m)\u001b[0m\u001b[0;34m\u001b[0m\u001b[0m\n\u001b[0m",
      "\u001b[0;32m<ipython-input-33-757dd6326ca8>\u001b[0m in \u001b[0;36mID_Checker\u001b[0;34m(n)\u001b[0m\n\u001b[1;32m     14\u001b[0m \u001b[0;34m\u001b[0m\u001b[0m\n\u001b[1;32m     15\u001b[0m     \u001b[0;32mif\u001b[0m \u001b[0mlen\u001b[0m\u001b[0;34m(\u001b[0m\u001b[0mn\u001b[0m\u001b[0;34m)\u001b[0m \u001b[0;34m==\u001b[0m \u001b[0;36m10\u001b[0m\u001b[0;34m:\u001b[0m\u001b[0;34m\u001b[0m\u001b[0m\n\u001b[0;32m---> 16\u001b[0;31m         \u001b[0mn\u001b[0m \u001b[0;34m=\u001b[0m \u001b[0mstr\u001b[0m\u001b[0;34m(\u001b[0m\u001b[0malphabet\u001b[0m\u001b[0;34m[\u001b[0m\u001b[0mn\u001b[0m\u001b[0;34m[\u001b[0m\u001b[0;36m0\u001b[0m\u001b[0;34m]\u001b[0m\u001b[0;34m]\u001b[0m\u001b[0;34m)\u001b[0m \u001b[0;34m+\u001b[0m \u001b[0mn\u001b[0m\u001b[0;34m[\u001b[0m\u001b[0;36m1\u001b[0m\u001b[0;34m:\u001b[0m\u001b[0;34m]\u001b[0m   \u001b[0;31m#把字母丟到字典裡找，變成數字＋後面的數字碼\u001b[0m\u001b[0;34m\u001b[0m\u001b[0m\n\u001b[0m\u001b[1;32m     17\u001b[0m         \u001b[0;32mfor\u001b[0m \u001b[0mi\u001b[0m \u001b[0;32min\u001b[0m \u001b[0mrange\u001b[0m\u001b[0;34m(\u001b[0m\u001b[0mlen\u001b[0m\u001b[0;34m(\u001b[0m\u001b[0mn\u001b[0m\u001b[0;34m)\u001b[0m\u001b[0;34m)\u001b[0m\u001b[0;34m:\u001b[0m\u001b[0;34m\u001b[0m\u001b[0m\n\u001b[1;32m     18\u001b[0m             \u001b[0mtotal\u001b[0m \u001b[0;34m=\u001b[0m \u001b[0mi\u001b[0m\u001b[0;34m\u001b[0m\u001b[0m\n",
      "\u001b[0;31mTypeError\u001b[0m: list indices must be integers or slices, not str"
     ]
    }
   ],
   "source": [
    "X=ID_Checker(\"A228793847\")"
   ]
  },
  {
   "cell_type": "code",
   "execution_count": 29,
   "metadata": {},
   "outputs": [
    {
     "name": "stdout",
     "output_type": "stream",
     "text": [
      "A <class 'str'>\n",
      "228703712 <class 'str'>\n"
     ]
    }
   ],
   "source": [
    "n=\"A228703712\"\n",
    "print(n[0],type(n[0]))\n",
    "print(n[1:],type(n[1:]))"
   ]
  },
  {
   "cell_type": "code",
   "execution_count": null,
   "metadata": {},
   "outputs": [],
   "source": []
  },
  {
   "cell_type": "code",
   "execution_count": null,
   "metadata": {},
   "outputs": [],
   "source": []
  },
  {
   "cell_type": "code",
   "execution_count": null,
   "metadata": {},
   "outputs": [],
   "source": []
  },
  {
   "cell_type": "code",
   "execution_count": 46,
   "metadata": {},
   "outputs": [
    {
     "ename": "NameError",
     "evalue": "name 'sort' is not defined",
     "output_type": "error",
     "traceback": [
      "\u001b[0;31m---------------------------------------------------------------------------\u001b[0m",
      "\u001b[0;31mNameError\u001b[0m                                 Traceback (most recent call last)",
      "\u001b[0;32m<ipython-input-46-ddad07bae8da>\u001b[0m in \u001b[0;36m<module>\u001b[0;34m()\u001b[0m\n\u001b[1;32m      1\u001b[0m \u001b[0mn\u001b[0m\u001b[0;34m=\u001b[0m\u001b[0;34m[\u001b[0m\u001b[0;36m23\u001b[0m\u001b[0;34m]\u001b[0m\u001b[0;34m\u001b[0m\u001b[0m\n\u001b[0;32m----> 2\u001b[0;31m \u001b[0mprint\u001b[0m\u001b[0;34m(\u001b[0m\u001b[0msort\u001b[0m\u001b[0;34m(\u001b[0m\u001b[0mn\u001b[0m\u001b[0;34m)\u001b[0m\u001b[0;34m)\u001b[0m\u001b[0;34m\u001b[0m\u001b[0m\n\u001b[0m",
      "\u001b[0;31mNameError\u001b[0m: name 'sort' is not defined"
     ]
    }
   ],
   "source": []
  },
  {
   "cell_type": "code",
   "execution_count": null,
   "metadata": {},
   "outputs": [],
   "source": []
  }
 ],
 "metadata": {
  "kernelspec": {
   "display_name": "Python 3",
   "language": "python",
   "name": "python3"
  },
  "language_info": {
   "codemirror_mode": {
    "name": "ipython",
    "version": 3
   },
   "file_extension": ".py",
   "mimetype": "text/x-python",
   "name": "python",
   "nbconvert_exporter": "python",
   "pygments_lexer": "ipython3",
   "version": "3.7.0"
  }
 },
 "nbformat": 4,
 "nbformat_minor": 2
}

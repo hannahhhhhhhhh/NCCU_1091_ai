{
 "cells": [
  {
   "cell_type": "code",
   "execution_count": null,
   "metadata": {},
   "outputs": [],
   "source": [
    "from apscheduler.schedulers.blocking import BlockingScheduler\n",
    "import datetime\n",
    "scheduler = BlockingScheduler()\n",
    "\n",
    "def my_job():\n",
    "    print(datetime.datetime.now().strftime('%Y-%m-%d %H:%M:%S'),'it works!')"
   ]
  },
  {
   "cell_type": "code",
   "execution_count": null,
   "metadata": {},
   "outputs": [],
   "source": [
    "scheduler.add_job(my_job, 'date', run_date=datetime.datetime(2019, 1, 22, 1, 58, 5), args=[])\n"
   ]
  },
  {
   "cell_type": "code",
   "execution_count": null,
   "metadata": {},
   "outputs": [
    {
     "name": "stderr",
     "output_type": "stream",
     "text": [
      "Run time of job \"my_job (trigger: date[2019-01-22 01:37:05 CST], next run at: 2019-01-22 01:37:05 CST)\" was missed by 0:00:26.689316\n"
     ]
    }
   ],
   "source": [
    "scheduler.start()"
   ]
  },
  {
   "cell_type": "code",
   "execution_count": null,
   "metadata": {},
   "outputs": [],
   "source": [
    "import datetime"
   ]
  },
  {
   "cell_type": "code",
   "execution_count": null,
   "metadata": {},
   "outputs": [],
   "source": [
    "scheduler = BlockingScheduler()"
   ]
  },
  {
   "cell_type": "code",
   "execution_count": null,
   "metadata": {},
   "outputs": [],
   "source": [
    "def my_job():\n",
    "    print(datetime.datetime.now().strftime('%Y-%m-%d %H:%M:%S'),'it works!')"
   ]
  },
  {
   "cell_type": "code",
   "execution_count": null,
   "metadata": {},
   "outputs": [],
   "source": [
    "scheduler.add_job(my_job, 'interval', seconds=2)"
   ]
  },
  {
   "cell_type": "code",
   "execution_count": null,
   "metadata": {},
   "outputs": [],
   "source": [
    "aps_test()\n",
    "trying()"
   ]
  },
  {
   "cell_type": "code",
   "execution_count": null,
   "metadata": {},
   "outputs": [],
   "source": [
    " scheduler.add_job(func=trying, trigger='cron', second='*/5')"
   ]
  },
  {
   "cell_type": "code",
   "execution_count": null,
   "metadata": {},
   "outputs": [],
   "source": []
  },
  {
   "cell_type": "code",
   "execution_count": null,
   "metadata": {},
   "outputs": [],
   "source": [
    "import time\n",
    "from datetime import datetime\n",
    "tartime=datetime.strptime('2019-01-19-16-42-20','%Y-%m-%d-%H-%M-%S')\n",
    "ntime=datetime.now().strftime('%Y-%m-%d %H:%M:%S')"
   ]
  },
  {
   "cell_type": "code",
   "execution_count": null,
   "metadata": {},
   "outputs": [],
   "source": [
    "while True:\n",
    "    ntime=datetime.now()\n",
    "    if ntime<tartime:\n",
    "        time.sleep(0.1)\n",
    "        print(tartime-ntime)\n",
    "    elif ntime>=tartime:\n",
    "        print(1)\n",
    "        break"
   ]
  },
  {
   "cell_type": "code",
   "execution_count": null,
   "metadata": {},
   "outputs": [],
   "source": [
    "tartime2=tartime.strftime('%Y-%m-%d %H:%M:%S')\n",
    "tartime3=time.strptime(tartime2,'%Y-%m-%d %H:%M:%S')\n",
    "tartime4=time.mktime(tartime3)\n",
    "ntime2=time.strptime(ntime,'%Y-%m-%d %H:%M:%S')\n",
    "ntime3=time.mktime(ntime2)\n",
    "print(ntime3-tartime4,type(ntime3-tartime4))"
   ]
  },
  {
   "cell_type": "code",
   "execution_count": null,
   "metadata": {},
   "outputs": [],
   "source": [
    "ntime"
   ]
  },
  {
   "cell_type": "code",
   "execution_count": null,
   "metadata": {},
   "outputs": [],
   "source": [
    "tartime"
   ]
  },
  {
   "cell_type": "code",
   "execution_count": null,
   "metadata": {},
   "outputs": [],
   "source": [
    "ntimeINT"
   ]
  },
  {
   "cell_type": "code",
   "execution_count": null,
   "metadata": {},
   "outputs": [],
   "source": []
  }
 ],
 "metadata": {
  "kernelspec": {
   "display_name": "Python 3",
   "language": "python",
   "name": "python3"
  },
  "language_info": {
   "codemirror_mode": {
    "name": "ipython",
    "version": 3
   },
   "file_extension": ".py",
   "mimetype": "text/x-python",
   "name": "python",
   "nbconvert_exporter": "python",
   "pygments_lexer": "ipython3",
   "version": "3.7.0"
  }
 },
 "nbformat": 4,
 "nbformat_minor": 2
}

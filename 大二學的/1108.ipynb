{
 "cells": [
  {
   "cell_type": "code",
   "execution_count": 1,
   "metadata": {},
   "outputs": [],
   "source": [
    "import datetime"
   ]
  },
  {
   "cell_type": "code",
   "execution_count": 2,
   "metadata": {},
   "outputs": [
    {
     "name": "stdout",
     "output_type": "stream",
     "text": [
      "day is out of range for month\n"
     ]
    }
   ],
   "source": [
    "try:\n",
    "    t1=datetime.datetime(2001,2,29,0,0,0)\n",
    "except Exception as e:\n",
    "    print(e)"
   ]
  },
  {
   "cell_type": "code",
   "execution_count": 3,
   "metadata": {},
   "outputs": [
    {
     "data": {
      "text/plain": [
       "'2017-03-08 23:30:42'"
      ]
     },
     "execution_count": 3,
     "metadata": {},
     "output_type": "execute_result"
    }
   ],
   "source": [
    "t2=datetime.datetime(2017,3,8,23,30,42)\n",
    "t2.strftime('%Y-%m-%d %H:%M:%S')"
   ]
  },
  {
   "cell_type": "code",
   "execution_count": 4,
   "metadata": {},
   "outputs": [
    {
     "data": {
      "text/plain": [
       "2307"
      ]
     },
     "execution_count": 4,
     "metadata": {},
     "output_type": "execute_result"
    }
   ],
   "source": [
    "t51=datetime.datetime(2010,10,10,0,0,0)\n",
    "t52=datetime.datetime(2017,2,2,0,0,0)\n",
    "(t52-t51).days"
   ]
  },
  {
   "cell_type": "code",
   "execution_count": null,
   "metadata": {},
   "outputs": [],
   "source": []
  },
  {
   "cell_type": "code",
   "execution_count": null,
   "metadata": {},
   "outputs": [],
   "source": []
  },
  {
   "cell_type": "code",
   "execution_count": 5,
   "metadata": {},
   "outputs": [
    {
     "name": "stdout",
     "output_type": "stream",
     "text": [
      "[50, 85, 26, 500, 90, 80, 60, 75, 460, 86]\n",
      "0\n",
      "0\n",
      "1\n",
      "2\n",
      "26 is lower than 50\n",
      "3\n",
      "4\n",
      "5\n",
      "6\n",
      "7\n",
      "8\n",
      "9\n",
      "0\n",
      "0\n",
      "1\n",
      "2\n",
      "3\n",
      "4\n",
      "5\n",
      "6\n",
      "7\n",
      "8\n",
      "0\n",
      "0\n",
      "1\n",
      "2\n",
      "3\n",
      "80 is lower than 85\n",
      "4\n",
      "60 is lower than 80\n",
      "5\n",
      "6\n",
      "7\n",
      "0\n",
      "0\n",
      "1\n",
      "2\n",
      "3\n",
      "80 is lower than 85\n",
      "4\n",
      "75 is lower than 80\n",
      "5\n",
      "6\n",
      "0\n",
      "0\n",
      "1\n",
      "2\n",
      "3\n",
      "80 is lower than 85\n",
      "4\n",
      "5\n",
      "0\n",
      "0\n",
      "1\n",
      "2\n",
      "3\n",
      "4\n",
      "0\n",
      "0\n",
      "1\n",
      "90 is lower than 500\n",
      "2\n",
      "3\n",
      "86 is lower than 90\n",
      "0\n",
      "0\n",
      "1\n",
      "90 is lower than 500\n",
      "2\n",
      "0\n",
      "0\n",
      "1\n",
      "460 is lower than 500\n",
      "0\n",
      "0\n",
      "[26, 50, 60, 75, 80, 85, 86, 90, 460, 500]\n"
     ]
    }
   ],
   "source": [
    "tableRight = [50, 85, 26, 500, 90, 80, 60, 75, 460, 86]\n",
    "count =int(\"10\")# 有幾張考卷呢\n",
    "print(tableRight)\n",
    " \n",
    "tableLeft = []# 搬左邊桌子 `\n",
    " \n",
    "# 從剩下考卷挑最低分，放到左邊桌子\n",
    "for i in range(count):# 右邊桌子有幾張考卷，就挑幾次最低分\n",
    "        # 挑出最低分\n",
    "        lowIndex = 0\n",
    "        print(lowIndex)\n",
    "        for i in range( len(tableRight) ):\n",
    "            print(i)\n",
    "            if tableRight[ i ] < tableRight[ lowIndex ]:\n",
    "                print(tableRight[i],\"is lower than\", tableRight[lowIndex])\n",
    "                lowIndex = i\n",
    "        lowest = tableRight[ lowIndex ]\n",
    "        # 挑完最低分 \n",
    "        tableLeft.append(lowest)\t\t# 將最低分append在左邊桌子的最右邊\n",
    "        del tableRight[lowIndex]\n",
    "print(tableLeft)"
   ]
  },
  {
   "cell_type": "code",
   "execution_count": null,
   "metadata": {},
   "outputs": [],
   "source": []
  },
  {
   "cell_type": "code",
   "execution_count": 16,
   "metadata": {},
   "outputs": [
    {
     "name": "stdout",
     "output_type": "stream",
     "text": [
      "3\n",
      "a 65\n",
      "b 80\n",
      "c 92\n",
      "a gets a shrimp!\n",
      "b gets a crab!\n",
      "c gets a tuna!\n"
     ]
    }
   ],
   "source": [
    "num=int(input())\n",
    "nlist=[]\n",
    "glist=[]\n",
    "summ=0\n",
    "sd1=0\n",
    "sd=0\n",
    "for i in range(num):\n",
    "    line=input()\n",
    "    name,score=line.split(\" \")[0],line.split(\" \")[1]\n",
    "    score=int(score)\n",
    "    nlist.append(name)\n",
    "#     print(nlist)\n",
    "    glist.append(score)\n",
    "#     print(glist)#存好資料了\n",
    "    \n",
    "#     計算平均，標準差\n",
    "for score in glist:\n",
    "    summ += score\n",
    "aver=summ/num\n",
    "    #標準差=sd\n",
    "for score in glist:\n",
    "    sd1+=(score-aver)**2\n",
    "sd=(sd1/num)**0.5\n",
    "\n",
    "for i in range(num):\n",
    "    sscore=glist[i]\n",
    "    nname=nlist[i]\n",
    "    #開始比較，分海鮮\n",
    "    if sscore>=aver+2*sd:\n",
    "        print(nname,\"gets a lobster!\")#怎麼呼叫對應的人名？\n",
    "    elif aver+2*sd>sscore>=aver+sd:\n",
    "        print(nname,\"gets a tuna!\")\n",
    "    elif aver+sd>sscore>=aver-sd:\n",
    "        print(nname,\"gets a crab!\")\n",
    "    elif aver-sd>sscore>=aver-2*sd:\n",
    "        print(nname,\"gets a shrimp!\")\n",
    "    elif aver-2*sd>sscore:\n",
    "        print(nname,\"gets an oyster!\")"
   ]
  },
  {
   "cell_type": "code",
   "execution_count": null,
   "metadata": {},
   "outputs": [],
   "source": []
  },
  {
   "cell_type": "code",
   "execution_count": 12,
   "metadata": {},
   "outputs": [
    {
     "name": "stdout",
     "output_type": "stream",
     "text": [
      "give a to me\n"
     ]
    },
    {
     "ename": "KeyError",
     "evalue": "'me'",
     "output_type": "error",
     "traceback": [
      "\u001b[0;31m---------------------------------------------------------------------------\u001b[0m",
      "\u001b[0;31mKeyError\u001b[0m                                  Traceback (most recent call last)",
      "\u001b[0;32m<ipython-input-12-8c743fa06fad>\u001b[0m in \u001b[0;36m<module>\u001b[0;34m()\u001b[0m\n\u001b[1;32m      8\u001b[0m         \u001b[0;32mbreak\u001b[0m\u001b[0;34m\u001b[0m\u001b[0m\n\u001b[1;32m      9\u001b[0m     \u001b[0mche\u001b[0m\u001b[0;34m,\u001b[0m\u001b[0msis\u001b[0m\u001b[0;34m=\u001b[0m\u001b[0mline\u001b[0m\u001b[0;34m[\u001b[0m\u001b[0;36m1\u001b[0m\u001b[0;34m]\u001b[0m\u001b[0;34m,\u001b[0m\u001b[0mline\u001b[0m\u001b[0;34m[\u001b[0m\u001b[0;36m3\u001b[0m\u001b[0;34m]\u001b[0m\u001b[0;34m\u001b[0m\u001b[0m\n\u001b[0;32m---> 10\u001b[0;31m     \u001b[0mdic\u001b[0m\u001b[0;34m[\u001b[0m\u001b[0msis\u001b[0m\u001b[0;34m]\u001b[0m\u001b[0;34m.\u001b[0m\u001b[0mappend\u001b[0m\u001b[0;34m(\u001b[0m\u001b[0mche\u001b[0m\u001b[0;34m)\u001b[0m\u001b[0;34m\u001b[0m\u001b[0m\n\u001b[0m\u001b[1;32m     11\u001b[0m \u001b[0;34m\u001b[0m\u001b[0m\n",
      "\u001b[0;31mKeyError\u001b[0m: 'me'"
     ]
    }
   ],
   "source": [
    "\n",
    "sisList=[]\n",
    "cheList=[]\n",
    "dic={}\n",
    "while True:\n",
    "    line=input().split(\" \")\n",
    "    if line==[\"Chemical\",\"X\"]:\n",
    "        break\n",
    "    che,sis=line[1],line[3]\n",
    "    dic[sis].append(che)\n",
    "    "
   ]
  },
  {
   "cell_type": "code",
   "execution_count": null,
   "metadata": {},
   "outputs": [],
   "source": [
    "line=input()\n",
    "print(\"i\",line)"
   ]
  },
  {
   "cell_type": "code",
   "execution_count": null,
   "metadata": {},
   "outputs": [],
   "source": []
  },
  {
   "cell_type": "code",
   "execution_count": null,
   "metadata": {},
   "outputs": [],
   "source": []
  },
  {
   "cell_type": "code",
   "execution_count": 14,
   "metadata": {},
   "outputs": [
    {
     "name": "stdout",
     "output_type": "stream",
     "text": [
      "give a to me\n"
     ]
    },
    {
     "ename": "KeyError",
     "evalue": "'me'",
     "output_type": "error",
     "traceback": [
      "\u001b[0;31m---------------------------------------------------------------------------\u001b[0m",
      "\u001b[0;31mKeyError\u001b[0m                                  Traceback (most recent call last)",
      "\u001b[0;32m<ipython-input-14-ddb6f99ee02d>\u001b[0m in \u001b[0;36m<module>\u001b[0;34m()\u001b[0m\n\u001b[1;32m      5\u001b[0m         \u001b[0;32mbreak\u001b[0m\u001b[0;34m\u001b[0m\u001b[0m\n\u001b[1;32m      6\u001b[0m     \u001b[0msis\u001b[0m\u001b[0;34m,\u001b[0m \u001b[0mmat\u001b[0m \u001b[0;34m=\u001b[0m \u001b[0mline\u001b[0m\u001b[0;34m[\u001b[0m\u001b[0;36m3\u001b[0m\u001b[0;34m]\u001b[0m\u001b[0;34m,\u001b[0m \u001b[0mline\u001b[0m\u001b[0;34m[\u001b[0m\u001b[0;36m1\u001b[0m\u001b[0;34m]\u001b[0m\u001b[0;34m\u001b[0m\u001b[0m\n\u001b[0;32m----> 7\u001b[0;31m     \u001b[0msisters\u001b[0m\u001b[0;34m[\u001b[0m\u001b[0msis\u001b[0m\u001b[0;34m]\u001b[0m \u001b[0;34m.\u001b[0m\u001b[0mappend\u001b[0m\u001b[0;34m(\u001b[0m \u001b[0mmat\u001b[0m \u001b[0;34m)\u001b[0m\u001b[0;34m\u001b[0m\u001b[0m\n\u001b[0m\u001b[1;32m      8\u001b[0m \u001b[0mprint\u001b[0m\u001b[0;34m(\u001b[0m \u001b[0msisters\u001b[0m \u001b[0;34m)\u001b[0m\u001b[0;34m\u001b[0m\u001b[0m\n",
      "\u001b[0;31mKeyError\u001b[0m: 'me'"
     ]
    }
   ],
   "source": [
    "sisters = {}\n",
    "while True: \n",
    "    line = input().split()\n",
    "    if line==[\"Chemical\",  \"X\"]: \n",
    "        break\n",
    "    sis, mat = line[3], line[1]\n",
    "    sisters[sis] .append( mat )\n",
    "print( sisters )"
   ]
  },
  {
   "cell_type": "code",
   "execution_count": null,
   "metadata": {},
   "outputs": [],
   "source": []
  },
  {
   "cell_type": "code",
   "execution_count": null,
   "metadata": {},
   "outputs": [],
   "source": []
  },
  {
   "cell_type": "code",
   "execution_count": null,
   "metadata": {},
   "outputs": [],
   "source": []
  }
 ],
 "metadata": {
  "kernelspec": {
   "display_name": "Python 3",
   "language": "python",
   "name": "python3"
  },
  "language_info": {
   "codemirror_mode": {
    "name": "ipython",
    "version": 3
   },
   "file_extension": ".py",
   "mimetype": "text/x-python",
   "name": "python",
   "nbconvert_exporter": "python",
   "pygments_lexer": "ipython3",
   "version": "3.7.0"
  }
 },
 "nbformat": 4,
 "nbformat_minor": 2
}

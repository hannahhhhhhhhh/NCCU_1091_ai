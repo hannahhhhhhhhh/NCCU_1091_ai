{
 "cells": [
  {
   "cell_type": "code",
   "execution_count": 2,
   "metadata": {},
   "outputs": [],
   "source": [
    "import requests\n",
    "from pyquery import PyQuery as pq\n",
    "response = requests.get(\"https://www.billboard.com/charts/year-end/2017/hot-100-songs\")"
   ]
  },
  {
   "cell_type": "code",
   "execution_count": 3,
   "metadata": {},
   "outputs": [],
   "source": [
    "doc=pq(response.text)"
   ]
  },
  {
   "cell_type": "code",
   "execution_count": 4,
   "metadata": {},
   "outputs": [
    {
     "data": {
      "text/plain": [
       "\"Shape Of You Despacito That's What I Like Humble. Something Just Like This Bad And Boujee Closer Body Like A Back Road Believer Congratulations Say You Won't Let Go I'm The One XO TOUR Llif3 Mask Off Unforgettable 24K Magic Stay Wild Thoughts Black Beatles Starboy Location Attention There's Nothing Holdin' Me Back Bodak Yellow (Money Moves) Redbone I Don't Wanna Live Forever (Fifty Shades Darker) It Ain't Me iSpy Issues Scars To Your Beautiful 1-800-273-8255 Slow Hands Love On The Brain I Feel It Coming Bounce Back Strip That Down Fake Love Don't Wanna Know Look What You Made Me Do Castle On The Hill Bad Things Paris Side To Side Rockabye Feel It Still Let Me Love You Sorry Not Sorry Bank Account Can't Stop The Feeling! Mi Gente Thunder T-Shirt Rake It Up Mercy Tunnel Vision Rockstar In Case You Didn't Know Heathens Now Or Never Caroline Rolex DNA. Juju On That Beat (TZ Anthem) Swang Passionfruit Loyalty. Praying Goosebumps Cold Broccoli Slide What Ifs Chained To The Rhythm Feels All Time Low Hurricane Too Good At Goodbyes Young Dumb & Broke Magnolia Love Galore Drowning Starving Both What About Us Swalla Slippery Sign Of The Times Water Under The Bridge Malibu Down No Promises Treat You Better I Get The Bag Small Town Boy Everyday We Lit Havana What Lovers Do Do Re Mi Look At Me! The Fighter\""
      ]
     },
     "execution_count": 4,
     "metadata": {},
     "output_type": "execute_result"
    }
   ],
   "source": [
    "doc(\"#main > div.container.container--xxlight-grey.container--no-side-padding > div > div > div.chart-details__item-list > article > div.ye-chart-item__primary-row > div.ye-chart-item__text > div.ye-chart-item__title\").text()"
   ]
  },
  {
   "cell_type": "code",
   "execution_count": 5,
   "metadata": {
    "scrolled": true
   },
   "outputs": [
    {
     "name": "stdout",
     "output_type": "stream",
     "text": [
      "\n"
     ]
    },
    {
     "ename": "ValueError",
     "evalue": "invalid literal for int() with base 10: ''",
     "output_type": "error",
     "traceback": [
      "\u001b[0;31m---------------------------------------------------------------------------\u001b[0m",
      "\u001b[0;31mValueError\u001b[0m                                Traceback (most recent call last)",
      "\u001b[0;32m<ipython-input-5-657efe611fa0>\u001b[0m in \u001b[0;36m<module>\u001b[0;34m()\u001b[0m\n\u001b[1;32m      1\u001b[0m \u001b[0;32mwhile\u001b[0m \u001b[0;32mTrue\u001b[0m\u001b[0;34m:\u001b[0m\u001b[0;34m\u001b[0m\u001b[0m\n\u001b[0;32m----> 2\u001b[0;31m     \u001b[0mrank\u001b[0m\u001b[0;34m=\u001b[0m\u001b[0mint\u001b[0m\u001b[0;34m(\u001b[0m\u001b[0minput\u001b[0m\u001b[0;34m(\u001b[0m\u001b[0;34m)\u001b[0m\u001b[0;34m)\u001b[0m\u001b[0;34m\u001b[0m\u001b[0m\n\u001b[0m\u001b[1;32m      3\u001b[0m     \u001b[0;32mif\u001b[0m \u001b[0mrank\u001b[0m\u001b[0;34m==\u001b[0m\u001b[0;34m-\u001b[0m\u001b[0;36m1\u001b[0m\u001b[0;34m:\u001b[0m\u001b[0;34m\u001b[0m\u001b[0m\n\u001b[1;32m      4\u001b[0m         \u001b[0;32mbreak\u001b[0m\u001b[0;34m\u001b[0m\u001b[0m\n\u001b[1;32m      5\u001b[0m     \u001b[0;32melse\u001b[0m\u001b[0;34m:\u001b[0m\u001b[0;34m\u001b[0m\u001b[0m\n",
      "\u001b[0;31mValueError\u001b[0m: invalid literal for int() with base 10: ''"
     ]
    }
   ],
   "source": [
    "while True:\n",
    "    rank=int(input())\n",
    "    if rank==-1:\n",
    "        break\n",
    "    else:\n",
    "        songList=[]\n",
    "        singerList=[]\n",
    "        doc.make_links_absolute(base_url=response.url)#把路徑變成絕對路徑\n",
    "        for song in doc(\"#main > div.container.container--xxlight-grey.container--no-side-padding > div > div >\\\n",
    "        div.chart-details__item-list > article > div.ye-chart-item__primary-row > div.ye-chart-item__text > div.ye-chart-item__title\").items():\n",
    "            songList.append(song(\".ye-chart-item__title\").text())\n",
    "\n",
    "        for singer in doc(\"#main > div.container.container--xxlight-grey.container--no-side-padding > div > div>\\\n",
    "        div.chart-details__item-list > article> div.ye-chart-item__primary-row > div.ye-chart-item__text > div.ye-chart-item__artist\").items():\n",
    "            singerList.append(singer(\".ye-chart-item__artist\").text())\n",
    "        print(songList[rank-1],\"by\",singerList[rank-1])\n",
    "\n"
   ]
  },
  {
   "cell_type": "code",
   "execution_count": null,
   "metadata": {},
   "outputs": [],
   "source": [
    "doc(\"#main > div.container.container--xxlight-grey.container--no-side-padding > div > div:nth-child(1) > div.chart-details__item-list > article:nth-child(8) > div.ye-chart-item__primary-row > div.ye-chart-item__text > div.ye-chart-item__artist\").text()"
   ]
  },
  {
   "cell_type": "code",
   "execution_count": null,
   "metadata": {},
   "outputs": [],
   "source": []
  },
  {
   "cell_type": "code",
   "execution_count": 2,
   "metadata": {},
   "outputs": [],
   "source": [
    "import requests\n",
    "from pyquery import PyQuery as pq\n",
    "response = requests.get(\"https://www.delish.com/food/g3758/best-food-trends-2016/\")"
   ]
  },
  {
   "cell_type": "code",
   "execution_count": 3,
   "metadata": {},
   "outputs": [],
   "source": [
    "doc=pq(response.text)"
   ]
  },
  {
   "cell_type": "code",
   "execution_count": 9,
   "metadata": {},
   "outputs": [
    {
     "name": "stdout",
     "output_type": "stream",
     "text": [
      "3\n",
      "Magic Cake\n",
      "https://www.delish.com/cooking/recipe-ideas/recipes/a48962/pumpkin-pie-cake-recipe/\n",
      "Unicorn Ice Cream\n",
      "https://www.delish.com/food-news/g3511/the-most-popular-ice-creams-on-pinterest-right-now/\n",
      "Galaxy Cakes\n",
      "http://www.sprinklebakes.com/2016/04/black-velvet-nebula-cake.html\n"
     ]
    }
   ],
   "source": [
    "import requests\n",
    "from pyquery import PyQuery as pq\n",
    "response = requests.get(\"https://www.delish.com/food/g3758/best-food-trends-2016/\")\n",
    "doc=pq(response.text)\n",
    "\n",
    "doc.make_links_absolute(base_url=response.url)\n",
    "headList=[]\n",
    "linkList=[]\n",
    "for h in range(30):\n",
    "    head=\"{}{}{}\".format(\"#slide-\",h,\"> div.slideshow-slide-content > div.slideshow-slide-hed\")\n",
    "    headList.append(doc(head).text())\n",
    "    \n",
    "time=int(input())\n",
    "for i in range(time):\n",
    "    food=input()\n",
    "    index=headList.index(food)\n",
    "    link=\"{}{}{}\".format(\"#slide-\",index,\"> div.slideshow-slide-content > div.slideshow-slide-dek > p > a\")\n",
    "    print(doc(link).attr(\"href\"))\n",
    "#     linkList.append(doc(link).attr(\"href\"))\n",
    "# print(linkList)"
   ]
  },
  {
   "cell_type": "code",
   "execution_count": 34,
   "metadata": {},
   "outputs": [
    {
     "name": "stdout",
     "output_type": "stream",
     "text": [
      "3\n",
      "Magic Cake\n",
      "https://www.delish.com/food-news/g3511/the-most-popular-ice-creams-on-pinterest-right-now/\n",
      "Unicorn Ice Cream\n",
      "http://www.sprinklebakes.com/2016/04/black-velvet-nebula-cake.html\n",
      "Galaxy Cakes\n",
      "https://www.delish.com/cooking/recipe-ideas/recipes/a47001/cookie-monster-no-churn-ice-cream-recipe/\n"
     ]
    }
   ],
   "source": [
    "time=int(input())\n",
    "for i in range(time):\n",
    "    food=input()\n",
    "    index=headList.index(food)\n",
    "    link=\"{}{}{}\".format(\"#slide-\",index+1,\"> div.slideshow-slide-content > div.slideshow-slide-dek > p > a\")\n",
    "    \n",
    "    print(doc(link).attr(\"href\"))"
   ]
  },
  {
   "cell_type": "code",
   "execution_count": 18,
   "metadata": {},
   "outputs": [
    {
     "name": "stdout",
     "output_type": "stream",
     "text": [
      "http://someofthisandthat.com/homemade-galaxy-ice-cream/\n"
     ]
    }
   ],
   "source": [
    "print(doc(\"#slide-6 > div.slideshow-slide-content > div.slideshow-slide-dek > p > a\").attr(\"href\"))"
   ]
  },
  {
   "cell_type": "code",
   "execution_count": 12,
   "metadata": {},
   "outputs": [
    {
     "name": "stdout",
     "output_type": "stream",
     "text": [
      "/cooking/recipe-ideas/recipes/a48716/unicorn-ice-cream-recipe/\n",
      "http://www.sprinklebakes.com/2016/04/black-velvet-nebula-cake.html\n",
      "/cooking/recipe-ideas/recipes/a47001/cookie-monster-no-churn-ice-cream-recipe/\n",
      "https://www.delish.com/cooking/recipe-ideas/recipes/a46492/unicorn-bark-recipe/\n",
      "/cooking/videos/a49083/how-to-make-sweet-potato-toast-video/\n",
      "http://someofthisandthat.com/homemade-galaxy-ice-cream/\n",
      "None\n",
      "https://www.delish.com/cooking/recipe-ideas/g2861/cauliflower-recipes/?\n",
      "/cooking/recipe-ideas/recipes/a47162/golden-milk-latte-recipe/\n",
      "/cooking/recipe-ideas/recipes/a44656/dunkaroos-no-churn-ice-cream-recipe/\n",
      "None\n",
      "None\n",
      "/cooking/recipe-ideas/recipes/a49252/rainbow-challah-bread-recipe/\n",
      "http://www.smartschoolhouse.com/recipe/fairy-bread/2\n",
      "/cooking/recipe-ideas/recipes/a48695/cheesy-cauli-toast-recipe/\n",
      "/cooking/videos/a48290/how-to-make-rose-gummy-bears/\n",
      "None\n",
      "None\n",
      "/cooking/recipes/a48200/pokeball-oreos-recipe/\n",
      "/cooking/recipe-ideas/recipes/a47787/donut-ice-cream-sandwiches-recipe/\n",
      "/cooking/recipe-ideas/recipes/a47749/tropical-smoothie-bowl-recipe/\n",
      "None\n",
      "None\n",
      "/entertaining/recipes/a49238/birthday-cake-blondies-recipe/\n",
      "https://www.delish.com/cooking/advice/g2683/easy-recipes-to-make-in-muffin-tins/?\n",
      "/cooking/g2880/zucchini-recipes/\n",
      "/food/videos/a47192/youve-got-to-see-how-raindrop-cakes-are-made/\n",
      "None\n",
      "None\n",
      "None\n"
     ]
    }
   ],
   "source": []
  },
  {
   "cell_type": "code",
   "execution_count": null,
   "metadata": {},
   "outputs": [],
   "source": []
  },
  {
   "cell_type": "code",
   "execution_count": null,
   "metadata": {},
   "outputs": [],
   "source": []
  },
  {
   "cell_type": "code",
   "execution_count": null,
   "metadata": {},
   "outputs": [],
   "source": []
  }
 ],
 "metadata": {
  "kernelspec": {
   "display_name": "Python 3",
   "language": "python",
   "name": "python3"
  },
  "language_info": {
   "codemirror_mode": {
    "name": "ipython",
    "version": 3
   },
   "file_extension": ".py",
   "mimetype": "text/x-python",
   "name": "python",
   "nbconvert_exporter": "python",
   "pygments_lexer": "ipython3",
   "version": "3.7.0"
  }
 },
 "nbformat": 4,
 "nbformat_minor": 2
}

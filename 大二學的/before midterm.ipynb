{
 "cells": [
  {
   "cell_type": "code",
   "execution_count": 1,
   "metadata": {},
   "outputs": [
    {
     "ename": "SyntaxError",
     "evalue": "invalid syntax (<ipython-input-1-7ea480daedf5>, line 1)",
     "output_type": "error",
     "traceback": [
      "\u001b[0;36m  File \u001b[0;32m\"<ipython-input-1-7ea480daedf5>\"\u001b[0;36m, line \u001b[0;32m1\u001b[0m\n\u001b[0;31m    Give sugar to Annabella\u001b[0m\n\u001b[0m             ^\u001b[0m\n\u001b[0;31mSyntaxError\u001b[0m\u001b[0;31m:\u001b[0m invalid syntax\n"
     ]
    }
   ],
   "source": [
    "Give sugar to Annabella\n",
    "Give spices to Isabella\n",
    "Give spaghetti to Cocacola\n",
    "Give H2O to Cocacola\n",
    "Give icecream to Annabella\n",
    "Chemical X"
   ]
  },
  {
   "cell_type": "code",
   "execution_count": null,
   "metadata": {},
   "outputs": [],
   "source": [
    "sisters={}\n",
    "namelist=[]\n",
    "while True: \n",
    "    line = input().split()\n",
    "    if line==[\"Chemical\",  \"X\"]: \n",
    "        break\n",
    "    sis, mat = line[3], line[1]\n",
    "    if not sis in sisters:\n",
    "        sisters[sis]=[]\n",
    "    sisters[sis] .append(mat)\n",
    "# print(sisters)\n",
    "\n",
    "namelist=sorted(sisters.keys())\n",
    "# print(namelist)\n",
    "\n",
    "for name in namelist:\n",
    "    print(name)\n",
    "#     print(' '.join(sisters[name]))"
   ]
  },
  {
   "cell_type": "code",
   "execution_count": null,
   "metadata": {},
   "outputs": [],
   "source": []
  },
  {
   "cell_type": "code",
   "execution_count": null,
   "metadata": {},
   "outputs": [],
   "source": [
    "# 輸入數量\n",
    "ccow=[]\n",
    "cctem=[]\n",
    "cceat=[]\n",
    "time=int(input())\n",
    "for i in range(time):\n",
    "    line=input().split(\" \")\n",
    "    cow,tem,eat=line[0],int(line[1]),int(line[2])\n",
    "#     print(cow,tem,line)    \n",
    "# 牛存一個串列 體溫存一個 食量存一個\n",
    "    ccow.append(cow)\n",
    "    cctem.append(tem)\n",
    "    cceat.append(eat)\n",
    "    print(ccow)\n",
    "    print(cctem)\n",
    "    print(cceat)\n",
    "\n",
    "# 體溫最高的印出，踢掉\n",
    "index1=cctem.index(max(cctem))\n",
    "print(ccow[index1])\n",
    "del ccow[index1]\n",
    "del cctem[index1]\n",
    "del cceat[index1]\n",
    "# 食量最高印出，踢掉\n",
    "index2=cceat.index(max(cceat))\n",
    "print(ccow[index2])\n",
    "del ccow[index2]\n",
    "del cctem[index2]\n",
    "del cceat[index2]\n",
    "# 食量最小印出，踢掉\n",
    "index3=cceat.index(min(cceat))\n",
    "print(ccow[index3])\n",
    "del ccow[index3]\n",
    "del cctem[index3]\n",
    "del cceat[index3]"
   ]
  },
  {
   "cell_type": "code",
   "execution_count": 2,
   "metadata": {},
   "outputs": [
    {
     "ename": "SyntaxError",
     "evalue": "invalid syntax (<ipython-input-2-8ce4d720fbb2>, line 2)",
     "output_type": "error",
     "traceback": [
      "\u001b[0;36m  File \u001b[0;32m\"<ipython-input-2-8ce4d720fbb2>\"\u001b[0;36m, line \u001b[0;32m2\u001b[0m\n\u001b[0;31m    CowA 40 18\u001b[0m\n\u001b[0m          ^\u001b[0m\n\u001b[0;31mSyntaxError\u001b[0m\u001b[0;31m:\u001b[0m invalid syntax\n"
     ]
    }
   ],
   "source": [
    "4\n",
    "CowA 40 18\n",
    "CowB 37 10\n",
    "CowC 38 5\n",
    "CowD 36 16"
   ]
  },
  {
   "cell_type": "code",
   "execution_count": null,
   "metadata": {},
   "outputs": [],
   "source": []
  },
  {
   "cell_type": "code",
   "execution_count": null,
   "metadata": {},
   "outputs": [],
   "source": []
  },
  {
   "cell_type": "code",
   "execution_count": null,
   "metadata": {},
   "outputs": [],
   "source": [
    "math=input().split(\",\")\n",
    "eng=input().split(\",\")\n",
    "a=math\n",
    "b=eng\n",
    "# print(mlist,elist)\n",
    "print(math and eng)\n",
    "llist=math+eng\n",
    "# print(llist)\n",
    "# for i in llist:\n",
    "#     print(i)#怎麼挑出math有eng沒有的字串"
   ]
  },
  {
   "cell_type": "code",
   "execution_count": null,
   "metadata": {},
   "outputs": [],
   "source": [
    "Amy,Bob,Woody"
   ]
  },
  {
   "cell_type": "code",
   "execution_count": null,
   "metadata": {},
   "outputs": [],
   "source": [
    "Amy,Jerry,Kevin,Bob"
   ]
  },
  {
   "cell_type": "code",
   "execution_count": null,
   "metadata": {},
   "outputs": [],
   "source": []
  },
  {
   "cell_type": "code",
   "execution_count": 19,
   "metadata": {},
   "outputs": [
    {
     "name": "stdout",
     "output_type": "stream",
     "text": [
      "Amy,Bob,Woody\n",
      "Amy,Jerry,Kevin,Bob\n",
      "Woody\n",
      "Jerry,Kevin\n",
      "Amy,Bob\n",
      "5\n"
     ]
    }
   ],
   "source": [
    "#  依索引質拿出每一個mlist的字串\n",
    "goodjob=[]\n",
    "goodmath=[]\n",
    "goodeng=[]\n",
    "math=input().split(\",\")\n",
    "eng=input().split(\",\")\n",
    "a=math\n",
    "b=eng\n",
    "for i in range(len(a)):\n",
    "    if a[i] not in b:\n",
    "        goodmath.append(a[i])\n",
    "        goodmath=sorted(goodmath)\n",
    "        \n",
    "    else:\n",
    "        continue\n",
    "print(\",\".join(goodmath))\n",
    "        \n",
    "for i in range(len(b)):\n",
    "    if b[i] not in a:\n",
    "        goodeng.append(b[i])\n",
    "        goodeng=sorted(goodeng)\n",
    "        \n",
    "    else:\n",
    "        continue\n",
    "print(\",\".join(goodeng))\n",
    "        \n",
    "for i in range(len(b)):\n",
    "    if b[i] in a:\n",
    "        goodjob.append(b[i])\n",
    "        goodjob=sorted(goodjob)\n",
    "\n",
    "#         print(goodjob)\n",
    "    else:\n",
    "        continue\n",
    "print(\",\".join(goodjob))\n",
    "\n",
    "ttl=len(a)+len(b)-len(goodjob)\n",
    "print(ttl)\n",
    "    # 來確認elist裡面有沒有"
   ]
  },
  {
   "cell_type": "code",
   "execution_count": 10,
   "metadata": {},
   "outputs": [],
   "source": [
    "a=['1','2','3','44']"
   ]
  },
  {
   "cell_type": "code",
   "execution_count": 11,
   "metadata": {},
   "outputs": [
    {
     "name": "stdout",
     "output_type": "stream",
     "text": [
      "1,2,3,44\n"
     ]
    }
   ],
   "source": [
    "print(\",\".join(a))"
   ]
  },
  {
   "cell_type": "code",
   "execution_count": null,
   "metadata": {},
   "outputs": [],
   "source": []
  },
  {
   "cell_type": "code",
   "execution_count": 28,
   "metadata": {},
   "outputs": [
    {
     "name": "stdout",
     "output_type": "stream",
     "text": [
      "1 2 3 4\n",
      "4 3 2 1\n"
     ]
    }
   ],
   "source": [
    "line=input().split(\" \")\n",
    "line1=line[::-1]\n",
    "print(\" \".join(line1))"
   ]
  },
  {
   "cell_type": "code",
   "execution_count": 26,
   "metadata": {},
   "outputs": [
    {
     "data": {
      "text/plain": [
       "['4', '3', '2', '1']"
      ]
     },
     "execution_count": 26,
     "metadata": {},
     "output_type": "execute_result"
    }
   ],
   "source": [
    "line1"
   ]
  },
  {
   "cell_type": "code",
   "execution_count": null,
   "metadata": {},
   "outputs": [],
   "source": [
    "# 字典"
   ]
  },
  {
   "cell_type": "code",
   "execution_count": 29,
   "metadata": {},
   "outputs": [],
   "source": [
    "D2=dict([['a',100],['b',200]])"
   ]
  },
  {
   "cell_type": "code",
   "execution_count": 30,
   "metadata": {},
   "outputs": [
    {
     "data": {
      "text/plain": [
       "{'a': 100, 'b': 200}"
      ]
     },
     "execution_count": 30,
     "metadata": {},
     "output_type": "execute_result"
    }
   ],
   "source": [
    "D2"
   ]
  },
  {
   "cell_type": "code",
   "execution_count": 33,
   "metadata": {},
   "outputs": [
    {
     "name": "stdout",
     "output_type": "stream",
     "text": [
      "dict_values([100, 200])\n"
     ]
    }
   ],
   "source": [
    "print(D2.values())"
   ]
  },
  {
   "cell_type": "code",
   "execution_count": 34,
   "metadata": {},
   "outputs": [
    {
     "name": "stdout",
     "output_type": "stream",
     "text": [
      "dict_items([('a', 100), ('b', 200)])\n"
     ]
    }
   ],
   "source": [
    "print(D2.items())"
   ]
  },
  {
   "cell_type": "code",
   "execution_count": 35,
   "metadata": {},
   "outputs": [
    {
     "ename": "SyntaxError",
     "evalue": "invalid syntax (<ipython-input-35-4b63d37e7614>, line 2)",
     "output_type": "error",
     "traceback": [
      "\u001b[0;36m  File \u001b[0;32m\"<ipython-input-35-4b63d37e7614>\"\u001b[0;36m, line \u001b[0;32m2\u001b[0m\n\u001b[0;31m    key0 2 P\u001b[0m\n\u001b[0m         ^\u001b[0m\n\u001b[0;31mSyntaxError\u001b[0m\u001b[0;31m:\u001b[0m invalid syntax\n"
     ]
    }
   ],
   "source": [
    "time=2\n",
    "key0 2 P\n",
    "key0 2 Q"
   ]
  },
  {
   "cell_type": "code",
   "execution_count": 3,
   "metadata": {},
   "outputs": [
    {
     "name": "stdout",
     "output_type": "stream",
     "text": [
      "key0 2 P\n",
      "{'key0': '2'}\n"
     ]
    }
   ],
   "source": [
    "line=input().split(\" \")\n",
    "k,v,n=line[0],line[1],line[2]\n",
    "n={k:v}\n",
    "print(n)"
   ]
  },
  {
   "cell_type": "code",
   "execution_count": 53,
   "metadata": {},
   "outputs": [],
   "source": [
    "\n",
    "D2=dict([['a',100],['b',200]])\n",
    "D3=dict([['g',3],['b',200],['b',30],['b',100]])"
   ]
  },
  {
   "cell_type": "code",
   "execution_count": 54,
   "metadata": {},
   "outputs": [
    {
     "data": {
      "text/plain": [
       "100"
      ]
     },
     "execution_count": 54,
     "metadata": {},
     "output_type": "execute_result"
    }
   ],
   "source": [
    "D3['b']"
   ]
  },
  {
   "cell_type": "code",
   "execution_count": 55,
   "metadata": {},
   "outputs": [
    {
     "data": {
      "text/plain": [
       "dict_values([3, 100])"
      ]
     },
     "execution_count": 55,
     "metadata": {},
     "output_type": "execute_result"
    }
   ],
   "source": [
    "D3.values()"
   ]
  },
  {
   "cell_type": "code",
   "execution_count": 56,
   "metadata": {},
   "outputs": [
    {
     "data": {
      "text/plain": [
       "{'g': 3, 'b': 100}"
      ]
     },
     "execution_count": 56,
     "metadata": {},
     "output_type": "execute_result"
    }
   ],
   "source": [
    "D3"
   ]
  },
  {
   "cell_type": "markdown",
   "metadata": {},
   "source": [
    "D2"
   ]
  },
  {
   "cell_type": "code",
   "execution_count": 57,
   "metadata": {},
   "outputs": [
    {
     "data": {
      "text/plain": [
       "{'a': 100, 'b': 200}"
      ]
     },
     "execution_count": 57,
     "metadata": {},
     "output_type": "execute_result"
    }
   ],
   "source": [
    "D2"
   ]
  },
  {
   "cell_type": "code",
   "execution_count": 58,
   "metadata": {},
   "outputs": [],
   "source": [
    "D3.update(D2)"
   ]
  },
  {
   "cell_type": "code",
   "execution_count": null,
   "metadata": {},
   "outputs": [],
   "source": []
  }
 ],
 "metadata": {
  "kernelspec": {
   "display_name": "Python 3",
   "language": "python",
   "name": "python3"
  },
  "language_info": {
   "codemirror_mode": {
    "name": "ipython",
    "version": 3
   },
   "file_extension": ".py",
   "mimetype": "text/x-python",
   "name": "python",
   "nbconvert_exporter": "python",
   "pygments_lexer": "ipython3",
   "version": "3.7.0"
  }
 },
 "nbformat": 4,
 "nbformat_minor": 2
}

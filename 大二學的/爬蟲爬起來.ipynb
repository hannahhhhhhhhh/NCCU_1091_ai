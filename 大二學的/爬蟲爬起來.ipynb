{
 "cells": [
  {
   "cell_type": "code",
   "execution_count": 1,
   "metadata": {},
   "outputs": [],
   "source": [
    "import requests\n",
    "from pyquery import PyQuery as pq\n",
    "response = requests.get(\"https://www.webscraper.io/test-sites/e-commerce/static\") #使用了分頁內的網址，只列出了分頁內的商品"
   ]
  },
  {
   "cell_type": "code",
   "execution_count": 2,
   "metadata": {},
   "outputs": [],
   "source": [
    "doc=pq(response.text)"
   ]
  },
  {
   "cell_type": "code",
   "execution_count": 3,
   "metadata": {},
   "outputs": [
    {
     "data": {
      "text/plain": [
       "'Computers Phones'"
      ]
     },
     "execution_count": 3,
     "metadata": {},
     "output_type": "execute_result"
    }
   ],
   "source": [
    "doc(\"#side-menu > li:nth-child(n+2) > a\").text()"
   ]
  },
  {
   "cell_type": "code",
   "execution_count": 10,
   "metadata": {},
   "outputs": [
    {
     "name": "stdout",
     "output_type": "stream",
     "text": [
      "AA https://www.webscraper.io/test-sites/e-commerce/static/computers\n",
      "6\n",
      "6\n",
      "Lenovo IdeaTab\n",
      "Acer Iconia\n",
      "Asus MeMO Pad\n",
      "Amazon Kindle\n",
      "iPad Mini Retina\n",
      "IdeaTab A3500L\n",
      "AA https://www.webscraper.io/test-sites/e-commerce/static/phones\n",
      "6\n",
      "Nokia 123\n",
      "LG Optimus\n",
      "Samsung Galaxy\n",
      "Nokia X\n",
      "Sony Xperia\n",
      "Ubuntu Edge\n"
     ]
    }
   ],
   "source": [
    "# part1 把網路類別展開，讓你看到所有商品\n",
    "doc.make_links_absolute(base_url=response.url)#把路徑變成絕對路徑\n",
    "for eachCate in doc(\"#side-menu > li:nth-child(n+2) > a\").items():\n",
    "    print(\"AA\",eachCate.attr(\"href\"))#取屬性\n",
    "    lv1Doc=pq(eachCate.attr(\"href\"))#得到連結後打開\n",
    "    \n",
    "    lv1Doc.make_links_absolute(base_url=response.url)  #再取一次連結                                                                                                                                                                                                                                                                                                                                                                                                                                                                                                                                                                                                                                                                                                                                                                                                                                                                                                                                                                                                                                                                                                                                                                                                                                                                                                                                                                                                                                                                                                                                                                                                                                                                                                                                                                                                                                                                                                                                                                                                                                                                                                                                                                                                                                                                                                                                                                                                                                                                                                                                                          \n",
    "    for eachSubCate in lv1Doc(\"#side-menu > li.active > ul > li > a\").items():\n",
    "#         print(eachSubCate.attr(\"href\"))\n",
    "        lv2Doc=pq(eachSubCate.attr(\"href\"))\n",
    "#     part2將商品爬下來\n",
    "#先爬第一頁\n",
    "        print(len(lv2Doc(\".thumbnail\")))\n",
    "    for eachItem in lv2Doc(\".thumbnail\").items():\n",
    "        print(eachItem(\".title\").text())"
   ]
  },
  {
   "cell_type": "code",
   "execution_count": 5,
   "metadata": {},
   "outputs": [
    {
     "name": "stdout",
     "output_type": "stream",
     "text": [
      "6\n",
      "6\n",
      "6\n"
     ]
    }
   ],
   "source": [
    "# part1 把網路類別展開，讓你看到所有商品\n",
    "dataset=[]\n",
    "doc.make_links_absolute(base_url=response.url)#把路徑變成絕對路徑\n",
    "for eachCate in doc(\"#side-menu > li:nth-child(n+2) > a\").items():\n",
    "#     print(eachCate.attr(\"href\"))#取屬性\n",
    "    lv1Doc=pq(eachCate.attr(\"href\"))#得到連結後打開\n",
    "    \n",
    "    lv1Doc.make_links_absolute(base_url=response.url)  #再取一次連結                                                                                                                                                                                                                                                                                                                                                                                                                                                                                                                                                                                                                                                                                                                                                                                                                                                                                                                                                                                                                                                                                                                                                                                                                                                                                                                                                                                                                                                                                                                                                                                                                                                                                                                                                                                                                                                                                                                                                                                                                                                                                                                                                                                                                                                                                                                                                                                                                                                                                                                                                          \n",
    "    for eachSubCate in lv1Doc(\"#side-menu > li.active > ul > li > a\").items():\n",
    "#         print(eachSubCate.attr(\"href\"))\n",
    "        lv2Doc=pq(eachSubCate.attr(\"href\"))\n",
    "#     part2\n",
    "        print(len(lv2Doc(\".thumbnail\")))\n",
    "    for eachItem in lv2Doc(\".thumbnail\").items():\n",
    "        itemDict={}\n",
    "        itemDict[\"title\"]=eachItem(\".title\").text()\n",
    "        itemDict[\"price\"]=float(eachItem(\".price\").text().replace(\"$\",\"\"))#去掉錢子號\n",
    "        dataset.append(itemDict)\n"
   ]
  },
  {
   "cell_type": "code",
   "execution_count": 6,
   "metadata": {},
   "outputs": [
    {
     "data": {
      "text/plain": [
       "[{'title': 'Lenovo IdeaTab', 'price': 69.99},\n",
       " {'title': 'Acer Iconia', 'price': 96.99},\n",
       " {'title': 'Asus MeMO Pad', 'price': 102.99},\n",
       " {'title': 'Amazon Kindle', 'price': 103.99},\n",
       " {'title': 'iPad Mini Retina', 'price': 537.99},\n",
       " {'title': 'IdeaTab A3500L', 'price': 88.99},\n",
       " {'title': 'Nokia 123', 'price': 24.99},\n",
       " {'title': 'LG Optimus', 'price': 57.99},\n",
       " {'title': 'Samsung Galaxy', 'price': 93.99},\n",
       " {'title': 'Nokia X', 'price': 109.99},\n",
       " {'title': 'Sony Xperia', 'price': 118.99},\n",
       " {'title': 'Ubuntu Edge', 'price': 499.99}]"
      ]
     },
     "execution_count": 6,
     "metadata": {},
     "output_type": "execute_result"
    }
   ],
   "source": [
    "dataset"
   ]
  },
  {
   "cell_type": "code",
   "execution_count": 7,
   "metadata": {},
   "outputs": [],
   "source": [
    "def crawlThisPage(doc):#第二階段程式碼存進去\n",
    "    collectionList=[]\n",
    "    print(len(doc(\".thumbnail\")))\n",
    "    nextDoc=doc\n",
    "#     for i in range(5):\n",
    "    while True:\n",
    "        for eachItem in doc(\".thumbnail\").items():\n",
    "            itemDict={}\n",
    "            itemDict[\"title\"]=eachItem(\".title\").text()\n",
    "            itemDict[\"price\"]=float(eachItem(\".price\").text().replace(\"$\",\"\"))\n",
    "            collectionList.append(itemDict)\n",
    "        print(nextDoc(\".pagination>li.active+li>a\").attr(\"href\"))\n",
    "        if not nextDoc(\".pagination>li.active+li>a\").attr(\"href\"):\n",
    "            break  \n",
    "        nextDoc=pq(nextDoc(\".pagination>li.active+li>a\").attr(\"href\"))#下一頁的變數叫做nextDoc\n",
    "    return collectionList"
   ]
  },
  {
   "cell_type": "code",
   "execution_count": 8,
   "metadata": {},
   "outputs": [
    {
     "name": "stdout",
     "output_type": "stream",
     "text": [
      "6\n",
      "http://webscraperio.us-east-1.elasticbeanstalk.com/test-sites/e-commerce/static/computers/laptops?page=2\n",
      "http://webscraperio.us-east-1.elasticbeanstalk.com/test-sites/e-commerce/static/computers/laptops?page=3\n",
      "http://webscraperio.us-east-1.elasticbeanstalk.com/test-sites/e-commerce/static/computers/laptops?page=4\n",
      "http://webscraperio.us-east-1.elasticbeanstalk.com/test-sites/e-commerce/static/computers/laptops?page=5\n",
      "http://webscraperio.us-east-1.elasticbeanstalk.com/test-sites/e-commerce/static/computers/laptops?page=6\n",
      "http://webscraperio.us-east-1.elasticbeanstalk.com/test-sites/e-commerce/static/computers/laptops?page=7\n",
      "http://webscraperio.us-east-1.elasticbeanstalk.com/test-sites/e-commerce/static/computers/laptops?page=8\n",
      "http://webscraperio.us-east-1.elasticbeanstalk.com/test-sites/e-commerce/static/computers/laptops?page=9\n",
      "http://webscraperio.us-east-1.elasticbeanstalk.com/test-sites/e-commerce/static/computers/laptops?page=10\n",
      "http://webscraperio.us-east-1.elasticbeanstalk.com/test-sites/e-commerce/static/computers/laptops?page=11\n",
      "http://webscraperio.us-east-1.elasticbeanstalk.com/test-sites/e-commerce/static/computers/laptops?page=12\n",
      "http://webscraperio.us-east-1.elasticbeanstalk.com/test-sites/e-commerce/static/computers/laptops?page=13\n",
      "http://webscraperio.us-east-1.elasticbeanstalk.com/test-sites/e-commerce/static/computers/laptops?page=14\n",
      "http://webscraperio.us-east-1.elasticbeanstalk.com/test-sites/e-commerce/static/computers/laptops?page=15\n",
      "http://webscraperio.us-east-1.elasticbeanstalk.com/test-sites/e-commerce/static/computers/laptops?page=16\n",
      "http://webscraperio.us-east-1.elasticbeanstalk.com/test-sites/e-commerce/static/computers/laptops?page=17\n",
      "http://webscraperio.us-east-1.elasticbeanstalk.com/test-sites/e-commerce/static/computers/laptops?page=18\n",
      "http://webscraperio.us-east-1.elasticbeanstalk.com/test-sites/e-commerce/static/computers/laptops?page=19\n",
      "http://webscraperio.us-east-1.elasticbeanstalk.com/test-sites/e-commerce/static/computers/laptops?page=20\n",
      "None\n",
      "6\n",
      "http://webscraperio.us-east-1.elasticbeanstalk.com/test-sites/e-commerce/static/computers/tablets?page=2\n",
      "http://webscraperio.us-east-1.elasticbeanstalk.com/test-sites/e-commerce/static/computers/tablets?page=3\n",
      "http://webscraperio.us-east-1.elasticbeanstalk.com/test-sites/e-commerce/static/computers/tablets?page=4\n",
      "None\n",
      "6\n",
      "http://webscraperio.us-east-1.elasticbeanstalk.com/test-sites/e-commerce/static/phones/touch?page=2\n",
      "None\n"
     ]
    }
   ],
   "source": [
    "# part1 把網路類別展開，讓你看到所有商品\n",
    "dataset=[]\n",
    "doc.make_links_absolute(base_url=response.url)#把路徑變成絕對路徑\n",
    "for eachCate in doc(\"#side-menu > li:nth-child(n+2) > a\").items():\n",
    "#     print(eachCate.attr(\"href\"))#取屬性\n",
    "    lv1Doc=pq(eachCate.attr(\"href\"))#得到連結後打開\n",
    "    \n",
    "    lv1Doc.make_links_absolute(base_url=response.url)  #再取一次連結                                                                                                                                                                                                                                                                                                                                                                                                                                                                                                                                                                                                                                                                                                                                                                                                                                                                                                                                                                                                                                                                                                                                                                                                                                                                                                                                                                                                                                                                                                                                                                                                                                                                                                                                                                                                                                                                                                                                                                                                                                                                                                                                                                                                                                                                                                                                                                                                                                                                                                                                                          \n",
    "    for eachSubCate in lv1Doc(\"#side-menu > li.active > ul > li > a\").items():\n",
    "#         print(eachSubCate.attr(\"href\"))\n",
    "        lv2Doc=pq(eachSubCate.attr(\"href\"))\n",
    "#     part2\n",
    "        dataset.extend(crawlThisPage(lv2Doc))\n",
    "\n",
    "#下方數字來自函式"
   ]
  },
  {
   "cell_type": "code",
   "execution_count": 32,
   "metadata": {},
   "outputs": [
    {
     "data": {
      "text/plain": [
       "[{'title': 'Packard 255 G2', 'price': 416.99},\n",
       " {'title': 'Aspire E1-510', 'price': 306.99},\n",
       " {'title': 'ThinkPad T540p', 'price': 1178.99},\n",
       " {'title': 'ProBook', 'price': 739.99},\n",
       " {'title': 'ThinkPad X240', 'price': 1311.99},\n",
       " {'title': 'Aspire E1-572G', 'price': 581.99},\n",
       " {'title': 'Packard 255 G2', 'price': 416.99},\n",
       " {'title': 'Aspire E1-510', 'price': 306.99},\n",
       " {'title': 'ThinkPad T540p', 'price': 1178.99},\n",
       " {'title': 'ProBook', 'price': 739.99},\n",
       " {'title': 'ThinkPad X240', 'price': 1311.99},\n",
       " {'title': 'Aspire E1-572G', 'price': 581.99},\n",
       " {'title': 'Packard 255 G2', 'price': 416.99},\n",
       " {'title': 'Aspire E1-510', 'price': 306.99},\n",
       " {'title': 'ThinkPad T540p', 'price': 1178.99},\n",
       " {'title': 'ProBook', 'price': 739.99},\n",
       " {'title': 'ThinkPad X240', 'price': 1311.99},\n",
       " {'title': 'Aspire E1-572G', 'price': 581.99},\n",
       " {'title': 'Packard 255 G2', 'price': 416.99},\n",
       " {'title': 'Aspire E1-510', 'price': 306.99},\n",
       " {'title': 'ThinkPad T540p', 'price': 1178.99},\n",
       " {'title': 'ProBook', 'price': 739.99},\n",
       " {'title': 'ThinkPad X240', 'price': 1311.99},\n",
       " {'title': 'Aspire E1-572G', 'price': 581.99},\n",
       " {'title': 'Packard 255 G2', 'price': 416.99},\n",
       " {'title': 'Aspire E1-510', 'price': 306.99},\n",
       " {'title': 'ThinkPad T540p', 'price': 1178.99},\n",
       " {'title': 'ProBook', 'price': 739.99},\n",
       " {'title': 'ThinkPad X240', 'price': 1311.99},\n",
       " {'title': 'Aspire E1-572G', 'price': 581.99},\n",
       " {'title': 'Packard 255 G2', 'price': 416.99},\n",
       " {'title': 'Aspire E1-510', 'price': 306.99},\n",
       " {'title': 'ThinkPad T540p', 'price': 1178.99},\n",
       " {'title': 'ProBook', 'price': 739.99},\n",
       " {'title': 'ThinkPad X240', 'price': 1311.99},\n",
       " {'title': 'Aspire E1-572G', 'price': 581.99},\n",
       " {'title': 'Packard 255 G2', 'price': 416.99},\n",
       " {'title': 'Aspire E1-510', 'price': 306.99},\n",
       " {'title': 'ThinkPad T540p', 'price': 1178.99},\n",
       " {'title': 'ProBook', 'price': 739.99},\n",
       " {'title': 'ThinkPad X240', 'price': 1311.99},\n",
       " {'title': 'Aspire E1-572G', 'price': 581.99},\n",
       " {'title': 'Packard 255 G2', 'price': 416.99},\n",
       " {'title': 'Aspire E1-510', 'price': 306.99},\n",
       " {'title': 'ThinkPad T540p', 'price': 1178.99},\n",
       " {'title': 'ProBook', 'price': 739.99},\n",
       " {'title': 'ThinkPad X240', 'price': 1311.99},\n",
       " {'title': 'Aspire E1-572G', 'price': 581.99},\n",
       " {'title': 'Packard 255 G2', 'price': 416.99},\n",
       " {'title': 'Aspire E1-510', 'price': 306.99},\n",
       " {'title': 'ThinkPad T540p', 'price': 1178.99},\n",
       " {'title': 'ProBook', 'price': 739.99},\n",
       " {'title': 'ThinkPad X240', 'price': 1311.99},\n",
       " {'title': 'Aspire E1-572G', 'price': 581.99},\n",
       " {'title': 'Packard 255 G2', 'price': 416.99},\n",
       " {'title': 'Aspire E1-510', 'price': 306.99},\n",
       " {'title': 'ThinkPad T540p', 'price': 1178.99},\n",
       " {'title': 'ProBook', 'price': 739.99},\n",
       " {'title': 'ThinkPad X240', 'price': 1311.99},\n",
       " {'title': 'Aspire E1-572G', 'price': 581.99},\n",
       " {'title': 'Packard 255 G2', 'price': 416.99},\n",
       " {'title': 'Aspire E1-510', 'price': 306.99},\n",
       " {'title': 'ThinkPad T540p', 'price': 1178.99},\n",
       " {'title': 'ProBook', 'price': 739.99},\n",
       " {'title': 'ThinkPad X240', 'price': 1311.99},\n",
       " {'title': 'Aspire E1-572G', 'price': 581.99},\n",
       " {'title': 'Packard 255 G2', 'price': 416.99},\n",
       " {'title': 'Aspire E1-510', 'price': 306.99},\n",
       " {'title': 'ThinkPad T540p', 'price': 1178.99},\n",
       " {'title': 'ProBook', 'price': 739.99},\n",
       " {'title': 'ThinkPad X240', 'price': 1311.99},\n",
       " {'title': 'Aspire E1-572G', 'price': 581.99},\n",
       " {'title': 'Packard 255 G2', 'price': 416.99},\n",
       " {'title': 'Aspire E1-510', 'price': 306.99},\n",
       " {'title': 'ThinkPad T540p', 'price': 1178.99},\n",
       " {'title': 'ProBook', 'price': 739.99},\n",
       " {'title': 'ThinkPad X240', 'price': 1311.99},\n",
       " {'title': 'Aspire E1-572G', 'price': 581.99},\n",
       " {'title': 'Packard 255 G2', 'price': 416.99},\n",
       " {'title': 'Aspire E1-510', 'price': 306.99},\n",
       " {'title': 'ThinkPad T540p', 'price': 1178.99},\n",
       " {'title': 'ProBook', 'price': 739.99},\n",
       " {'title': 'ThinkPad X240', 'price': 1311.99},\n",
       " {'title': 'Aspire E1-572G', 'price': 581.99},\n",
       " {'title': 'Packard 255 G2', 'price': 416.99},\n",
       " {'title': 'Aspire E1-510', 'price': 306.99},\n",
       " {'title': 'ThinkPad T540p', 'price': 1178.99},\n",
       " {'title': 'ProBook', 'price': 739.99},\n",
       " {'title': 'ThinkPad X240', 'price': 1311.99},\n",
       " {'title': 'Aspire E1-572G', 'price': 581.99},\n",
       " {'title': 'Packard 255 G2', 'price': 416.99},\n",
       " {'title': 'Aspire E1-510', 'price': 306.99},\n",
       " {'title': 'ThinkPad T540p', 'price': 1178.99},\n",
       " {'title': 'ProBook', 'price': 739.99},\n",
       " {'title': 'ThinkPad X240', 'price': 1311.99},\n",
       " {'title': 'Aspire E1-572G', 'price': 581.99},\n",
       " {'title': 'Packard 255 G2', 'price': 416.99},\n",
       " {'title': 'Aspire E1-510', 'price': 306.99},\n",
       " {'title': 'ThinkPad T540p', 'price': 1178.99},\n",
       " {'title': 'ProBook', 'price': 739.99},\n",
       " {'title': 'ThinkPad X240', 'price': 1311.99},\n",
       " {'title': 'Aspire E1-572G', 'price': 581.99},\n",
       " {'title': 'Packard 255 G2', 'price': 416.99},\n",
       " {'title': 'Aspire E1-510', 'price': 306.99},\n",
       " {'title': 'ThinkPad T540p', 'price': 1178.99},\n",
       " {'title': 'ProBook', 'price': 739.99},\n",
       " {'title': 'ThinkPad X240', 'price': 1311.99},\n",
       " {'title': 'Aspire E1-572G', 'price': 581.99},\n",
       " {'title': 'Packard 255 G2', 'price': 416.99},\n",
       " {'title': 'Aspire E1-510', 'price': 306.99},\n",
       " {'title': 'ThinkPad T540p', 'price': 1178.99},\n",
       " {'title': 'ProBook', 'price': 739.99},\n",
       " {'title': 'ThinkPad X240', 'price': 1311.99},\n",
       " {'title': 'Aspire E1-572G', 'price': 581.99},\n",
       " {'title': 'Packard 255 G2', 'price': 416.99},\n",
       " {'title': 'Aspire E1-510', 'price': 306.99},\n",
       " {'title': 'ThinkPad T540p', 'price': 1178.99},\n",
       " {'title': 'ProBook', 'price': 739.99},\n",
       " {'title': 'ThinkPad X240', 'price': 1311.99},\n",
       " {'title': 'Aspire E1-572G', 'price': 581.99},\n",
       " {'title': 'Lenovo IdeaTab', 'price': 69.99},\n",
       " {'title': 'Acer Iconia', 'price': 96.99},\n",
       " {'title': 'Asus MeMO Pad', 'price': 102.99},\n",
       " {'title': 'Amazon Kindle', 'price': 103.99},\n",
       " {'title': 'iPad Mini Retina', 'price': 537.99},\n",
       " {'title': 'IdeaTab A3500L', 'price': 88.99},\n",
       " {'title': 'Lenovo IdeaTab', 'price': 69.99},\n",
       " {'title': 'Acer Iconia', 'price': 96.99},\n",
       " {'title': 'Asus MeMO Pad', 'price': 102.99},\n",
       " {'title': 'Amazon Kindle', 'price': 103.99},\n",
       " {'title': 'iPad Mini Retina', 'price': 537.99},\n",
       " {'title': 'IdeaTab A3500L', 'price': 88.99},\n",
       " {'title': 'Lenovo IdeaTab', 'price': 69.99},\n",
       " {'title': 'Acer Iconia', 'price': 96.99},\n",
       " {'title': 'Asus MeMO Pad', 'price': 102.99},\n",
       " {'title': 'Amazon Kindle', 'price': 103.99},\n",
       " {'title': 'iPad Mini Retina', 'price': 537.99},\n",
       " {'title': 'IdeaTab A3500L', 'price': 88.99},\n",
       " {'title': 'Lenovo IdeaTab', 'price': 69.99},\n",
       " {'title': 'Acer Iconia', 'price': 96.99},\n",
       " {'title': 'Asus MeMO Pad', 'price': 102.99},\n",
       " {'title': 'Amazon Kindle', 'price': 103.99},\n",
       " {'title': 'iPad Mini Retina', 'price': 537.99},\n",
       " {'title': 'IdeaTab A3500L', 'price': 88.99},\n",
       " {'title': 'Nokia 123', 'price': 24.99},\n",
       " {'title': 'LG Optimus', 'price': 57.99},\n",
       " {'title': 'Samsung Galaxy', 'price': 93.99},\n",
       " {'title': 'Nokia X', 'price': 109.99},\n",
       " {'title': 'Sony Xperia', 'price': 118.99},\n",
       " {'title': 'Ubuntu Edge', 'price': 499.99},\n",
       " {'title': 'Nokia 123', 'price': 24.99},\n",
       " {'title': 'LG Optimus', 'price': 57.99},\n",
       " {'title': 'Samsung Galaxy', 'price': 93.99},\n",
       " {'title': 'Nokia X', 'price': 109.99},\n",
       " {'title': 'Sony Xperia', 'price': 118.99},\n",
       " {'title': 'Ubuntu Edge', 'price': 499.99}]"
      ]
     },
     "execution_count": 32,
     "metadata": {},
     "output_type": "execute_result"
    }
   ],
   "source": [
    "dataset"
   ]
  },
  {
   "cell_type": "code",
   "execution_count": null,
   "metadata": {},
   "outputs": [],
   "source": []
  },
  {
   "cell_type": "code",
   "execution_count": null,
   "metadata": {},
   "outputs": [],
   "source": []
  }
 ],
 "metadata": {
  "kernelspec": {
   "display_name": "Python 3",
   "language": "python",
   "name": "python3"
  },
  "language_info": {
   "codemirror_mode": {
    "name": "ipython",
    "version": 3
   },
   "file_extension": ".py",
   "mimetype": "text/x-python",
   "name": "python",
   "nbconvert_exporter": "python",
   "pygments_lexer": "ipython3",
   "version": "3.7.0"
  }
 },
 "nbformat": 4,
 "nbformat_minor": 2
}

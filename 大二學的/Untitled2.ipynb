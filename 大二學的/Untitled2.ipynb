{
 "cells": [
  {
   "cell_type": "code",
   "execution_count": 4,
   "metadata": {},
   "outputs": [],
   "source": [
    "alphabet = {'A':10,'J':18,'S':26,\n",
    "       'B':11,'K':19,'T':27,\n",
    "       'C':12,'L':20,'U':28,\n",
    "       'D':13,'M':21,'V':29,\n",
    "       'E':14,'N':22,'W':32,\n",
    "       'F':15,'O':35,'X':30,\n",
    "       'G':16,'P':23,'Y':31,\n",
    "       'H':17,'Q':24,'Z':33,\n",
    "       'I':34,'R':25}\n",
    "\n",
    "def ID_Checker(n):    \n",
    "    if len(n) == 10:\n",
    "        n = str(alphabet[n[0]]) + n[1:]\n",
    "        for i in range(len(n)):\n",
    "            total = i\n",
    "            if i == 0:\n",
    "                total+=int(n[i]) * 1\n",
    "            elif i == 10:\n",
    "                total+=int(n[i]) * 1\n",
    "            else:\n",
    "                total+=int(n[i]) * i\n",
    "            return total"
   ]
  },
  {
   "cell_type": "code",
   "execution_count": 3,
   "metadata": {},
   "outputs": [
    {
     "ename": "NameError",
     "evalue": "name 'A228703712' is not defined",
     "output_type": "error",
     "traceback": [
      "\u001b[0;31m---------------------------------------------------------------------------\u001b[0m",
      "\u001b[0;31mNameError\u001b[0m                                 Traceback (most recent call last)",
      "\u001b[0;32m<ipython-input-3-b701a537f2b7>\u001b[0m in \u001b[0;36m<module>\u001b[0;34m()\u001b[0m\n\u001b[0;32m----> 1\u001b[0;31m \u001b[0mID_Checker\u001b[0m\u001b[0;34m(\u001b[0m\u001b[0mA228703712\u001b[0m\u001b[0;34m)\u001b[0m\u001b[0;34m\u001b[0m\u001b[0m\n\u001b[0m",
      "\u001b[0;31mNameError\u001b[0m: name 'A228703712' is not defined"
     ]
    }
   ],
   "source": [
    "ID_Checker(A228703712)   "
   ]
  },
  {
   "cell_type": "code",
   "execution_count": 73,
   "metadata": {},
   "outputs": [
    {
     "name": "stdout",
     "output_type": "stream",
     "text": [
      "c123454321\n",
      "real\n"
     ]
    }
   ],
   "source": [
    "alphabet = {'A':10,'J':18,'S':26,\n",
    "       'B':11,'K':19,'T':27,\n",
    "       'C':12,'L':20,'U':28,\n",
    "       'D':13,'M':21,'V':29,\n",
    "       'E':14,'N':22,'W':32,\n",
    "       'F':15,'O':35,'X':30,\n",
    "       'G':16,'P':23,'Y':31,\n",
    "       'H':17,'Q':24,'Z':33,\n",
    "       'I':34,'R':25,'a':10,'j':18,'s':26,\n",
    "       'b':11,'k':19,'t':27,\n",
    "       'c':12,'l':20,'u':28,\n",
    "       'd':13,'m':21,'v':29,\n",
    "       'e':14,'n':22,'w':32,\n",
    "       'f':15,'o':35,'x':30,\n",
    "       'g':16,'p':23,'y':31,\n",
    "       'h':17,'q':24,'z':33,\n",
    "       'i':34,'r':25}\n",
    "\n",
    "# n=\"A123456789\"\n",
    "n=input()\n",
    "if len(n) == 10:\n",
    "    n = str(alphabet[n[0]]) + n[1:]\n",
    "    n=list(n) \n",
    "    total = 0\n",
    "    bag=[]\n",
    "    ttotal=0\n",
    "    for i in range(len(n)):\n",
    "        if i == 0:\n",
    "            total=int(n[i]) * 1\n",
    "            bag.append(total)\n",
    "    #             print(\"try1\",total)\n",
    "        elif i == 10:\n",
    "            total=int(n[i]) * 1\n",
    "            bag.append(total)            \n",
    "\n",
    "        else:\n",
    "            turn=n[-1:0:-1]\n",
    "            total=int(turn[i]) * i\n",
    "            bag.append(total)            \n",
    "for each in bag:\n",
    "    ttotal+=each\n",
    "\n",
    "if 0==ttotal%10:\n",
    "    print(\"real\")\n",
    "else:\n",
    "    print(\"fake\")\n"
   ]
  },
  {
   "cell_type": "code",
   "execution_count": 55,
   "metadata": {},
   "outputs": [
    {
     "name": "stdout",
     "output_type": "stream",
     "text": [
      "try3 8\n",
      "try3 14\n",
      "try3 18\n",
      "try3 20\n",
      "try3 20\n",
      "try3 18\n",
      "try3 14\n",
      "try3 8\n",
      "try3 0\n",
      "try2 9\n",
      "[1, 8, 14, 18, 20, 20, 18, 14, 8, 0, 9]\n",
      "real\n"
     ]
    }
   ],
   "source": [
    "ID_Checker()"
   ]
  },
  {
   "cell_type": "code",
   "execution_count": 21,
   "metadata": {},
   "outputs": [
    {
     "ename": "SyntaxError",
     "evalue": "'return' outside function (<ipython-input-21-b3d57c175bbe>, line 3)",
     "output_type": "error",
     "traceback": [
      "\u001b[0;36m  File \u001b[0;32m\"<ipython-input-21-b3d57c175bbe>\"\u001b[0;36m, line \u001b[0;32m3\u001b[0m\n\u001b[0;31m    return total\u001b[0m\n\u001b[0m    ^\u001b[0m\n\u001b[0;31mSyntaxError\u001b[0m\u001b[0;31m:\u001b[0m 'return' outside function\n"
     ]
    }
   ],
   "source": []
  },
  {
   "cell_type": "code",
   "execution_count": 42,
   "metadata": {},
   "outputs": [
    {
     "name": "stdout",
     "output_type": "stream",
     "text": [
      "[9, 8, 7, 6, 5, 4, 3, 2, 1]\n"
     ]
    }
   ],
   "source": [
    "n=[0,1,2,3,4,5,6,7,8,9]\n",
    "print(n[-1:0:-1])"
   ]
  },
  {
   "cell_type": "code",
   "execution_count": null,
   "metadata": {},
   "outputs": [],
   "source": []
  },
  {
   "cell_type": "code",
   "execution_count": null,
   "metadata": {},
   "outputs": [],
   "source": []
  },
  {
   "cell_type": "code",
   "execution_count": 65,
   "metadata": {},
   "outputs": [
    {
     "name": "stdout",
     "output_type": "stream",
     "text": [
      "2018/1/1\n"
     ]
    },
    {
     "ename": "TypeError",
     "evalue": "descriptor 'strftime' requires a 'datetime.date' object but received a 'str'",
     "output_type": "error",
     "traceback": [
      "\u001b[0;31m---------------------------------------------------------------------------\u001b[0m",
      "\u001b[0;31mTypeError\u001b[0m                                 Traceback (most recent call last)",
      "\u001b[0;32m<ipython-input-65-0d1087e014ff>\u001b[0m in \u001b[0;36m<module>\u001b[0;34m()\u001b[0m\n\u001b[1;32m      1\u001b[0m \u001b[0;32mimport\u001b[0m \u001b[0mdatetime\u001b[0m\u001b[0;34m\u001b[0m\u001b[0m\n\u001b[1;32m      2\u001b[0m \u001b[0minput_today\u001b[0m \u001b[0;34m=\u001b[0m \u001b[0minput\u001b[0m\u001b[0;34m(\u001b[0m\u001b[0;34m)\u001b[0m\u001b[0;34m\u001b[0m\u001b[0m\n\u001b[0;32m----> 3\u001b[0;31m \u001b[0mtoday\u001b[0m \u001b[0;34m=\u001b[0m \u001b[0mdatetime\u001b[0m\u001b[0;34m.\u001b[0m\u001b[0mdatetime\u001b[0m\u001b[0;34m.\u001b[0m\u001b[0mstrftime\u001b[0m\u001b[0;34m(\u001b[0m\u001b[0minput_today\u001b[0m\u001b[0;34m,\u001b[0m\u001b[0;34m\"%y/%M/%D\"\u001b[0m\u001b[0;34m)\u001b[0m\u001b[0;34m\u001b[0m\u001b[0m\n\u001b[0m\u001b[1;32m      4\u001b[0m \u001b[0mmember_input\u001b[0m \u001b[0;34m=\u001b[0m \u001b[0minput\u001b[0m\u001b[0;34m(\u001b[0m\u001b[0;34m)\u001b[0m\u001b[0;34m\u001b[0m\u001b[0m\n\u001b[1;32m      5\u001b[0m \u001b[0mmember\u001b[0m \u001b[0;34m=\u001b[0m \u001b[0;34m[\u001b[0m\u001b[0;34m]\u001b[0m\u001b[0;34m\u001b[0m\u001b[0m\n",
      "\u001b[0;31mTypeError\u001b[0m: descriptor 'strftime' requires a 'datetime.date' object but received a 'str'"
     ]
    }
   ],
   "source": [
    "import datetime\n",
    "input_today = input()\n",
    "today = datetime.datetime.strftime(input_today,\"%y/%M/%D\")\n",
    "member_input = input()\n",
    "member = []\n",
    "for i in member_input:\n",
    "    a = input()\n",
    "    member.append(a)\n",
    "birthday_list = {}\n",
    "for eachOne in member:\n",
    "    birthDate = eachOne[1]\n",
    "    aDate = today.strftime(\"%y/%M/%D\")\n",
    "    interDays = (aDate - today).days\n",
    "    birthday_list.append((eachOne[0],interDays))\n",
    "birthday_list.sort()\n",
    "for row in birthday_list:\n",
    "    print('{} {} days'.format(row[0], row[-1]))\n"
   ]
  },
  {
   "cell_type": "code",
   "execution_count": null,
   "metadata": {},
   "outputs": [],
   "source": []
  },
  {
   "cell_type": "code",
   "execution_count": null,
   "metadata": {},
   "outputs": [],
   "source": []
  },
  {
   "cell_type": "code",
   "execution_count": null,
   "metadata": {},
   "outputs": [],
   "source": []
  }
 ],
 "metadata": {
  "kernelspec": {
   "display_name": "Python 3",
   "language": "python",
   "name": "python3"
  },
  "language_info": {
   "codemirror_mode": {
    "name": "ipython",
    "version": 3
   },
   "file_extension": ".py",
   "mimetype": "text/x-python",
   "name": "python",
   "nbconvert_exporter": "python",
   "pygments_lexer": "ipython3",
   "version": "3.7.0"
  }
 },
 "nbformat": 4,
 "nbformat_minor": 2
}

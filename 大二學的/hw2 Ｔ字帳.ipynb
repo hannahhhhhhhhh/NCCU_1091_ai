{
 "cells": [
  {
   "cell_type": "code",
   "execution_count": 3,
   "metadata": {},
   "outputs": [
    {
     "name": "stdout",
     "output_type": "stream",
     "text": [
      "cash\n",
      "1\n",
      "2\n"
     ]
    }
   ],
   "source": [
    "subj=input()\n",
    "debit=input()\n",
    "credit=int(input())"
   ]
  },
  {
   "cell_type": "code",
   "execution_count": 4,
   "metadata": {},
   "outputs": [
    {
     "name": "stdout",
     "output_type": "stream",
     "text": [
      "         2         \n"
     ]
    }
   ],
   "source": [
    "print(\"{:^19d}\".format(credit))"
   ]
  },
  {
   "cell_type": "code",
   "execution_count": 23,
   "metadata": {},
   "outputs": [
    {
     "data": {
      "text/plain": [
       "str"
      ]
     },
     "execution_count": 23,
     "metadata": {},
     "output_type": "execute_result"
    }
   ],
   "source": [
    "type(subj)"
   ]
  },
  {
   "cell_type": "code",
   "execution_count": 26,
   "metadata": {},
   "outputs": [
    {
     "ename": "ValueError",
     "evalue": "Unknown format code 'd' for object of type 'str'",
     "output_type": "error",
     "traceback": [
      "\u001b[0;31m---------------------------------------------------------------------------\u001b[0m",
      "\u001b[0;31mValueError\u001b[0m                                Traceback (most recent call last)",
      "\u001b[0;32m<ipython-input-26-05268ed68b96>\u001b[0m in \u001b[0;36m<module>\u001b[0;34m()\u001b[0m\n\u001b[0;32m----> 1\u001b[0;31m \u001b[0mprint\u001b[0m\u001b[0;34m(\u001b[0m\u001b[0;34m\"{:^19d}\"\u001b[0m\u001b[0;34m.\u001b[0m\u001b[0mformat\u001b[0m\u001b[0;34m(\u001b[0m\u001b[0msubj\u001b[0m\u001b[0;34m)\u001b[0m\u001b[0;34m)\u001b[0m\u001b[0;34m\u001b[0m\u001b[0m\n\u001b[0m",
      "\u001b[0;31mValueError\u001b[0m: Unknown format code 'd' for object of type 'str'"
     ]
    }
   ],
   "source": [
    "print(\"{:^19d}\".format(subj))"
   ]
  },
  {
   "cell_type": "code",
   "execution_count": 1,
   "metadata": {},
   "outputs": [
    {
     "ename": "SyntaxError",
     "evalue": "unexpected EOF while parsing (<ipython-input-1-ee3962fcb6a0>, line 1)",
     "output_type": "error",
     "traceback": [
      "\u001b[0;36m  File \u001b[0;32m\"<ipython-input-1-ee3962fcb6a0>\"\u001b[0;36m, line \u001b[0;32m1\u001b[0m\n\u001b[0;31m    print(\"{:>9d}/{:^9d}\".format(int(debit),'|')#中間分隔線要怎麼裝？\u001b[0m\n\u001b[0m                                                           ^\u001b[0m\n\u001b[0;31mSyntaxError\u001b[0m\u001b[0;31m:\u001b[0m unexpected EOF while parsing\n"
     ]
    }
   ],
   "source": [
    "print(\"{:>9d}/{:^9d}\".format(int(debit),'|')#中間分隔線要怎麼裝？"
   ]
  },
  {
   "cell_type": "code",
   "execution_count": 9,
   "metadata": {},
   "outputs": [
    {
     "name": "stdout",
     "output_type": "stream",
     "text": [
      "2       \n",
      "      22\n",
      "   22   \n"
     ]
    }
   ],
   "source": [
    "#print(\"{:8d}{:16d}\".format(22,13)\n",
    "print(\"{:<8d}\".format(2))\n",
    "print(\"{:>8d}\".format(22))\n",
    "print(\"{:^8d}\".format(22))"
   ]
  },
  {
   "cell_type": "code",
   "execution_count": 6,
   "metadata": {},
   "outputs": [
    {
     "name": "stdout",
     "output_type": "stream",
     "text": [
      "2\n",
      " 2\n",
      "  2\n",
      "   2\n"
     ]
    }
   ],
   "source": [
    "print(\"{:1d}\".format(2))\n",
    "print(\"{:2d}\".format(2))\n",
    "print(\"{:3d}\".format(2))\n",
    "print(\"{:4d}\".format(2))"
   ]
  },
  {
   "cell_type": "code",
   "execution_count": 4,
   "metadata": {},
   "outputs": [
    {
     "name": "stdout",
     "output_type": "stream",
     "text": [
      "2       \n"
     ]
    }
   ],
   "source": [
    "print(\"{:<8d}\".format(2))"
   ]
  },
  {
   "cell_type": "code",
   "execution_count": null,
   "metadata": {},
   "outputs": [],
   "source": [
    "# 怎麼讓他出現在同一行，怎麼讓輸出換行，\"{}\".format()的性質與填入的格式是？"
   ]
  },
  {
   "cell_type": "code",
   "execution_count": 28,
   "metadata": {},
   "outputs": [
    {
     "name": "stdout",
     "output_type": "stream",
     "text": [
      "cash\n",
      "300\n",
      "1200\n",
      "       cash        \n",
      "-------------------\n",
      "     1200|      300\n",
      "         |Bal.  900\n"
     ]
    }
   ],
   "source": [
    "account=input()\n",
    "debit=int(input())\n",
    "credit=int(input())\n",
    "print(\"{:^19s}\".format(account))\n",
    "print('-'*19)\n",
    "print(\"{:>9d}\".format(debit)+'|'+\"{:>9d}\".format(credit))\n",
    "if credit>debit:\n",
    "    print(\"{:>10s}\".format('|')+'Bal.'+\"{:>5d}\".format(credit-debit))\n",
    "else :\n",
    "    print(\"Bal.\"+\"{:>5d}\".format(debit-credit)+'|')"
   ]
  },
  {
   "cell_type": "code",
   "execution_count": 24,
   "metadata": {},
   "outputs": [
    {
     "name": "stdout",
     "output_type": "stream",
     "text": [
      "       cash        \n",
      "-------------------\n",
      "      300|      200\n",
      "         |Bal.  100\n"
     ]
    }
   ],
   "source": [
    "print(\"{:^19s}\".format(account))\n",
    "print('-'*19)\n",
    "print(\"{:>9d}\".format(credit)+'|'+\"{:>9d}\".format(debit))\n",
    "if credit>debit:\n",
    "    print(\"{:>10s}\".format('|')+'Bal.'+\"{:>5d}\".format(credit-debit))\n",
    "else :\n",
    "    print(\"Bal.\"+\"{:>5d}\".format(debit-credit)+'|')"
   ]
  },
  {
   "cell_type": "code",
   "execution_count": 21,
   "metadata": {},
   "outputs": [
    {
     "name": "stdout",
     "output_type": "stream",
     "text": [
      "               |Bal.  300\n",
      "-------------------\n",
      "|||||||||||||||||||\n"
     ]
    }
   ],
   "source": [
    "print(\"{:>16s}\".format('|')+'Bal.'+\"{:>5d}\".format(300))\n",
    "print('-'*19)"
   ]
  },
  {
   "cell_type": "code",
   "execution_count": 10,
   "metadata": {},
   "outputs": [
    {
     "data": {
      "text/plain": [
       "int"
      ]
     },
     "execution_count": 10,
     "metadata": {},
     "output_type": "execute_result"
    }
   ],
   "source": [
    "type(debit)"
   ]
  },
  {
   "cell_type": "code",
   "execution_count": 38,
   "metadata": {},
   "outputs": [
    {
     "name": "stdout",
     "output_type": "stream",
     "text": [
      "                 1\n",
      "-------------------\n"
     ]
    }
   ],
   "source": [
    "print(\"{:>18d}\".format(1))\n",
    "print('-'*19)"
   ]
  },
  {
   "cell_type": "code",
   "execution_count": 39,
   "metadata": {},
   "outputs": [
    {
     "ename": "SyntaxError",
     "evalue": "invalid syntax (<ipython-input-39-9a80900f3f78>, line 4)",
     "output_type": "error",
     "traceback": [
      "\u001b[0;36m  File \u001b[0;32m\"<ipython-input-39-9a80900f3f78>\"\u001b[0;36m, line \u001b[0;32m4\u001b[0m\n\u001b[0;31m    print(\"Bal.\"+\"{:>5d}\".format(debit-credit))+'|')\u001b[0m\n\u001b[0m                                                   ^\u001b[0m\n\u001b[0;31mSyntaxError\u001b[0m\u001b[0;31m:\u001b[0m invalid syntax\n"
     ]
    }
   ],
   "source": [
    "if credit>debit:\n",
    "    print(\"{:>10d}\".format('|')+\"{:>d}\".format('Bal.')+\"{:>5d}\".format(credit-debit))\n",
    "else :\n",
    "    print(\"Bal.\"+\"{:>5d}\".format(debit-credit))+'|')"
   ]
  },
  {
   "cell_type": "code",
   "execution_count": 42,
   "metadata": {},
   "outputs": [],
   "source": [
    "Hannah=1"
   ]
  },
  {
   "cell_type": "code",
   "execution_count": 45,
   "metadata": {},
   "outputs": [
    {
     "name": "stdout",
     "output_type": "stream",
     "text": [
      "    Hannah\n",
      "12        \n",
      "    1     \n"
     ]
    }
   ],
   "source": [
    "print(\"{:>10s}\".format('Hannah'))\n",
    "print(\"{:<10d}\".format(12))\n",
    "print(\"{:^10d}\".format(Hannah))"
   ]
  },
  {
   "cell_type": "code",
   "execution_count": null,
   "metadata": {},
   "outputs": [],
   "source": []
  },
  {
   "cell_type": "code",
   "execution_count": null,
   "metadata": {},
   "outputs": [],
   "source": []
  },
  {
   "cell_type": "code",
   "execution_count": null,
   "metadata": {},
   "outputs": [],
   "source": []
  },
  {
   "cell_type": "code",
   "execution_count": null,
   "metadata": {},
   "outputs": [],
   "source": [
    "\n"
   ]
  }
 ],
 "metadata": {
  "kernelspec": {
   "display_name": "Python 3",
   "language": "python",
   "name": "python3"
  },
  "language_info": {
   "codemirror_mode": {
    "name": "ipython",
    "version": 3
   },
   "file_extension": ".py",
   "mimetype": "text/x-python",
   "name": "python",
   "nbconvert_exporter": "python",
   "pygments_lexer": "ipython3",
   "version": "3.7.0"
  }
 },
 "nbformat": 4,
 "nbformat_minor": 2
}

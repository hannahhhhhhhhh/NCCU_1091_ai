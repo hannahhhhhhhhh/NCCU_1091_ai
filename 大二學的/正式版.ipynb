{
 "cells": [
  {
   "cell_type": "code",
   "execution_count": null,
   "metadata": {},
   "outputs": [],
   "source": [
    "from selenium import webdriver\n",
    "import time\n",
    "from datetime import datetime\n",
    "from time import sleep\n",
    "#時間排程\n",
    "\n",
    "tartime=datetime.strptime('2019-01-20-16-20-30','%Y-%m-%d-%H-%M-%S')\n",
    "while True:\n",
    "    ntime=datetime.now()\n",
    "    if ntime<tartime:\n",
    "        time.sleep(0.1)\n",
    "        print(tartime-ntime)\n",
    "    elif ntime>=tartime:\n",
    "        print(1)\n",
    "        break\n",
    "        \n",
    "#開始執行\n",
    "driver = webdriver.Chrome('chromedriver.exe')\n",
    "driver.get('https://irs.thsrc.com.tw/IMINT/?student=university')\n",
    "driver.current_url"
   ]
  },
  {
   "cell_type": "code",
   "execution_count": null,
   "metadata": {},
   "outputs": [],
   "source": [
    "#點我同意\n",
    "driver.find_element_by_css_selector('#btn-confirm').click()\n",
    "\n",
    "#點選大學生優惠\n",
    "driver.find_element_by_css_selector('#wrap > div.LinkArea > span:nth-child(2) > a').click()\n",
    "\n",
    "#選擇站別，之後可以改老恩選擇器，預設台北到台中\n",
    "\n",
    "driver.find_element_by_css_selector('#content > tbody > tr:nth-child(1) > td:nth-child(2) > span > select').click()\n",
    "driver.find_element_by_css_selector('#content > tbody > tr:nth-child(1) > td:nth-child(2) > span > select > option:nth-child(3)').click()\n",
    "driver.find_element_by_css_selector('#content > tbody > tr:nth-child(1) > td:nth-child(2) > select').click()\n",
    "driver.find_element_by_css_selector('#content > tbody > tr:nth-child(1) > td:nth-child(2) > select > option:nth-child(8)').click()\n",
    "\n",
    "#點依車次訂票\n",
    "driver.find_element_by_css_selector('#bookingMethod_1').click()\n",
    "\n",
    "#填寫日期(格式==2019/01/20)\n",
    "\n",
    "driver.find_element_by_css_selector('#toTimeInputField').clear()\n",
    "inputDate = driver.find_element_by_css_selector('#toTimeInputField')\n",
    "inputDate.send_keys('2019/01/27')\n",
    "\n",
    "#填寫車次號碼\n",
    "\n",
    "inputNum = driver.find_element_by_css_selector('#toTrainID > input[type=\"text\"]')\n",
    "inputNum.send_keys('861')\n",
    "\n",
    "#選擇票數，預設1張\n",
    "driver.find_element_by_css_selector('#content > tbody > tr:nth-child(6) > td:nth-child(2) > span > span:nth-child(5) > span > select > option:nth-child(2)').click()\n",
    "\n",
    "#手動輸入驗證碼\n",
    "inputCapcha=driver.find_element_by_css_selector('#action > tbody > tr > td > span:nth-child(3) > input')\n",
    "inputCapcha.send_keys(input())\n",
    "\n",
    "#點開始查詢\n",
    "driver.find_element_by_css_selector('#SubmitButton').click()\n",
    "\n",
    "#進入填資料頁面，填身分證\n",
    "inputId=driver.find_element_by_css_selector('#idNumber')\n",
    "inputId.send_keys('身分證')\n",
    "\n",
    "#填電話\n",
    "inputPhone = driver.find_element_by_css_selector('#phoneNumber')\n",
    "inputPhone.send_keys('電話')\n",
    "\n",
    "#填電子郵件\n",
    "inputEmail=driver.find_element_by_css_selector('#name2622')\n",
    "inputEmail.send_keys('信箱')\n",
    "\n",
    "#點我同意\n",
    "driver.find_element_by_css_selector('#content > table.table_simple > tbody > tr:nth-child(1) > td:nth-child(1) > input').click()\n",
    "\n",
    "#點完成訂位\n",
    "driver.find_element_by_css_selector('#isSubmit').click()"
   ]
  },
  {
   "cell_type": "code",
   "execution_count": null,
   "metadata": {},
   "outputs": [],
   "source": [
    "trainNum=driver.find_element_by_css_selector('#content > span:nth-child(2) > table.table_details > tbody/\n",
    "                                             > tr:nth-child(1) > td.content_key > span').text\n",
    "print('您的車次代碼為'+str(trainNum))\n",
    "\n",
    "#若要結束瀏覽器\n",
    "#driver.quit()"
   ]
  },
  {
   "cell_type": "code",
   "execution_count": null,
   "metadata": {},
   "outputs": [],
   "source": []
  },
  {
   "cell_type": "code",
   "execution_count": null,
   "metadata": {},
   "outputs": [],
   "source": []
  }
 ],
 "metadata": {
  "kernelspec": {
   "display_name": "Python 3",
   "language": "python",
   "name": "python3"
  },
  "language_info": {
   "codemirror_mode": {
    "name": "ipython",
    "version": 3
   },
   "file_extension": ".py",
   "mimetype": "text/x-python",
   "name": "python",
   "nbconvert_exporter": "python",
   "pygments_lexer": "ipython3",
   "version": "3.7.0"
  }
 },
 "nbformat": 4,
 "nbformat_minor": 2
}

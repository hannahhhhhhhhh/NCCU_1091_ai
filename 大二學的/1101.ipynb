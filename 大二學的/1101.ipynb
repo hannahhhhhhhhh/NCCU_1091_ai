{
 "cells": [
  {
   "cell_type": "code",
   "execution_count": null,
   "metadata": {},
   "outputs": [
    {
     "name": "stdout",
     "output_type": "stream",
     "text": [
      "100,3\n",
      "33.333333333333336\n",
      "continue...\n",
      "100,2\n",
      "50.0\n",
      "continue...\n"
     ]
    }
   ],
   "source": [
    "while True:\n",
    "    try:\n",
    "        line=input()\n",
    "        a,b=line.split(',')\n",
    "        c=int(a)/int(b)\n",
    "        print(c)\n",
    "    except ZeroDivisionError:\n",
    "        print(\"發生除以零的錯誤\")\n",
    "    else:\n",
    "        print(\"continue...\")"
   ]
  },
  {
   "cell_type": "code",
   "execution_count": null,
   "metadata": {},
   "outputs": [
    {
     "name": "stdout",
     "output_type": "stream",
     "text": [
      "hi,2\n",
      "invalid literal for int() with base 10: 'hi'\n",
      "100+3\n",
      "not enough values to unpack (expected 2, got 1)\n"
     ]
    }
   ],
   "source": [
    "while True:\n",
    "    try:\n",
    "        line=input()\n",
    "        a,b=line.split(',')\n",
    "        c=int(a)/int(b)\n",
    "        print(c)\n",
    "    except ZeroDivisionError:\n",
    "        print(\"發生除以零的錯誤\")\n",
    "    except ValueError as msg:\n",
    "        print(msg)\n",
    "    except EOFError:\n",
    "        print(\"EOF\")\n",
    "    else:\n",
    "        print(\"continue...\")"
   ]
  },
  {
   "cell_type": "code",
   "execution_count": null,
   "metadata": {},
   "outputs": [],
   "source": []
  },
  {
   "cell_type": "code",
   "execution_count": null,
   "metadata": {},
   "outputs": [],
   "source": []
  },
  {
   "cell_type": "code",
   "execution_count": 12,
   "metadata": {},
   "outputs": [
    {
     "name": "stdout",
     "output_type": "stream",
     "text": [
      "n 500\n",
      "w 300\n",
      "s 100\n",
      "e 0\n",
      "-300 400\n"
     ]
    }
   ],
   "source": [
    "N=input()\n",
    "W=input()\n",
    "S=input()\n",
    "E=input()\n",
    "y1=N.split(' ')[1]\n",
    "y2=S.split(' ')[1]\n",
    "x1=E.split(' ')[1]\n",
    "x2=W.split(' ')[1]\n",
    "y1=int(y1)\n",
    "y2=int(y2)\n",
    "x1=int(x1)\n",
    "x2=int(x2)\n",
    "print(x1-x2,y1-y2)"
   ]
  },
  {
   "cell_type": "code",
   "execution_count": 12,
   "metadata": {},
   "outputs": [
    {
     "name": "stdout",
     "output_type": "stream",
     "text": [
      "NORTH 200\n",
      "WEST 300\n",
      "EAST 500\n",
      "SOUTH 100\n",
      "NORTH 0\n",
      "200 100\n"
     ]
    }
   ],
   "source": [
    "#馬完成\n",
    "x,y=0,0\n",
    "while True:\n",
    "    line=input()\n",
    "    Dir,dis=line.split(' ')[0], line.split(' ')[1]\n",
    "    dis=int(dis)\n",
    "    if dis==0:\n",
    "        break\n",
    "    if Dir=='NORTH':\n",
    "        y+=dis\n",
    "    elif Dir=='SOUTH':\n",
    "        y-=dis\n",
    "    elif Dir=='EAST':\n",
    "        x+=dis\n",
    "    else:\n",
    "        x-=dis\n",
    "print(x,y)"
   ]
  },
  {
   "cell_type": "code",
   "execution_count": 10,
   "metadata": {},
   "outputs": [],
   "source": [
    "#成績提"
   ]
  },
  {
   "cell_type": "code",
   "execution_count": 13,
   "metadata": {},
   "outputs": [
    {
     "name": "stdout",
     "output_type": "stream",
     "text": [
      "r 65\n",
      "m 80\n",
      "p 92\n"
     ]
    },
    {
     "ename": "NameError",
     "evalue": "name 'g' is not defined",
     "output_type": "error",
     "traceback": [
      "\u001b[0;31m---------------------------------------------------------------------------\u001b[0m",
      "\u001b[0;31mNameError\u001b[0m                                 Traceback (most recent call last)",
      "\u001b[0;32m<ipython-input-13-53fbee34f3c9>\u001b[0m in \u001b[0;36m<module>\u001b[0;34m()\u001b[0m\n\u001b[1;32m     12\u001b[0m     \u001b[0mvar\u001b[0m\u001b[0;34m=\u001b[0m\u001b[0;34m(\u001b[0m\u001b[0maverage\u001b[0m\u001b[0;34m-\u001b[0m\u001b[0mg1\u001b[0m\u001b[0;34m)\u001b[0m\u001b[0;34m**\u001b[0m\u001b[0;36m2\u001b[0m\u001b[0;34m+\u001b[0m\u001b[0;34m(\u001b[0m\u001b[0maverage\u001b[0m\u001b[0;34m-\u001b[0m\u001b[0mg2\u001b[0m\u001b[0;34m)\u001b[0m\u001b[0;34m**\u001b[0m\u001b[0;36m2\u001b[0m\u001b[0;34m+\u001b[0m\u001b[0;34m(\u001b[0m\u001b[0maverage\u001b[0m\u001b[0;34m-\u001b[0m\u001b[0mg3\u001b[0m\u001b[0;34m)\u001b[0m\u001b[0;34m**\u001b[0m\u001b[0;36m2\u001b[0m\u001b[0;34m/\u001b[0m\u001b[0;36m3\u001b[0m\u001b[0;34m\u001b[0m\u001b[0m\n\u001b[1;32m     13\u001b[0m     \u001b[0;31m#要怎麼讓g1,g2,g3帶到g裡面來做比較？是不是不一定三個學生？如果不是三個學生，就不能用上面一個定義對一個輸入的方式定變數了，那要怎麼辦？？\u001b[0m\u001b[0;34m\u001b[0m\u001b[0;34m\u001b[0m\u001b[0m\n\u001b[0;32m---> 14\u001b[0;31m     \u001b[0;32mif\u001b[0m \u001b[0mg\u001b[0m\u001b[0;34m>=\u001b[0m\u001b[0maverage\u001b[0m\u001b[0;34m+\u001b[0m\u001b[0mvar\u001b[0m\u001b[0;34m*\u001b[0m\u001b[0;36m2\u001b[0m\u001b[0;34m:\u001b[0m\u001b[0;34m\u001b[0m\u001b[0m\n\u001b[0m\u001b[1;32m     15\u001b[0m         \u001b[0mprint\u001b[0m\u001b[0;34m(\u001b[0m\u001b[0mn\u001b[0m\u001b[0;34m+\u001b[0m\u001b[0;34m'gets a lobster!'\u001b[0m\u001b[0;34m)\u001b[0m\u001b[0;34m\u001b[0m\u001b[0m\n\u001b[1;32m     16\u001b[0m     \u001b[0;32melif\u001b[0m \u001b[0maverage\u001b[0m\u001b[0;34m+\u001b[0m\u001b[0mvar\u001b[0m\u001b[0;34m<=\u001b[0m\u001b[0mg\u001b[0m\u001b[0;34m<\u001b[0m\u001b[0maverage\u001b[0m\u001b[0;34m+\u001b[0m\u001b[0mvar\u001b[0m\u001b[0;34m*\u001b[0m\u001b[0;36m2\u001b[0m\u001b[0;34m:\u001b[0m\u001b[0;34m\u001b[0m\u001b[0m\n",
      "\u001b[0;31mNameError\u001b[0m: name 'g' is not defined"
     ]
    }
   ],
   "source": [
    "p=input()\n",
    "n,g=p.split()[0],p.split()[1]\n",
    "g=int(g)\n",
    "grade=0\n",
    "for each in g:\n",
    "    grade+=g\n",
    "    \n",
    "    average=(g1+g2+g3)/3\n",
    "    var=(average-g1)**2+(average-g2)**2+(average-g3)**2/3\n",
    "    #要怎麼讓g1,g2,g3帶到g裡面來做比較？是不是不一定三個學生？如果不是三個學生，就不能用上面一個定義對一個輸入的方式定變數了，那要怎麼辦？？\n",
    "    if g>=average+var*2:\n",
    "        print(n+'gets a lobster!')\n",
    "    elif average+var<=g<average+var*2:\n",
    "        print(n+'gets a tuna!')\n",
    "    elif average-var<=g<average+var*1:\n",
    "        print(n+'gets a crab!')\n",
    "    elif average-var*2<=g<average-var*1:\n",
    "        print(n+'gets a shrimp!')\n",
    "    else:\n",
    "        print(n+'gets a oyster!')"
   ]
  },
  {
   "cell_type": "code",
   "execution_count": 20,
   "metadata": {},
   "outputs": [
    {
     "name": "stdout",
     "output_type": "stream",
     "text": [
      "me 20\n",
      "you 30\n",
      "she 40\n",
      "30.0\n"
     ]
    }
   ],
   "source": [
    "p1=input()\n",
    "p2=input()\n",
    "p3=input()\n",
    "n1,g1=p1.split()[0],p1.split()[1]\n",
    "n2,g2=p2.split()[0],p2.split()[1]\n",
    "n3,g3=p3.split()[0],p3.split()[1]\n",
    "g1=int(g1)\n",
    "g2=int(g2)\n",
    "g3=int(g3)\n",
    "average=(g1+g2+g3)/3\n",
    "print(average)"
   ]
  },
  {
   "cell_type": "code",
   "execution_count": null,
   "metadata": {},
   "outputs": [],
   "source": [
    "N=input()\n",
    "name,grade=N.split()[0],N.split()[1]\n",
    "grade=int(grade)\n",
    "while True:\n",
    "    average+=grade"
   ]
  },
  {
   "cell_type": "code",
   "execution_count": null,
   "metadata": {},
   "outputs": [],
   "source": [
    "變異數 = (班平均(μ)-個人分數)**2的加總 / 全班人數"
   ]
  },
  {
   "cell_type": "code",
   "execution_count": 8,
   "metadata": {},
   "outputs": [],
   "source": []
  },
  {
   "cell_type": "code",
   "execution_count": null,
   "metadata": {},
   "outputs": [],
   "source": []
  },
  {
   "cell_type": "code",
   "execution_count": 1,
   "metadata": {},
   "outputs": [
    {
     "name": "stdout",
     "output_type": "stream",
     "text": [
      "m 55\n"
     ]
    },
    {
     "ename": "NameError",
     "evalue": "name 'number' is not defined",
     "output_type": "error",
     "traceback": [
      "\u001b[0;31m---------------------------------------------------------------------------\u001b[0m",
      "\u001b[0;31mNameError\u001b[0m                                 Traceback (most recent call last)",
      "\u001b[0;32m<ipython-input-1-b1f0b39b55ba>\u001b[0m in \u001b[0;36m<module>\u001b[0;34m()\u001b[0m\n\u001b[1;32m     12\u001b[0m         \u001b[0mI\u001b[0m\u001b[0;34m=\u001b[0m\u001b[0mint\u001b[0m\u001b[0;34m(\u001b[0m\u001b[0mI\u001b[0m\u001b[0;34m)\u001b[0m\u001b[0;34m\u001b[0m\u001b[0m\n\u001b[1;32m     13\u001b[0m         \u001b[0mgrade\u001b[0m\u001b[0;34m+=\u001b[0m\u001b[0mI\u001b[0m\u001b[0;34m\u001b[0m\u001b[0m\n\u001b[0;32m---> 14\u001b[0;31m         \u001b[0maverage\u001b[0m\u001b[0;34m=\u001b[0m\u001b[0mgrade\u001b[0m\u001b[0;34m/\u001b[0m\u001b[0mnumber\u001b[0m\u001b[0;34m\u001b[0m\u001b[0m\n\u001b[0m\u001b[1;32m     15\u001b[0m \u001b[0mprint\u001b[0m\u001b[0;34m(\u001b[0m\u001b[0maverage\u001b[0m\u001b[0;34m)\u001b[0m\u001b[0;34m\u001b[0m\u001b[0m\n",
      "\u001b[0;31mNameError\u001b[0m: name 'number' is not defined"
     ]
    }
   ],
   "source": [
    "grade=0\n",
    "average=0\n",
    "number=0\n",
    "g=input()\n",
    "g=list(g)\n",
    "for i in range(number)\n",
    "    if len(g)==1:\n",
    "        number=g[0]\n",
    "        number=int(number)\n",
    "    else:\n",
    "        I=g[2]\n",
    "        I=int(I)\n",
    "        grade+=I\n",
    "        average=grade/number\n",
    "print(average)"
   ]
  },
  {
   "cell_type": "code",
   "execution_count": null,
   "metadata": {},
   "outputs": [
    {
     "name": "stdout",
     "output_type": "stream",
     "text": [
      "m 3\n"
     ]
    }
   ],
   "source": [
    "grade=0\n",
    "g=input().split(' ')[1]\n",
    "while True:\n",
    "        I=int(g)\n",
    "        grade+=I#I現在是字元，可以計算了，加到grade這個容器裡\n",
    "print(grade)"
   ]
  },
  {
   "cell_type": "code",
   "execution_count": null,
   "metadata": {},
   "outputs": [],
   "source": []
  },
  {
   "cell_type": "code",
   "execution_count": null,
   "metadata": {},
   "outputs": [],
   "source": []
  },
  {
   "cell_type": "code",
   "execution_count": null,
   "metadata": {},
   "outputs": [],
   "source": []
  },
  {
   "cell_type": "code",
   "execution_count": null,
   "metadata": {},
   "outputs": [],
   "source": []
  },
  {
   "cell_type": "code",
   "execution_count": null,
   "metadata": {},
   "outputs": [],
   "source": []
  }
 ],
 "metadata": {
  "kernelspec": {
   "display_name": "Python 3",
   "language": "python",
   "name": "python3"
  },
  "language_info": {
   "codemirror_mode": {
    "name": "ipython",
    "version": 3
   },
   "file_extension": ".py",
   "mimetype": "text/x-python",
   "name": "python",
   "nbconvert_exporter": "python",
   "pygments_lexer": "ipython3",
   "version": "3.7.0"
  }
 },
 "nbformat": 4,
 "nbformat_minor": 2
}

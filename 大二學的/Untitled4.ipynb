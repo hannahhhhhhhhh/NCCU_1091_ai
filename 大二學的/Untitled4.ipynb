{
 "cells": [
  {
   "cell_type": "code",
   "execution_count": null,
   "metadata": {},
   "outputs": [],
   "source": [
    "4\n",
    "lara-98@codeta.com\n",
    "Shasta543@gmail.com\n",
    "britts_54@codeta.ml\n",
    "sharry___10@yahoo.com.tw"
   ]
  },
  {
   "cell_type": "code",
   "execution_count": 6,
   "metadata": {},
   "outputs": [
    {
     "name": "stdout",
     "output_type": "stream",
     "text": [
      "4\n",
      "lara-98@codeta.com\n",
      "['lara-98', 'codeta', 'com']\n",
      "Shasta543@gmail.com\n",
      "['Shasta543', 'gmail', 'com']\n",
      "britts_54@codeta.ml\n",
      "['britts_54', 'codeta', 'ml']\n",
      "sharry___10@yahoo.com.tw\n",
      "['sharry___10', 'yahoo', 'com', 'tw']\n",
      "主要 [['lara-98', 'codeta', 'com'], ['Shasta543', 'gmail', 'com'], ['britts_54', 'codeta', 'ml'], ['sharry___10', 'yahoo', 'com', 'tw']]\n"
     ]
    }
   ],
   "source": [
    "time=int(input())\n",
    "userName=[]\n",
    "info=[]\n",
    "List=[]\n",
    "for each in range(time):\n",
    "    info=input().split(\"@\")\n",
    "    \n",
    "    first,last=info[0],info[1]\n",
    "    firstList=[first]\n",
    "    lastList=last.split(\".\")\n",
    "\n",
    "    \n",
    "    inf=firstList+lastList\n",
    "    List.append(inf)\n",
    "\n",
    "# print(\"主要\",List)\n",
    "\n"
   ]
  },
  {
   "cell_type": "code",
   "execution_count": 15,
   "metadata": {},
   "outputs": [
    {
     "data": {
      "text/plain": [
       "[['lara-98', 'codeta', 'com'],\n",
       " ['Shasta543', 'gmail', 'com'],\n",
       " ['britts_54', 'codeta', 'ml'],\n",
       " ['sharry___10', 'yahoo', 'com', 'tw']]"
      ]
     },
     "execution_count": 15,
     "metadata": {},
     "output_type": "execute_result"
    }
   ],
   "source": [
    "List\n"
   ]
  },
  {
   "cell_type": "code",
   "execution_count": 33,
   "metadata": {},
   "outputs": [],
   "source": [
    "def scarything(zzz):\n",
    "    for i in zzz:\n",
    "        if (i.islower() or i.isdigit() or i==\"-\" or i==\"_\"):\n",
    "            pass\n",
    "        else:\n",
    "            return False\n",
    "    return True"
   ]
  },
  {
   "cell_type": "code",
   "execution_count": 40,
   "metadata": {},
   "outputs": [],
   "source": [
    "def scarything2(zzz):\n",
    "    for j in zzz:\n",
    "        if j.islower() or j.isdigit():\n",
    "            pass\n",
    "        else:\n",
    "            return False\n",
    "    return True"
   ]
  },
  {
   "cell_type": "code",
   "execution_count": 46,
   "metadata": {
    "scrolled": true
   },
   "outputs": [
    {
     "name": "stdout",
     "output_type": "stream",
     "text": [
      "Valid\n",
      "Invalid\n",
      "Valid\n",
      "Valid\n"
     ]
    }
   ],
   "source": [
    "for each in List:\n",
    "    if scarything(each[0]):\n",
    "        if scarything2(each[1]):\n",
    "            if len(each[2])<=3:\n",
    "                if len(each)<=3:         \n",
    "                    print(\"Valid\")\n",
    "                else:\n",
    "                    if len(each[3])==2: \n",
    "                        print(\"Valid\")\n",
    "                    else:                \n",
    "                        print(\"Invalid\",\"1\")\n",
    "            else:\n",
    "                print(\"Invalid\",\"2\")\n",
    "        else:\n",
    "            print(\"Invalid\")\n",
    "    else:\n",
    "        print(\"Invalid\")\n",
    "        "
   ]
  },
  {
   "cell_type": "code",
   "execution_count": null,
   "metadata": {},
   "outputs": [],
   "source": []
  },
  {
   "cell_type": "code",
   "execution_count": null,
   "metadata": {},
   "outputs": [],
   "source": []
  },
  {
   "cell_type": "code",
   "execution_count": 118,
   "metadata": {},
   "outputs": [
    {
     "name": "stdout",
     "output_type": "stream",
     "text": [
      "BLK\n",
      "Stephen Curry, 29.5, 6.1, 5.0, 0.3, 1\n",
      "Kyle Lowry, 15.4, 10.5, 4.6, 0.3, 1.4\n",
      "Andre Drummond, 19.3, 1.6, 15.9, 1.6, 0.9\n",
      "James Harden, 29.0, 7.5, 5.4, 0.6, 2.5\n",
      "LeBron James, 28.9, 6.9, 8.1, 0.9, 1.4\n",
      "-1\n",
      "The leaderboard of BLK\n",
      "[['Andre Drummond', ' 19.3', ' 1.6', ' 15.9', ' 1.6', ' 0.9'], ['LeBron James', ' 28.9', ' 6.9', ' 8.1', ' 0.9', ' 1.4'], ['James Harden', ' 29.0', ' 7.5', ' 5.4', ' 0.6', ' 2.5'], ['Stephen Curry', ' 29.5', ' 6.1', ' 5.0', ' 0.3', ' 1'], ['Kyle Lowry', ' 15.4', ' 10.5', ' 4.6', ' 0.3', ' 1.4']]\n",
      "Andre Drummond\n",
      "LeBron James\n",
      "James Harden\n",
      "Stephen Curry\n",
      "Kyle Lowry\n"
     ]
    }
   ],
   "source": [
    "\n",
    "# 如果是PTS就比較位置一的資料...\n",
    "title=input()\n",
    "# title==\"PTS\"\n",
    "if title==\"PTS\":\n",
    "    ttitle=1\n",
    "elif title==\"AST\":\n",
    "    ttitle=2\n",
    "elif title==\"TRB\":\n",
    "    ttitle=3\n",
    "elif title==\"BLK\":\n",
    "    ttitle=4\n",
    "else:\n",
    "    ttitle=5\n",
    "# 做一個資料夾，每一個輸入值都是一個串列的內容\n",
    "datalist=[]\n",
    "data={}\n",
    "while True:\n",
    "    data=input()\n",
    "    if data==\"-1\":\n",
    "        break\n",
    "    else:\n",
    "#     print(data,type(data))\n",
    "        data=data.split(\",\")\n",
    "#     print(data,type(data))\n",
    "        datalist.append(data)\n",
    "print(\"The leaderboard of\",title)\n",
    "\n",
    "# print(datalist,type(datalist))\n",
    "# 碰到-1就不要再增資料了\n",
    "\n",
    "# 資料庫做好要開始比較了\n",
    "def getKey(item):\n",
    "    return -1*float(item[ttitle]),item[0]\n",
    "\n",
    "List=sorted(datalist,key=getKey)\n",
    "\n",
    "print(List)\n",
    "for item in List:\n",
    "    print(item[0])\n",
    "    \n",
    "\n",
    "# 再處理相同分數的問題\n",
    "# 輸出\n"
   ]
  },
  {
   "cell_type": "code",
   "execution_count": 1,
   "metadata": {},
   "outputs": [
    {
     "ename": "SyntaxError",
     "evalue": "invalid syntax (<ipython-input-1-78242f65677d>, line 2)",
     "output_type": "error",
     "traceback": [
      "\u001b[0;36m  File \u001b[0;32m\"<ipython-input-1-78242f65677d>\"\u001b[0;36m, line \u001b[0;32m2\u001b[0m\n\u001b[0;31m    Stephen Curry, 29.5, 6.1, 5.0, 0.3, 1\u001b[0m\n\u001b[0m                ^\u001b[0m\n\u001b[0;31mSyntaxError\u001b[0m\u001b[0;31m:\u001b[0m invalid syntax\n"
     ]
    }
   ],
   "source": [
    "BLK\n",
    "Stephen Curry, 29.5, 6.1, 5.0, 0.3, 1\n",
    "Kyle Lowry, 15.4, 10.5, 4.6, 0.3, 1.4\n",
    "Andre Drummond, 19.3, 1.6, 15.9, 1.6, 0.9\n",
    "James Harden, 29.0, 7.5, 5.4, 0.6, 2.5\n",
    "LeBron James, 28.9, 6.9, 8.1, 0.9, 1.4\n",
    "-1\n",
    "AST(助攻), TRB(籃板), BLK(火鍋), STL(抄截)"
   ]
  },
  {
   "cell_type": "code",
   "execution_count": 115,
   "metadata": {},
   "outputs": [
    {
     "name": "stdout",
     "output_type": "stream",
     "text": [
      "Stephen Curry\n",
      "James Harden\n",
      "LeBron James\n",
      "Andre Drummond\n",
      "Kyle Lowry\n"
     ]
    }
   ],
   "source": [
    "def getKey(item):\n",
    "    return float(item[title])\n",
    "List=sorted(datalist,key=getKey)\n",
    "List=List[::-1]\n",
    "for item in List:\n",
    "    print(item[0])\n"
   ]
  },
  {
   "cell_type": "code",
   "execution_count": 92,
   "metadata": {},
   "outputs": [
    {
     "data": {
      "text/plain": [
       "[['Kyle Lowry', ' 15.4', ' 10.5', ' 4.6', ' 0.3', ' 1.4'],\n",
       " ['Andre Drummond', ' 19.3', ' 1.6', ' 15.9', ' 1.6', ' 0.9'],\n",
       " ['LeBron James', ' 28.9', ' 6.9', ' 8.1', ' 0.9', ' 1.4'],\n",
       " ['James Harden', ' 29.0', ' 7.5', ' 5.4', ' 0.6', ' 2.5'],\n",
       " ['Stephen Curry', ' 29.5', ' 6.1', ' 5.0', ' 0.3', ' 1']]"
      ]
     },
     "execution_count": 92,
     "metadata": {},
     "output_type": "execute_result"
    }
   ],
   "source": [
    "List"
   ]
  },
  {
   "cell_type": "code",
   "execution_count": 112,
   "metadata": {},
   "outputs": [
    {
     "name": "stdout",
     "output_type": "stream",
     "text": [
      "[['Kyle Lowry', ' 15.4', ' 10.5', ' 4.6', ' 0.3', ' 1.4'], ['Andre Drummond', ' 19.3', ' 1.6', ' 15.9', ' 1.6', ' 0.9'], ['LeBron James', ' 28.9', ' 6.9', ' 8.1', ' 0.9', ' 1.4'], ['James Harden', ' 29.0', ' 7.5', ' 5.4', ' 0.6', ' 2.5'], ['Stephen Curry', ' 29.5', ' 6.1', ' 5.0', ' 0.3', ' 1']]\n",
      "Kyle Lowry\n",
      "Andre Drummond\n",
      "LeBron James\n",
      "James Harden\n",
      "Stephen Curry\n"
     ]
    }
   ],
   "source": [
    "print(List[0:])\n",
    "for item in List:\n",
    "    print(item[0])"
   ]
  },
  {
   "cell_type": "code",
   "execution_count": 57,
   "metadata": {},
   "outputs": [
    {
     "name": "stdout",
     "output_type": "stream",
     "text": [
      "[' 29.5', ' 29.0', ' 28.9', ' 19.3', ' 15.4']\n"
     ]
    }
   ],
   "source": [
    "List=[]\n",
    "for each in datalist:\n",
    "#     print(each[title])\n",
    "    List.append(each[title])\n",
    "# print(List)\n",
    "List=sorted(List)\n",
    "Max=List[-1]\n",
    "\n",
    "print(List[::-1])\n"
   ]
  },
  {
   "cell_type": "code",
   "execution_count": 20,
   "metadata": {},
   "outputs": [
    {
     "data": {
      "text/plain": [
       "5"
      ]
     },
     "execution_count": 20,
     "metadata": {},
     "output_type": "execute_result"
    }
   ],
   "source": [
    "len(datalist)"
   ]
  },
  {
   "cell_type": "code",
   "execution_count": 2,
   "metadata": {},
   "outputs": [
    {
     "ename": "NameError",
     "evalue": "name 'lyric' is not defined",
     "output_type": "error",
     "traceback": [
      "\u001b[0;31m---------------------------------------------------------------------------\u001b[0m",
      "\u001b[0;31mNameError\u001b[0m                                 Traceback (most recent call last)",
      "\u001b[0;32m<ipython-input-2-2fe61e76772f>\u001b[0m in \u001b[0;36m<module>\u001b[0;34m()\u001b[0m\n\u001b[1;32m      2\u001b[0m \u001b[0;32mwith\u001b[0m \u001b[0mopen\u001b[0m\u001b[0;34m(\u001b[0m\u001b[0;34m\"NBA_rank.csv\"\u001b[0m\u001b[0;34m,\u001b[0m\u001b[0;34m\"w\"\u001b[0m\u001b[0;34m)\u001b[0m \u001b[0;32mas\u001b[0m \u001b[0mfOut\u001b[0m\u001b[0;34m:\u001b[0m\u001b[0;34m\u001b[0m\u001b[0m\n\u001b[1;32m      3\u001b[0m     \u001b[0mcsvOut\u001b[0m \u001b[0;34m=\u001b[0m \u001b[0mcsv\u001b[0m\u001b[0;34m.\u001b[0m\u001b[0mwriter\u001b[0m\u001b[0;34m(\u001b[0m\u001b[0mfOut\u001b[0m\u001b[0;34m)\u001b[0m\u001b[0;34m\u001b[0m\u001b[0m\n\u001b[0;32m----> 4\u001b[0;31m     \u001b[0mcsvOut\u001b[0m\u001b[0;34m.\u001b[0m\u001b[0mwriterows\u001b[0m\u001b[0;34m(\u001b[0m\u001b[0mlyric\u001b[0m\u001b[0;34m)\u001b[0m\u001b[0;34m\u001b[0m\u001b[0m\n\u001b[0m",
      "\u001b[0;31mNameError\u001b[0m: name 'lyric' is not defined"
     ]
    }
   ],
   "source": [
    "import csv\n",
    "with open(\"NBA_rank.csv\",\"w\") as fOut:\n",
    "    csvOut = csv.writer(fOut)\n",
    "    csvOut.writerows(lyric)"
   ]
  },
  {
   "cell_type": "code",
   "execution_count": null,
   "metadata": {},
   "outputs": [],
   "source": [
    "import csv\n",
    "datalist = [ ]\n",
    "with open(\"tw_population_density.csv\",\"r\") as fIn:\n",
    "    csvIn = csv.DictReader(fIn)\n",
    "    for line in csvIn:\n",
    "        datalist.append(line)"
   ]
  },
  {
   "cell_type": "code",
   "execution_count": null,
   "metadata": {},
   "outputs": [],
   "source": [
    "datalist"
   ]
  },
  {
   "cell_type": "code",
   "execution_count": null,
   "metadata": {},
   "outputs": [],
   "source": [
    "head=datalist[0]\n",
    "body=datalist[1:]"
   ]
  },
  {
   "cell_type": "code",
   "execution_count": null,
   "metadata": {},
   "outputs": [],
   "source": [
    "datalist[:3]"
   ]
  },
  {
   "cell_type": "code",
   "execution_count": null,
   "metadata": {},
   "outputs": [],
   "source": [
    "def getKey(item):\n",
    "    return int(item[-1])\n",
    "sorted(body,key=getKey,reverse=True)"
   ]
  },
  {
   "cell_type": "code",
   "execution_count": null,
   "metadata": {},
   "outputs": [],
   "source": [
    "datalist[:3][0][item]"
   ]
  },
  {
   "cell_type": "code",
   "execution_count": null,
   "metadata": {},
   "outputs": [],
   "source": []
  }
 ],
 "metadata": {
  "kernelspec": {
   "display_name": "Python 3",
   "language": "python",
   "name": "python3"
  },
  "language_info": {
   "codemirror_mode": {
    "name": "ipython",
    "version": 3
   },
   "file_extension": ".py",
   "mimetype": "text/x-python",
   "name": "python",
   "nbconvert_exporter": "python",
   "pygments_lexer": "ipython3",
   "version": "3.7.0"
  }
 },
 "nbformat": 4,
 "nbformat_minor": 2
}

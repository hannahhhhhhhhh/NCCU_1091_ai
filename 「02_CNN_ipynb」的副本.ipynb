{
  "nbformat": 4,
  "nbformat_minor": 0,
  "metadata": {
    "kernelspec": {
      "display_name": "Python 3",
      "language": "python",
      "name": "python3"
    },
    "language_info": {
      "codemirror_mode": {
        "name": "ipython",
        "version": 3
      },
      "file_extension": ".py",
      "mimetype": "text/x-python",
      "name": "python",
      "nbconvert_exporter": "python",
      "pygments_lexer": "ipython3",
      "version": "3.7.3"
    },
    "colab": {
      "name": "「02 CNN.ipynb」的副本",
      "provenance": []
    },
    "widgets": {
      "application/vnd.jupyter.widget-state+json": {
        "1aadfbf3da1843d9a3e18f5d5d121f93": {
          "model_module": "@jupyter-widgets/controls",
          "model_name": "VBoxModel",
          "state": {
            "_view_name": "VBoxView",
            "_dom_classes": [
              "widget-interact"
            ],
            "_model_name": "VBoxModel",
            "_view_module": "@jupyter-widgets/controls",
            "_model_module_version": "1.5.0",
            "_view_count": null,
            "_view_module_version": "1.5.0",
            "box_style": "",
            "layout": "IPY_MODEL_7ca0831f207a4b7e8942ae6799c47c21",
            "_model_module": "@jupyter-widgets/controls",
            "children": [
              "IPY_MODEL_862932fea3c4442496f58347e2e4ba12",
              "IPY_MODEL_9c9be99ee03f4efdb9e2a1e746f51297",
              "IPY_MODEL_672e772d06bb48f89f7d6d69dd9662b3"
            ]
          }
        },
        "7ca0831f207a4b7e8942ae6799c47c21": {
          "model_module": "@jupyter-widgets/base",
          "model_name": "LayoutModel",
          "state": {
            "_view_name": "LayoutView",
            "grid_template_rows": null,
            "right": null,
            "justify_content": null,
            "_view_module": "@jupyter-widgets/base",
            "overflow": null,
            "_model_module_version": "1.2.0",
            "_view_count": null,
            "flex_flow": null,
            "width": null,
            "min_width": null,
            "border": null,
            "align_items": null,
            "bottom": null,
            "_model_module": "@jupyter-widgets/base",
            "top": null,
            "grid_column": null,
            "overflow_y": null,
            "overflow_x": null,
            "grid_auto_flow": null,
            "grid_area": null,
            "grid_template_columns": null,
            "flex": null,
            "_model_name": "LayoutModel",
            "justify_items": null,
            "grid_row": null,
            "max_height": null,
            "align_content": null,
            "visibility": null,
            "align_self": null,
            "height": null,
            "min_height": null,
            "padding": null,
            "grid_auto_rows": null,
            "grid_gap": null,
            "max_width": null,
            "order": null,
            "_view_module_version": "1.2.0",
            "grid_template_areas": null,
            "object_position": null,
            "object_fit": null,
            "grid_auto_columns": null,
            "margin": null,
            "display": null,
            "left": null
          }
        },
        "862932fea3c4442496f58347e2e4ba12": {
          "model_module": "@jupyter-widgets/controls",
          "model_name": "IntSliderModel",
          "state": {
            "_view_name": "IntSliderView",
            "style": "IPY_MODEL_c4ee8ff0f3cf4e6a9f94fb7e57830be0",
            "_dom_classes": [],
            "description": "n",
            "step": 1,
            "_model_name": "IntSliderModel",
            "orientation": "horizontal",
            "max": 9999,
            "_view_module": "@jupyter-widgets/controls",
            "_model_module_version": "1.5.0",
            "value": 8306,
            "_view_count": null,
            "disabled": false,
            "_view_module_version": "1.5.0",
            "min": 0,
            "continuous_update": true,
            "readout_format": "d",
            "description_tooltip": null,
            "readout": true,
            "_model_module": "@jupyter-widgets/controls",
            "layout": "IPY_MODEL_dd2dc8e135e8458087d1009acf95be3e"
          }
        },
        "9c9be99ee03f4efdb9e2a1e746f51297": {
          "model_module": "@jupyter-widgets/controls",
          "model_name": "ButtonModel",
          "state": {
            "_view_name": "ButtonView",
            "style": "IPY_MODEL_d654a9ef69dd4438b551d7c2708090e8",
            "_dom_classes": [],
            "description": "Run Interact",
            "_model_name": "ButtonModel",
            "button_style": "",
            "_view_module": "@jupyter-widgets/controls",
            "_model_module_version": "1.5.0",
            "tooltip": "",
            "_view_count": null,
            "disabled": false,
            "_view_module_version": "1.5.0",
            "layout": "IPY_MODEL_91ce3a05b9b24b7f9b285dc3f3bb4cb5",
            "_model_module": "@jupyter-widgets/controls",
            "icon": ""
          }
        },
        "672e772d06bb48f89f7d6d69dd9662b3": {
          "model_module": "@jupyter-widgets/output",
          "model_name": "OutputModel",
          "state": {
            "_view_name": "OutputView",
            "msg_id": "",
            "_dom_classes": [],
            "_model_name": "OutputModel",
            "outputs": [
              {
                "output_type": "stream",
                "metadata": {
                  "tags": []
                },
                "text": "我可愛的 CNN 預測是 1\n",
                "stream": "stdout"
              },
              {
                "output_type": "display_data",
                "metadata": {
                  "tags": [],
                  "needs_background": "light"
                },
                "image/png": "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\n",
                "text/plain": "<Figure size 432x288 with 1 Axes>"
              }
            ],
            "_view_module": "@jupyter-widgets/output",
            "_model_module_version": "1.0.0",
            "_view_count": null,
            "_view_module_version": "1.0.0",
            "layout": "IPY_MODEL_0a07296220264bd7918d8a26a71eba94",
            "_model_module": "@jupyter-widgets/output"
          }
        },
        "c4ee8ff0f3cf4e6a9f94fb7e57830be0": {
          "model_module": "@jupyter-widgets/controls",
          "model_name": "SliderStyleModel",
          "state": {
            "_view_name": "StyleView",
            "handle_color": null,
            "_model_name": "SliderStyleModel",
            "description_width": "",
            "_view_module": "@jupyter-widgets/base",
            "_model_module_version": "1.5.0",
            "_view_count": null,
            "_view_module_version": "1.2.0",
            "_model_module": "@jupyter-widgets/controls"
          }
        },
        "dd2dc8e135e8458087d1009acf95be3e": {
          "model_module": "@jupyter-widgets/base",
          "model_name": "LayoutModel",
          "state": {
            "_view_name": "LayoutView",
            "grid_template_rows": null,
            "right": null,
            "justify_content": null,
            "_view_module": "@jupyter-widgets/base",
            "overflow": null,
            "_model_module_version": "1.2.0",
            "_view_count": null,
            "flex_flow": null,
            "width": null,
            "min_width": null,
            "border": null,
            "align_items": null,
            "bottom": null,
            "_model_module": "@jupyter-widgets/base",
            "top": null,
            "grid_column": null,
            "overflow_y": null,
            "overflow_x": null,
            "grid_auto_flow": null,
            "grid_area": null,
            "grid_template_columns": null,
            "flex": null,
            "_model_name": "LayoutModel",
            "justify_items": null,
            "grid_row": null,
            "max_height": null,
            "align_content": null,
            "visibility": null,
            "align_self": null,
            "height": null,
            "min_height": null,
            "padding": null,
            "grid_auto_rows": null,
            "grid_gap": null,
            "max_width": null,
            "order": null,
            "_view_module_version": "1.2.0",
            "grid_template_areas": null,
            "object_position": null,
            "object_fit": null,
            "grid_auto_columns": null,
            "margin": null,
            "display": null,
            "left": null
          }
        },
        "d654a9ef69dd4438b551d7c2708090e8": {
          "model_module": "@jupyter-widgets/controls",
          "model_name": "ButtonStyleModel",
          "state": {
            "_view_name": "StyleView",
            "_model_name": "ButtonStyleModel",
            "_view_module": "@jupyter-widgets/base",
            "_model_module_version": "1.5.0",
            "_view_count": null,
            "button_color": null,
            "font_weight": "",
            "_view_module_version": "1.2.0",
            "_model_module": "@jupyter-widgets/controls"
          }
        },
        "91ce3a05b9b24b7f9b285dc3f3bb4cb5": {
          "model_module": "@jupyter-widgets/base",
          "model_name": "LayoutModel",
          "state": {
            "_view_name": "LayoutView",
            "grid_template_rows": null,
            "right": null,
            "justify_content": null,
            "_view_module": "@jupyter-widgets/base",
            "overflow": null,
            "_model_module_version": "1.2.0",
            "_view_count": null,
            "flex_flow": null,
            "width": null,
            "min_width": null,
            "border": null,
            "align_items": null,
            "bottom": null,
            "_model_module": "@jupyter-widgets/base",
            "top": null,
            "grid_column": null,
            "overflow_y": null,
            "overflow_x": null,
            "grid_auto_flow": null,
            "grid_area": null,
            "grid_template_columns": null,
            "flex": null,
            "_model_name": "LayoutModel",
            "justify_items": null,
            "grid_row": null,
            "max_height": null,
            "align_content": null,
            "visibility": null,
            "align_self": null,
            "height": null,
            "min_height": null,
            "padding": null,
            "grid_auto_rows": null,
            "grid_gap": null,
            "max_width": null,
            "order": null,
            "_view_module_version": "1.2.0",
            "grid_template_areas": null,
            "object_position": null,
            "object_fit": null,
            "grid_auto_columns": null,
            "margin": null,
            "display": null,
            "left": null
          }
        },
        "0a07296220264bd7918d8a26a71eba94": {
          "model_module": "@jupyter-widgets/base",
          "model_name": "LayoutModel",
          "state": {
            "_view_name": "LayoutView",
            "grid_template_rows": null,
            "right": null,
            "justify_content": null,
            "_view_module": "@jupyter-widgets/base",
            "overflow": null,
            "_model_module_version": "1.2.0",
            "_view_count": null,
            "flex_flow": null,
            "width": null,
            "min_width": null,
            "border": null,
            "align_items": null,
            "bottom": null,
            "_model_module": "@jupyter-widgets/base",
            "top": null,
            "grid_column": null,
            "overflow_y": null,
            "overflow_x": null,
            "grid_auto_flow": null,
            "grid_area": null,
            "grid_template_columns": null,
            "flex": null,
            "_model_name": "LayoutModel",
            "justify_items": null,
            "grid_row": null,
            "max_height": null,
            "align_content": null,
            "visibility": null,
            "align_self": null,
            "height": null,
            "min_height": null,
            "padding": null,
            "grid_auto_rows": null,
            "grid_gap": null,
            "max_width": null,
            "order": null,
            "_view_module_version": "1.2.0",
            "grid_template_areas": null,
            "object_position": null,
            "object_fit": null,
            "grid_auto_columns": null,
            "margin": null,
            "display": null,
            "left": null
          }
        }
      }
    }
  },
  "cells": [
    {
      "cell_type": "code",
      "metadata": {
        "id": "aD_QeVx2-uCQ"
      },
      "source": [
        "%matplotlib inline\n",
        "\n",
        "import numpy as np\n",
        "import matplotlib.pyplot as plt\n",
        "import pandas as pd"
      ],
      "execution_count": 5,
      "outputs": []
    },
    {
      "cell_type": "code",
      "metadata": {
        "id": "PpWfppll-uCW"
      },
      "source": [
        "from tensorflow.keras.utils import to_categorical \n",
        "from tensorflow.keras.models import Sequential #\n",
        "from tensorflow.keras.layers import Conv2D, MaxPooling2D #重頭戲，3*3矩陣為2D所以是conv2D，如果是向量的話就是con1D\n",
        "from tensorflow.keras.layers import Dense, Flatten #flatten拉平？\n",
        "from tensorflow.keras.optimizers import SGD "
      ],
      "execution_count": 9,
      "outputs": []
    },
    {
      "cell_type": "markdown",
      "metadata": {
        "id": "i0DqS7OeAJrr"
      },
      "source": [
        ""
      ]
    },
    {
      "cell_type": "markdown",
      "metadata": {
        "id": "xMQy2Cbn-uCZ"
      },
      "source": [
        "### 1. 讀入 MNSIT 數據集"
      ]
    },
    {
      "cell_type": "code",
      "metadata": {
        "id": "jh75KxQj-uCa"
      },
      "source": [
        "from tensorflow.keras.datasets import mnist "
      ],
      "execution_count": 10,
      "outputs": []
    },
    {
      "cell_type": "code",
      "metadata": {
        "id": "2bhCPyJ5AXNE"
      },
      "source": [
        ""
      ],
      "execution_count": null,
      "outputs": []
    },
    {
      "cell_type": "code",
      "metadata": {
        "id": "PFiQ2Bdr-uCd",
        "outputId": "629f7a18-8bb4-4a7a-8299-854819326048",
        "colab": {
          "base_uri": "https://localhost:8080/",
          "height": 131
        }
      },
      "source": [
        "(x_train, y_train), (x_test, y_test) = mnist.load_data() √"
      ],
      "execution_count": 11,
      "outputs": [
        {
          "output_type": "error",
          "ename": "SyntaxError",
          "evalue": "ignored",
          "traceback": [
            "\u001b[0;36m  File \u001b[0;32m\"<ipython-input-11-5bb7284a1225>\"\u001b[0;36m, line \u001b[0;32m1\u001b[0m\n\u001b[0;31m    (x_train, y_train), (x_test, y_test) = mnist.load_data() √\u001b[0m\n\u001b[0m                                                             ^\u001b[0m\n\u001b[0;31mSyntaxError\u001b[0m\u001b[0;31m:\u001b[0m invalid character in identifier\n"
          ]
        }
      ]
    },
    {
      "cell_type": "markdown",
      "metadata": {
        "id": "SsWVsiwu-uCm"
      },
      "source": [
        "### 2. 資料整理"
      ]
    },
    {
      "cell_type": "markdown",
      "metadata": {
        "id": "TKeXO4AS-uCn"
      },
      "source": [
        "### Channel\n",
        "\n",
        "CNN 要注意一張圖有多少個 channel, 開始我們因為只有灰階, 所以只有一個 channel。因此我們要轉一下我們的資料格式:\n",
        "\n",
        "    (28,28) --> (28, 28, 1)"
      ]
    },
    {
      "cell_type": "code",
      "metadata": {
        "id": "KS-zYXpf-uCo"
      },
      "source": [
        "x_train = x_train.reshape(60000, 28, 28, 1) / 255 #三原色-->三個channel（三個矩陣）-->(60000,28,28,3)"
      ],
      "execution_count": 12,
      "outputs": []
    },
    {
      "cell_type": "code",
      "metadata": {
        "id": "yti-WgQA-uCr"
      },
      "source": [
        "x_test = x_test.reshape(10000, 28, 28, 1) / 255"
      ],
      "execution_count": 13,
      "outputs": []
    },
    {
      "cell_type": "code",
      "metadata": {
        "id": "ACOQYDip-uCv"
      },
      "source": [
        "y_train = to_categorical(y_train, 10)\n",
        "y_test = to_categorical(y_test, 10)"
      ],
      "execution_count": 14,
      "outputs": []
    },
    {
      "cell_type": "markdown",
      "metadata": {
        "id": "qv_75X7z-uC1"
      },
      "source": [
        "### 3. step 1: 打造函數學習機 (CNN)"
      ]
    },
    {
      "cell_type": "code",
      "metadata": {
        "id": "62swGdjO-uC2"
      },
      "source": [
        "model = Sequential()"
      ],
      "execution_count": 18,
      "outputs": []
    },
    {
      "cell_type": "code",
      "metadata": {
        "id": "RpHtNwH4-uC5"
      },
      "source": [
        "model.add(Conv2D(8, (3,3), padding='same',\n",
        "                input_shape=(28,28,1),\n",
        "                activation='relu'))"
      ],
      "execution_count": 19,
      "outputs": []
    },
    {
      "cell_type": "code",
      "metadata": {
        "id": "uyA9IRiy-uC8"
      },
      "source": [
        "model.add(MaxPooling2D(pool_size=(2,2)))"
      ],
      "execution_count": 20,
      "outputs": []
    },
    {
      "cell_type": "code",
      "metadata": {
        "id": "jdebAAJn-uDC"
      },
      "source": [
        "model.add(Conv2D(16, (3,3), padding='same',\n",
        "                activation='relu'))"
      ],
      "execution_count": 21,
      "outputs": []
    },
    {
      "cell_type": "code",
      "metadata": {
        "id": "qYdYb07Y-uDF"
      },
      "source": [
        "model.add(MaxPooling2D(pool_size=(2,2)))"
      ],
      "execution_count": 22,
      "outputs": []
    },
    {
      "cell_type": "code",
      "metadata": {
        "id": "fPcVtNPX-uDI"
      },
      "source": [
        "\n",
        "model.add(Conv2D(32, (3,3), padding='same',\n",
        "                activation='relu'))"
      ],
      "execution_count": 24,
      "outputs": []
    },
    {
      "cell_type": "code",
      "metadata": {
        "id": "VHpOx9IA-uDM"
      },
      "source": [
        "model.add(MaxPooling2D(pool_size=(2,2)))"
      ],
      "execution_count": 26,
      "outputs": []
    },
    {
      "cell_type": "code",
      "metadata": {
        "id": "-zgFIitz-uDP"
      },
      "source": [
        "model.add(Flatten()) #把自分板拉平"
      ],
      "execution_count": 29,
      "outputs": []
    },
    {
      "cell_type": "code",
      "metadata": {
        "id": "lK-08x1y-uDU"
      },
      "source": [
        "model.add(Dense(20, activation='relu'))"
      ],
      "execution_count": 30,
      "outputs": []
    },
    {
      "cell_type": "code",
      "metadata": {
        "id": "umwjeYdm-uDW"
      },
      "source": [
        "model.add(Dense(10, activation='softmax')) #輸出一定要十個"
      ],
      "execution_count": 32,
      "outputs": []
    },
    {
      "cell_type": "markdown",
      "metadata": {
        "id": "KZqCbcZb-uDZ"
      },
      "source": [
        "#### 看一下我們的神經網路"
      ]
    },
    {
      "cell_type": "code",
      "metadata": {
        "id": "5MQdQhgK-uDa",
        "outputId": "c4b5474c-b3d7-4c6f-e311-c2ff33ffba8d",
        "colab": {
          "base_uri": "https://localhost:8080/"
        }
      },
      "source": [
        "model.summary() #8個3*3的filter，總共有(3*3+1)*8=80個權重"
      ],
      "execution_count": 33,
      "outputs": [
        {
          "output_type": "stream",
          "text": [
            "Model: \"sequential\"\n",
            "_________________________________________________________________\n",
            "Layer (type)                 Output Shape              Param #   \n",
            "=================================================================\n",
            "conv2d (Conv2D)              (None, 28, 28, 8)         80        \n",
            "_________________________________________________________________\n",
            "max_pooling2d (MaxPooling2D) (None, 14, 14, 8)         0         \n",
            "_________________________________________________________________\n",
            "conv2d_1 (Conv2D)            (None, 14, 14, 16)        1168      \n",
            "_________________________________________________________________\n",
            "max_pooling2d_1 (MaxPooling2 (None, 7, 7, 16)          0         \n",
            "_________________________________________________________________\n",
            "conv2d_2 (Conv2D)            (None, 7, 7, 64)          9280      \n",
            "_________________________________________________________________\n",
            "conv2d_3 (Conv2D)            (None, 7, 7, 32)          18464     \n",
            "_________________________________________________________________\n",
            "max_pooling2d_2 (MaxPooling2 (None, 3, 3, 32)          0         \n",
            "_________________________________________________________________\n",
            "max_pooling2d_3 (MaxPooling2 (None, 1, 1, 32)          0         \n",
            "_________________________________________________________________\n",
            "flatten (Flatten)            (None, 32)                0         \n",
            "_________________________________________________________________\n",
            "dense (Dense)                (None, 54)                1782      \n",
            "_________________________________________________________________\n",
            "flatten_1 (Flatten)          (None, 54)                0         \n",
            "_________________________________________________________________\n",
            "dense_1 (Dense)              (None, 20)                1100      \n",
            "_________________________________________________________________\n",
            "dense_2 (Dense)              (None, 10)                210       \n",
            "_________________________________________________________________\n",
            "dense_3 (Dense)              (None, 10)                110       \n",
            "=================================================================\n",
            "Total params: 32,194\n",
            "Trainable params: 32,194\n",
            "Non-trainable params: 0\n",
            "_________________________________________________________________\n"
          ],
          "name": "stdout"
        }
      ]
    },
    {
      "cell_type": "markdown",
      "metadata": {
        "id": "Y10skU2i-uDg"
      },
      "source": [
        "#### 組裝"
      ]
    },
    {
      "cell_type": "code",
      "metadata": {
        "id": "9kMm4UH1-uDh"
      },
      "source": [
        "model.compile(loss='mse', optimizer=SGD(lr=0.087),\n",
        "             metrics=['accuracy'])"
      ],
      "execution_count": 34,
      "outputs": []
    },
    {
      "cell_type": "markdown",
      "metadata": {
        "id": "Shxeq6Jx-uDm"
      },
      "source": [
        "### 4. step 2: fit"
      ]
    },
    {
      "cell_type": "code",
      "metadata": {
        "scrolled": true,
        "id": "1ce55kra-uDn",
        "outputId": "6f37bf54-52aa-41e0-e5c6-115d3c553e2b",
        "colab": {
          "base_uri": "https://localhost:8080/"
        }
      },
      "source": [
        "model.fit(x_train, y_train, batch_size=128, epochs=12)"
      ],
      "execution_count": 36,
      "outputs": [
        {
          "output_type": "stream",
          "text": [
            "Epoch 1/12\n",
            "469/469 [==============================] - 41s 87ms/step - loss: 0.0900 - accuracy: 0.1286\n",
            "Epoch 2/12\n",
            "469/469 [==============================] - 40s 85ms/step - loss: 0.0900 - accuracy: 0.1130\n",
            "Epoch 3/12\n",
            "469/469 [==============================] - 40s 85ms/step - loss: 0.0900 - accuracy: 0.1124\n",
            "Epoch 4/12\n",
            "469/469 [==============================] - 40s 85ms/step - loss: 0.0900 - accuracy: 0.1124\n",
            "Epoch 5/12\n",
            "469/469 [==============================] - 40s 84ms/step - loss: 0.0900 - accuracy: 0.1124\n",
            "Epoch 6/12\n",
            "469/469 [==============================] - 39s 84ms/step - loss: 0.0900 - accuracy: 0.1124\n",
            "Epoch 7/12\n",
            "469/469 [==============================] - 40s 85ms/step - loss: 0.0900 - accuracy: 0.1124\n",
            "Epoch 8/12\n",
            "469/469 [==============================] - 41s 88ms/step - loss: 0.0900 - accuracy: 0.1124\n",
            "Epoch 9/12\n",
            "469/469 [==============================] - 39s 83ms/step - loss: 0.0899 - accuracy: 0.1124\n",
            "Epoch 10/12\n",
            "469/469 [==============================] - 39s 83ms/step - loss: 0.0899 - accuracy: 0.1124\n",
            "Epoch 11/12\n",
            "469/469 [==============================] - 40s 85ms/step - loss: 0.0899 - accuracy: 0.1124\n",
            "Epoch 12/12\n",
            "469/469 [==============================] - 39s 84ms/step - loss: 0.0899 - accuracy: 0.1124\n"
          ],
          "name": "stdout"
        },
        {
          "output_type": "execute_result",
          "data": {
            "text/plain": [
              "<tensorflow.python.keras.callbacks.History at 0x7fe01666d550>"
            ]
          },
          "metadata": {
            "tags": []
          },
          "execution_count": 36
        }
      ]
    },
    {
      "cell_type": "markdown",
      "metadata": {
        "id": "A2wBtUCr-uDq"
      },
      "source": [
        "### Step 3. 預測"
      ]
    },
    {
      "cell_type": "code",
      "metadata": {
        "id": "43PRr1mm-uDr",
        "outputId": "74941612-2802-473e-a261-cb48a4bac9d0",
        "colab": {
          "base_uri": "https://localhost:8080/"
        }
      },
      "source": [
        "result = model.predict_classes(x_test)"
      ],
      "execution_count": 37,
      "outputs": [
        {
          "output_type": "stream",
          "text": [
            "WARNING:tensorflow:From <ipython-input-37-63af5bb2f9b6>:1: Sequential.predict_classes (from tensorflow.python.keras.engine.sequential) is deprecated and will be removed after 2021-01-01.\n",
            "Instructions for updating:\n",
            "Please use instead:* `np.argmax(model.predict(x), axis=-1)`,   if your model does multi-class classification   (e.g. if it uses a `softmax` last-layer activation).* `(model.predict(x) > 0.5).astype(\"int32\")`,   if your model does binary classification   (e.g. if it uses a `sigmoid` last-layer activation).\n"
          ],
          "name": "stdout"
        }
      ]
    },
    {
      "cell_type": "markdown",
      "metadata": {
        "id": "GoBXar8o-uDu"
      },
      "source": [
        "### 看看測試資料表現如何"
      ]
    },
    {
      "cell_type": "code",
      "metadata": {
        "id": "gHuYlMMk-uDv",
        "outputId": "52919eaf-2a4f-4d84-c56f-91079028d1aa",
        "colab": {
          "base_uri": "https://localhost:8080/"
        }
      },
      "source": [
        "loss, acc = model.evaluate(x_test, y_test)"
      ],
      "execution_count": 38,
      "outputs": [
        {
          "output_type": "stream",
          "text": [
            "313/313 [==============================] - 3s 11ms/step - loss: 0.0899 - accuracy: 0.1135\n"
          ],
          "name": "stdout"
        }
      ]
    },
    {
      "cell_type": "code",
      "metadata": {
        "id": "h1-AZa4t-uDz",
        "outputId": "6a219d21-e3ab-4760-fb4b-6c95ff7dadba",
        "colab": {
          "base_uri": "https://localhost:8080/"
        }
      },
      "source": [
        "print(f'測試資料的正確率為 {acc*100:.2f}%')"
      ],
      "execution_count": 39,
      "outputs": [
        {
          "output_type": "stream",
          "text": [
            "測試資料的正確率為 11.35%\n"
          ],
          "name": "stdout"
        }
      ]
    },
    {
      "cell_type": "code",
      "metadata": {
        "id": "s-8hOKCW-uD3"
      },
      "source": [
        "def my_predict(n):\n",
        "    print('我可愛的 CNN 預測是', result[n])\n",
        "    X = x_test[n].reshape(28,28)\n",
        "    plt.imshow(X, cmap='Greys')"
      ],
      "execution_count": 40,
      "outputs": []
    },
    {
      "cell_type": "code",
      "metadata": {
        "id": "2fGdCvQ8-uD7"
      },
      "source": [
        "from ipywidgets import interact_manual"
      ],
      "execution_count": 41,
      "outputs": []
    },
    {
      "cell_type": "code",
      "metadata": {
        "id": "kyYFumg7-uEC",
        "outputId": "8444e452-9812-42f9-f5f8-7ee6e0ddb51c",
        "colab": {
          "base_uri": "https://localhost:8080/",
          "height": 346,
          "referenced_widgets": [
            "1aadfbf3da1843d9a3e18f5d5d121f93",
            "7ca0831f207a4b7e8942ae6799c47c21",
            "862932fea3c4442496f58347e2e4ba12",
            "9c9be99ee03f4efdb9e2a1e746f51297",
            "672e772d06bb48f89f7d6d69dd9662b3",
            "c4ee8ff0f3cf4e6a9f94fb7e57830be0",
            "dd2dc8e135e8458087d1009acf95be3e",
            "d654a9ef69dd4438b551d7c2708090e8",
            "91ce3a05b9b24b7f9b285dc3f3bb4cb5",
            "0a07296220264bd7918d8a26a71eba94"
          ]
        }
      },
      "source": [
        "interact_manual(my_predict, n=(0, 9999));"
      ],
      "execution_count": 42,
      "outputs": [
        {
          "output_type": "display_data",
          "data": {
            "application/vnd.jupyter.widget-view+json": {
              "model_id": "1aadfbf3da1843d9a3e18f5d5d121f93",
              "version_minor": 0,
              "version_major": 2
            },
            "text/plain": [
              "interactive(children=(IntSlider(value=4999, description='n', max=9999), Button(description='Run Interact', sty…"
            ]
          },
          "metadata": {
            "tags": []
          }
        }
      ]
    },
    {
      "cell_type": "markdown",
      "metadata": {
        "id": "in2D3xae-uEG"
      },
      "source": [
        "### 把我們的 model 存起來"
      ]
    },
    {
      "cell_type": "code",
      "metadata": {
        "id": "GnHdS7aR-uEG"
      },
      "source": [
        "model.save('myCNNmodel.h5')"
      ],
      "execution_count": 43,
      "outputs": []
    },
    {
      "cell_type": "code",
      "metadata": {
        "id": "jPEsKN22IABv"
      },
      "source": [
        ""
      ],
      "execution_count": null,
      "outputs": []
    }
  ]
}